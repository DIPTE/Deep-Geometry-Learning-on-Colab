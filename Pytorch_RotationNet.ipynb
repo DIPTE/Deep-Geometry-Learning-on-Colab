{
  "nbformat": 4,
  "nbformat_minor": 0,
  "metadata": {
    "colab": {
      "name": "Pytorch_RotationNet.ipynb",
      "provenance": [],
      "collapsed_sections": [],
      "machine_shape": "hm",
      "mount_file_id": "1EQOSk8S8CbnmJzpiiU3NZCEBqaRs_vX7",
      "authorship_tag": "ABX9TyMqPaFjHMChVwoU68/17X71",
      "include_colab_link": true
    },
    "kernelspec": {
      "name": "python3",
      "display_name": "Python 3"
    },
    "accelerator": "GPU"
  },
  "cells": [
    {
      "cell_type": "markdown",
      "metadata": {
        "id": "view-in-github",
        "colab_type": "text"
      },
      "source": [
        "<a href=\"https://colab.research.google.com/github/DIPTE/Deep-Geometry-Learning-on-Colab/blob/master/Pytorch_RotationNet.ipynb\" target=\"_parent\"><img src=\"https://colab.research.google.com/assets/colab-badge.svg\" alt=\"Open In Colab\"/></a>"
      ]
    },
    {
      "cell_type": "code",
      "metadata": {
        "id": "Eyw3d-o-_XE-",
        "colab_type": "code",
        "colab": {}
      },
      "source": [
        "!ls"
      ],
      "execution_count": null,
      "outputs": []
    },
    {
      "cell_type": "code",
      "metadata": {
        "id": "lZMuJaR_UyqD",
        "colab_type": "code",
        "colab": {}
      },
      "source": [
        "!nvcc -V"
      ],
      "execution_count": null,
      "outputs": []
    },
    {
      "cell_type": "code",
      "metadata": {
        "id": "dL4BkP6aAFFi",
        "colab_type": "code",
        "colab": {}
      },
      "source": [
        "import os\n",
        "os.chdir('/content/drive/My Drive/pytorch-rotationnet/')#切换工作目录"
      ],
      "execution_count": null,
      "outputs": []
    },
    {
      "cell_type": "code",
      "metadata": {
        "id": "w8g8L8VnAI9a",
        "colab_type": "code",
        "colab": {}
      },
      "source": [
        "!git clone https://github.com/kanezaki/pytorch-rotationnet.git"
      ],
      "execution_count": null,
      "outputs": []
    },
    {
      "cell_type": "code",
      "metadata": {
        "id": "7d8_PQdzAbs1",
        "colab_type": "code",
        "colab": {}
      },
      "source": [
        "!cd pytorch-rotationnet/ && bash get_modelnet_png.sh"
      ],
      "execution_count": null,
      "outputs": []
    },
    {
      "cell_type": "code",
      "metadata": {
        "id": "oUKqp9WLRZp_",
        "colab_type": "code",
        "colab": {}
      },
      "source": [
        "!cd pytorch-rotationnet/ && wget https://data.airc.aist.go.jp/kanezaki.asako/data/modelnet40v2png_ori4.tar; tar xvf modelnet40v2png_ori4.tar  "
      ],
      "execution_count": null,
      "outputs": []
    },
    {
      "cell_type": "code",
      "metadata": {
        "id": "Hu59vK6rcVSb",
        "colab_type": "code",
        "colab": {}
      },
      "source": [
        "!sudo bash link_images.sh ./modelnet40v2png_ori4 ./ModelNet40_20"
      ],
      "execution_count": null,
      "outputs": []
    },
    {
      "cell_type": "code",
      "metadata": {
        "id": "Jw-0PNWIj4_r",
        "colab_type": "code",
        "colab": {}
      },
      "source": [
        "!rm -rf ModelNet40_20"
      ],
      "execution_count": null,
      "outputs": []
    },
    {
      "cell_type": "code",
      "metadata": {
        "id": "6nhhwOONkBpH",
        "colab_type": "code",
        "colab": {}
      },
      "source": [
        "!rm -rf modelnet40v1png"
      ],
      "execution_count": null,
      "outputs": []
    },
    {
      "cell_type": "code",
      "metadata": {
        "id": "9prgDgDFTmRC",
        "colab_type": "code",
        "colab": {}
      },
      "source": [
        "!cd pytorch-rotationnet/ && rm -rf modelnet40v2png"
      ],
      "execution_count": null,
      "outputs": []
    },
    {
      "cell_type": "code",
      "metadata": {
        "id": "o4KyrPXoWSTx",
        "colab_type": "code",
        "colab": {}
      },
      "source": [
        "!cd pytorch-rotationnet/ && tar xvf modelnet40v2png.tar"
      ],
      "execution_count": null,
      "outputs": []
    }
  ]
}