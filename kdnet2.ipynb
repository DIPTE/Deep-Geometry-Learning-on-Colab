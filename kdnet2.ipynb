{
  "nbformat": 4,
  "nbformat_minor": 0,
  "metadata": {
    "colab": {
      "name": "kdnet.ipynb",
      "provenance": [],
      "collapsed_sections": [],
      "machine_shape": "hm",
      "mount_file_id": "1XoR9XDxcFRIy_8-pPnWegLua-7Rd_EoU",
      "authorship_tag": "ABX9TyOfASti5TUC91M6bX2QoLgj",
      "include_colab_link": true
    },
    "kernelspec": {
      "name": "python3",
      "display_name": "Python 3"
    },
    "accelerator": "GPU"
  },
  "cells": [
    {
      "cell_type": "markdown",
      "metadata": {
        "id": "view-in-github",
        "colab_type": "text"
      },
      "source": [
        "<a href=\"https://colab.research.google.com/github/DIPTE/Deep-Geometry-Learning-on-Colab/blob/master/kdnet2.ipynb\" target=\"_parent\"><img src=\"https://colab.research.google.com/assets/colab-badge.svg\" alt=\"Open In Colab\"/></a>"
      ]
    },
    {
      "cell_type": "code",
      "metadata": {
        "id": "GVX9RCuf6k5B",
        "colab_type": "code",
        "colab": {}
      },
      "source": [
        "!ls"
      ],
      "execution_count": null,
      "outputs": []
    },
    {
      "cell_type": "code",
      "metadata": {
        "id": "pJq3mdG87Vi3",
        "colab_type": "code",
        "colab": {}
      },
      "source": [
        "import os\n",
        "os.chdir('/content/drive/My Drive')#切换工作目录"
      ],
      "execution_count": 2,
      "outputs": []
    },
    {
      "cell_type": "code",
      "metadata": {
        "id": "XIbfOLEn7Edi",
        "colab_type": "code",
        "colab": {}
      },
      "source": [
        "!git clone https://github.com/fxia22/kdnet.pytorch.git"
      ],
      "execution_count": null,
      "outputs": []
    },
    {
      "cell_type": "code",
      "metadata": {
        "id": "vEX3P3a37jvU",
        "colab_type": "code",
        "colab": {}
      },
      "source": [
        "import os\n",
        "os.chdir('/content/drive/My Drive/kdnet.pytorch/')#切换工作目录"
      ],
      "execution_count": 7,
      "outputs": []
    },
    {
      "cell_type": "code",
      "metadata": {
        "id": "2m-wvatz7vrY",
        "colab_type": "code",
        "colab": {}
      },
      "source": [
        "!bash download.sh"
      ],
      "execution_count": null,
      "outputs": []
    },
    {
      "cell_type": "code",
      "metadata": {
        "id": "ujHDUi3v9Ofq",
        "colab_type": "code",
        "colab": {}
      },
      "source": [
        "!pip list"
      ],
      "execution_count": null,
      "outputs": []
    },
    {
      "cell_type": "code",
      "metadata": {
        "id": "5NSSX54L9Sl6",
        "colab_type": "code",
        "colab": {}
      },
      "source": [
        "!python train.py"
      ],
      "execution_count": null,
      "outputs": []
    },
    {
      "cell_type": "code",
      "metadata": {
        "id": "DGuGXxi4Hrfx",
        "colab_type": "code",
        "colab": {}
      },
      "source": [
        "!nvidia-smi"
      ],
      "execution_count": null,
      "outputs": []
    },
    {
      "cell_type": "code",
      "metadata": {
        "id": "xlByWvFnDlzb",
        "colab_type": "code",
        "colab": {}
      },
      "source": [
        "!python train_batch.py"
      ],
      "execution_count": null,
      "outputs": []
    },
    {
      "cell_type": "code",
      "metadata": {
        "id": "Ii-Pvj69-cm3",
        "colab_type": "code",
        "colab": {}
      },
      "source": [
        "!nvcc -V"
      ],
      "execution_count": null,
      "outputs": []
    },
    {
      "cell_type": "code",
      "metadata": {
        "id": "h-Quut1n-aAi",
        "colab_type": "code",
        "colab": {}
      },
      "source": [
        "!wget https://developer.nvidia.com/compute/cuda/9.0/Prod/local_installers/cuda-repo-ubuntu1604-9-0-local_9.0.176-1_amd64-deb\n",
        "!dpkg -i cuda-repo-ubuntu1604-9-0-local_9.0.176-1_amd64-deb\n",
        "!apt-key add /var/cuda-repo-9-0-local/7fa2af80.pub\n",
        "!apt-get update\n",
        "!apt-get install cuda=9.0.176-1"
      ],
      "execution_count": null,
      "outputs": []
    },
    {
      "cell_type": "code",
      "metadata": {
        "id": "D1be8O8mbNnp",
        "colab_type": "code",
        "colab": {}
      },
      "source": [
        "!wget https://developer.nvidia.com/compute/cuda/8.0/Prod2/local_installers/cuda-repo-ubuntu1604-8-0-local-ga2_8.0.61-1_amd64-deb\n",
        "!dpkg -i cuda-repo-ubuntu1604-8-0-local-ga2_8.0.61-1_amd64-deb\n",
        "!apt-get update\n",
        "!apt-get install cuda=8.0.61-1"
      ],
      "execution_count": null,
      "outputs": []
    },
    {
      "cell_type": "code",
      "metadata": {
        "id": "u6DwFYO8-nbn",
        "colab_type": "code",
        "colab": {}
      },
      "source": [
        "!cat /usr/local/cuda/version.txt"
      ],
      "execution_count": null,
      "outputs": []
    },
    {
      "cell_type": "code",
      "metadata": {
        "id": "l8ic8fY9EjmM",
        "colab_type": "code",
        "colab": {}
      },
      "source": [
        "!apt-get install gcc-5 g++-5\n",
        "!cd /usr/bin && sudo rm gcc-7 g++-7 gcc g++ && sudo ln gcc-5 gcc && sudo ln g++-5 g++\n",
        "!gcc --version\n",
        "!g++ --version\n",
        "!nvcc --version"
      ],
      "execution_count": null,
      "outputs": []
    },
    {
      "cell_type": "code",
      "metadata": {
        "id": "0i4SEEsw_RAG",
        "colab_type": "code",
        "colab": {}
      },
      "source": [
        "!pip install torch==0.3.1 torchvision==0.2.0 -f https://download.pytorch.org/whl/cu90/torch_stable.html"
      ],
      "execution_count": null,
      "outputs": []
    },
    {
      "cell_type": "code",
      "metadata": {
        "id": "PJ8LgwoYcQbZ",
        "colab_type": "code",
        "colab": {}
      },
      "source": [
        "!pip install http://download.pytorch.org/whl/cu80/torch-0.3.1-cp27-cp27mu-linux_x86_64.whl"
      ],
      "execution_count": null,
      "outputs": []
    },
    {
      "cell_type": "code",
      "metadata": {
        "id": "khCKx30eBHHD",
        "colab_type": "code",
        "colab": {}
      },
      "source": [
        "!pip install fastai==0.7.0 -i https://pypi.tuna.tsinghua.edu.cn/simple/"
      ],
      "execution_count": null,
      "outputs": []
    }
  ]
}