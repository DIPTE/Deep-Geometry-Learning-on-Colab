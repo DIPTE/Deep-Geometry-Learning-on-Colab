{
  "nbformat": 4,
  "nbformat_minor": 0,
  "metadata": {
    "colab": {
      "name": "Grid_GCN.ipynb",
      "provenance": [],
      "machine_shape": "hm",
      "mount_file_id": "1dverBsb_iYdSLXvC2Ezx0L59qOUQSxsW",
      "authorship_tag": "ABX9TyOajS+ULwfGVXRy4fjE62Ch",
      "include_colab_link": true
    },
    "kernelspec": {
      "name": "python3",
      "display_name": "Python 3"
    },
    "accelerator": "GPU"
  },
  "cells": [
    {
      "cell_type": "markdown",
      "metadata": {
        "id": "view-in-github",
        "colab_type": "text"
      },
      "source": [
        "<a href=\"https://colab.research.google.com/github/DIPTE/Deep-Geometry-Learning-on-Colab/blob/master/Grid_GCN.ipynb\" target=\"_parent\"><img src=\"https://colab.research.google.com/assets/colab-badge.svg\" alt=\"Open In Colab\"/></a>"
      ]
    },
    {
      "cell_type": "code",
      "metadata": {
        "id": "m1ckP8itb75O",
        "colab_type": "code",
        "colab": {}
      },
      "source": [
        "!ls"
      ],
      "execution_count": null,
      "outputs": []
    },
    {
      "cell_type": "code",
      "metadata": {
        "id": "VyzjWPlRcXq7",
        "colab_type": "code",
        "colab": {}
      },
      "source": [
        "import os\n",
        "os.chdir('/content/drive/My Drive')#切换工作目录"
      ],
      "execution_count": 2,
      "outputs": []
    },
    {
      "cell_type": "code",
      "metadata": {
        "id": "xwohuPnyb_IT",
        "colab_type": "code",
        "colab": {}
      },
      "source": [
        "!git clone https://github.com/honeyhaoyan/Grid_GCN.git"
      ],
      "execution_count": null,
      "outputs": []
    },
    {
      "cell_type": "code",
      "metadata": {
        "id": "IrNCCPwVciri",
        "colab_type": "code",
        "colab": {}
      },
      "source": [
        "import os\n",
        "os.chdir('/content/drive/My Drive/Grid_GCN/')#切换工作目录"
      ],
      "execution_count": 6,
      "outputs": []
    },
    {
      "cell_type": "code",
      "metadata": {
        "id": "eSdz3Bwdcp2y",
        "colab_type": "code",
        "colab": {}
      },
      "source": [
        "import sys\n",
        "cur = '/content/drive/My Drive/Grid_GCN'\n",
        "sys.path.append(cur)"
      ],
      "execution_count": null,
      "outputs": []
    },
    {
      "cell_type": "code",
      "metadata": {
        "id": "7_941KA_czdj",
        "colab_type": "code",
        "colab": {}
      },
      "source": [
        "!nvcc -V"
      ],
      "execution_count": null,
      "outputs": []
    },
    {
      "cell_type": "code",
      "metadata": {
        "id": "m6PYs1GZc72S",
        "colab_type": "code",
        "colab": {}
      },
      "source": [
        "!pip install dgl-cu101"
      ],
      "execution_count": null,
      "outputs": []
    },
    {
      "cell_type": "code",
      "metadata": {
        "id": "OVCcxtP-dFAs",
        "colab_type": "code",
        "colab": {}
      },
      "source": [
        "!pip install pyinstrument"
      ],
      "execution_count": null,
      "outputs": []
    },
    {
      "cell_type": "code",
      "metadata": {
        "id": "EUFVkQ3bdWBD",
        "colab_type": "code",
        "colab": {}
      },
      "source": [
        "!apt install lshw -y\n",
        "!lshw -C display"
      ],
      "execution_count": null,
      "outputs": []
    },
    {
      "cell_type": "code",
      "metadata": {
        "id": "VgE6UKZpegNF",
        "colab_type": "code",
        "colab": {}
      },
      "source": [
        "!cd dataset && wget https://shapenet.cs.stanford.edu/media/modelnet40_normal_resampled.zip --no-check-certificate; unzip modelnet40_normal_resampled.zip"
      ],
      "execution_count": null,
      "outputs": []
    },
    {
      "cell_type": "code",
      "metadata": {
        "id": "JdzXfZmSdIFq",
        "colab_type": "code",
        "colab": {
          "base_uri": "https://localhost:8080/",
          "height": 605
        },
        "outputId": "b860dae3-23ef-4ba2-c401-6cdd61fd1d2d"
      },
      "source": [
        "!python train_cls.py"
      ],
      "execution_count": 19,
      "outputs": [
        {
          "output_type": "stream",
          "text": [
            "Using backend: pytorch\n",
            "The size of train data is 9843\n",
            "The size of test data is 2468\n",
            "  6% 17/307 [47:53<13:37:02, 169.04s/it, AvgLoss=3.56188, AvgAcc=0.09191]\n",
            "Traceback (most recent call last):\n",
            "  File \"train_cls.py\", line 147, in <module>\n",
            "    train(net, opt, scheduler, train_loader, dev)\n",
            "  File \"train_cls.py\", line 62, in train\n",
            "    for data, label in tq:\n",
            "  File \"/usr/local/lib/python3.6/dist-packages/tqdm/std.py\", line 1104, in __iter__\n",
            "    for obj in iterable:\n",
            "  File \"/usr/local/lib/python3.6/dist-packages/torch/utils/data/dataloader.py\", line 345, in __next__\n",
            "    data = self._next_data()\n",
            "  File \"/usr/local/lib/python3.6/dist-packages/torch/utils/data/dataloader.py\", line 856, in _next_data\n",
            "    return self._process_data(data)\n",
            "  File \"/usr/local/lib/python3.6/dist-packages/torch/utils/data/dataloader.py\", line 881, in _process_data\n",
            "    data.reraise()\n",
            "  File \"/usr/local/lib/python3.6/dist-packages/torch/_utils.py\", line 395, in reraise\n",
            "    raise self.exc_type(msg)\n",
            "OSError: Caught OSError in DataLoader worker process 1.\n",
            "Original Traceback (most recent call last):\n",
            "  File \"/usr/local/lib/python3.6/dist-packages/torch/utils/data/_utils/worker.py\", line 178, in _worker_loop\n",
            "    data = fetcher.fetch(index)\n",
            "  File \"/usr/local/lib/python3.6/dist-packages/torch/utils/data/_utils/fetch.py\", line 44, in fetch\n",
            "    data = [self.dataset[idx] for idx in possibly_batched_index]\n",
            "  File \"/usr/local/lib/python3.6/dist-packages/torch/utils/data/_utils/fetch.py\", line 44, in <listcomp>\n",
            "    data = [self.dataset[idx] for idx in possibly_batched_index]\n",
            "  File \"/content/drive/My Drive/Grid_GCN/ModelNetDataLoader.py\", line 121, in __getitem__\n",
            "    return self._get_item(index)\n",
            "  File \"/content/drive/My Drive/Grid_GCN/ModelNetDataLoader.py\", line 101, in _get_item\n",
            "    point_set = np.loadtxt(fn[1], delimiter=',').astype(np.float32)\n",
            "  File \"/usr/local/lib/python3.6/dist-packages/numpy/lib/npyio.py\", line 1112, in loadtxt\n",
            "    first_line = next(fh)\n",
            "OSError: [Errno 5] Input/output error\n",
            "\n"
          ],
          "name": "stdout"
        }
      ]
    }
  ]
}