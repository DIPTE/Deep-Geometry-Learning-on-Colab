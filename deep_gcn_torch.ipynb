{
  "nbformat": 4,
  "nbformat_minor": 0,
  "metadata": {
    "colab": {
      "name": "deep_gcn_torch.ipynb",
      "provenance": [],
      "collapsed_sections": [],
      "mount_file_id": "1gkpPloBEYTi1cV1A4s-okIR0IIu4cStQ",
      "authorship_tag": "ABX9TyPeLljM6m+Zbrk+cfxRFU16",
      "include_colab_link": true
    },
    "kernelspec": {
      "name": "python3",
      "display_name": "Python 3"
    },
    "accelerator": "GPU"
  },
  "cells": [
    {
      "cell_type": "markdown",
      "metadata": {
        "id": "view-in-github",
        "colab_type": "text"
      },
      "source": [
        "<a href=\"https://colab.research.google.com/github/DIPTE/Deep-Geometry-Learning-on-Colab/blob/master/deep_gcn_torch.ipynb\" target=\"_parent\"><img src=\"https://colab.research.google.com/assets/colab-badge.svg\" alt=\"Open In Colab\"/></a>"
      ]
    },
    {
      "cell_type": "code",
      "metadata": {
        "id": "3QL7leauFNML",
        "colab_type": "code",
        "colab": {
          "base_uri": "https://localhost:8080/",
          "height": 34
        },
        "outputId": "43cc7400-d21a-402f-ad7f-a5c7f6e4ccce"
      },
      "source": [
        "from google.colab import drive#colab 连接到托管代码执行程序\n",
        "drive.mount('/content/drive')#挂载云端硬盘"
      ],
      "execution_count": 1,
      "outputs": [
        {
          "output_type": "stream",
          "text": [
            "Drive already mounted at /content/drive; to attempt to forcibly remount, call drive.mount(\"/content/drive\", force_remount=True).\n"
          ],
          "name": "stdout"
        }
      ]
    },
    {
      "cell_type": "code",
      "metadata": {
        "id": "EzcRe0IKFiEV",
        "colab_type": "code",
        "colab": {}
      },
      "source": [
        "import os\n",
        "os.chdir('/content/drive/My Drive/Untitled Folder/deep_gcns_torch')#切换工作目录"
      ],
      "execution_count": 3,
      "outputs": []
    },
    {
      "cell_type": "code",
      "metadata": {
        "id": "atwaT7G_GBVu",
        "colab_type": "code",
        "colab": {}
      },
      "source": [
        "!ls #查看工作目录\n",
        "!nvcc -V\n",
        "!apt install lshw -y\n",
        "!lshw -C display"
      ],
      "execution_count": null,
      "outputs": []
    },
    {
      "cell_type": "code",
      "metadata": {
        "id": "kEoJWdGGGEJy",
        "colab_type": "code",
        "colab": {}
      },
      "source": [
        "!git clone https://github.com/lightaime/deep_gcns_torch.git"
      ],
      "execution_count": null,
      "outputs": []
    },
    {
      "cell_type": "code",
      "metadata": {
        "id": "ZTMjWe_qHoq_",
        "colab_type": "code",
        "colab": {}
      },
      "source": [
        "!pip install tensorflow==1.14.0 "
      ],
      "execution_count": null,
      "outputs": []
    },
    {
      "cell_type": "code",
      "metadata": {
        "id": "4SVgK7oJGzND",
        "colab_type": "code",
        "colab": {}
      },
      "source": [
        "!pip install torch===1.4.0+cu100 torchvision===0.5.0+cu100 -f https://download.pytorch.org/whl/torch_stable.html"
      ],
      "execution_count": null,
      "outputs": []
    },
    {
      "cell_type": "code",
      "metadata": {
        "id": "RfM_pykwJ9Df",
        "colab_type": "code",
        "colab": {}
      },
      "source": [
        "!pip install torch-scatter==latest+cu100 -f https://pytorch-geometric.com/whl/torch-1.4.0.html\n",
        "!pip install torch-sparse==latest+cu100 -f https://pytorch-geometric.com/whl/torch-1.4.0.html\n",
        "!pip install torch-spline-conv==latest+cu100 -f https://pytorch-geometric.com/whl/torch-1.4.0.html\n",
        "!pip install torch-cluster==latest+cu100  -f https://pytorch-geometric.com/whl/torch-1.4.0.html\n",
        "!pip install torch-geometric"
      ],
      "execution_count": null,
      "outputs": []
    },
    {
      "cell_type": "code",
      "metadata": {
        "id": "JyO7bavjKRmC",
        "colab_type": "code",
        "colab": {}
      },
      "source": [
        "#!pip install --upgrade tensorflow-graphics# install useful modules\n",
        "!pip install requests # sometimes pytorch geometric forget to install it, but it is in need\n",
        "!pip install tqdm"
      ],
      "execution_count": null,
      "outputs": []
    },
    {
      "cell_type": "code",
      "metadata": {
        "id": "TgdFja7kK0Lf",
        "colab_type": "code",
        "colab": {}
      },
      "source": [
        "!ls "
      ],
      "execution_count": null,
      "outputs": []
    },
    {
      "cell_type": "code",
      "metadata": {
        "id": "fC5PjbxcLAqN",
        "colab_type": "code",
        "colab": {}
      },
      "source": [
        "!cd deep_gcns_torch/examples/modelnet_cls/ && python architecture.py"
      ],
      "execution_count": null,
      "outputs": []
    },
    {
      "cell_type": "code",
      "metadata": {
        "id": "t5jbtCeWLvX0",
        "colab_type": "code",
        "colab": {}
      },
      "source": [
        "!cd deep_gcns_torch/examples/modelnet_cls/ && python data.py"
      ],
      "execution_count": null,
      "outputs": []
    },
    {
      "cell_type": "code",
      "metadata": {
        "id": "__eTfab4Or_b",
        "colab_type": "code",
        "colab": {
          "base_uri": "https://localhost:8080/",
          "height": 1000
        },
        "outputId": "44fbfc27-8257-45cd-ab13-c8fd087f4e53"
      },
      "source": [
        "!cd deep_gcns_torch/examples/modelnet_cls/ && python main.py "
      ],
      "execution_count": 27,
      "outputs": [
        {
          "output_type": "stream",
          "text": [
            "/usr/local/lib/python3.6/dist-packages/tensorflow/python/framework/dtypes.py:516: FutureWarning: Passing (type, 1) or '1type' as a synonym of type is deprecated; in a future version of numpy, it will be understood as (type, (1,)) / '(1,)type'.\n",
            "  _np_qint8 = np.dtype([(\"qint8\", np.int8, 1)])\n",
            "/usr/local/lib/python3.6/dist-packages/tensorflow/python/framework/dtypes.py:517: FutureWarning: Passing (type, 1) or '1type' as a synonym of type is deprecated; in a future version of numpy, it will be understood as (type, (1,)) / '(1,)type'.\n",
            "  _np_quint8 = np.dtype([(\"quint8\", np.uint8, 1)])\n",
            "/usr/local/lib/python3.6/dist-packages/tensorflow/python/framework/dtypes.py:518: FutureWarning: Passing (type, 1) or '1type' as a synonym of type is deprecated; in a future version of numpy, it will be understood as (type, (1,)) / '(1,)type'.\n",
            "  _np_qint16 = np.dtype([(\"qint16\", np.int16, 1)])\n",
            "/usr/local/lib/python3.6/dist-packages/tensorflow/python/framework/dtypes.py:519: FutureWarning: Passing (type, 1) or '1type' as a synonym of type is deprecated; in a future version of numpy, it will be understood as (type, (1,)) / '(1,)type'.\n",
            "  _np_quint16 = np.dtype([(\"quint16\", np.uint16, 1)])\n",
            "/usr/local/lib/python3.6/dist-packages/tensorflow/python/framework/dtypes.py:520: FutureWarning: Passing (type, 1) or '1type' as a synonym of type is deprecated; in a future version of numpy, it will be understood as (type, (1,)) / '(1,)type'.\n",
            "  _np_qint32 = np.dtype([(\"qint32\", np.int32, 1)])\n",
            "/usr/local/lib/python3.6/dist-packages/tensorflow/python/framework/dtypes.py:525: FutureWarning: Passing (type, 1) or '1type' as a synonym of type is deprecated; in a future version of numpy, it will be understood as (type, (1,)) / '(1,)type'.\n",
            "  np_resource = np.dtype([(\"resource\", np.ubyte, 1)])\n",
            "/usr/local/lib/python3.6/dist-packages/tensorboard/compat/tensorflow_stub/dtypes.py:541: FutureWarning: Passing (type, 1) or '1type' as a synonym of type is deprecated; in a future version of numpy, it will be understood as (type, (1,)) / '(1,)type'.\n",
            "  _np_qint8 = np.dtype([(\"qint8\", np.int8, 1)])\n",
            "/usr/local/lib/python3.6/dist-packages/tensorboard/compat/tensorflow_stub/dtypes.py:542: FutureWarning: Passing (type, 1) or '1type' as a synonym of type is deprecated; in a future version of numpy, it will be understood as (type, (1,)) / '(1,)type'.\n",
            "  _np_quint8 = np.dtype([(\"quint8\", np.uint8, 1)])\n",
            "/usr/local/lib/python3.6/dist-packages/tensorboard/compat/tensorflow_stub/dtypes.py:543: FutureWarning: Passing (type, 1) or '1type' as a synonym of type is deprecated; in a future version of numpy, it will be understood as (type, (1,)) / '(1,)type'.\n",
            "  _np_qint16 = np.dtype([(\"qint16\", np.int16, 1)])\n",
            "/usr/local/lib/python3.6/dist-packages/tensorboard/compat/tensorflow_stub/dtypes.py:544: FutureWarning: Passing (type, 1) or '1type' as a synonym of type is deprecated; in a future version of numpy, it will be understood as (type, (1,)) / '(1,)type'.\n",
            "  _np_quint16 = np.dtype([(\"quint16\", np.uint16, 1)])\n",
            "/usr/local/lib/python3.6/dist-packages/tensorboard/compat/tensorflow_stub/dtypes.py:545: FutureWarning: Passing (type, 1) or '1type' as a synonym of type is deprecated; in a future version of numpy, it will be understood as (type, (1,)) / '(1,)type'.\n",
            "  _np_qint32 = np.dtype([(\"qint32\", np.int32, 1)])\n",
            "/usr/local/lib/python3.6/dist-packages/tensorboard/compat/tensorflow_stub/dtypes.py:550: FutureWarning: Passing (type, 1) or '1type' as a synonym of type is deprecated; in a future version of numpy, it will be understood as (type, (1,)) / '(1,)type'.\n",
            "  np_resource = np.dtype([(\"resource\", np.ubyte, 1)])\n",
            "2020-06-18 11:43:50,476 saving log, checkpoint and back up code in folder: log/ModelNet40-res-edge-n28-C64-k9-drop0.5-lr0.001_B8_seed1_20200618-114350_fe756072-5c76-4f3b-911e-b187e8de23c2\n",
            "2020-06-18 11:43:50,477 ==========       args      =============\n",
            "2020-06-18 11:43:50,477 exp_name:DeepGCN\n",
            "2020-06-18 11:43:50,477 root_dir:log\n",
            "2020-06-18 11:43:50,477 data_dir:deep_gcns_torch/examples/modelnet_cls/test/modelnet40_ply_hdf5_2048\n",
            "2020-06-18 11:43:50,477 num_points:1024\n",
            "2020-06-18 11:43:50,477 augment:True\n",
            "2020-06-18 11:43:50,478 phase:train\n",
            "2020-06-18 11:43:50,478 use_cpu:False\n",
            "2020-06-18 11:43:50,478 batch_size:8\n",
            "2020-06-18 11:43:50,478 epochs:5\n",
            "2020-06-18 11:43:50,479 use_sgd:True\n",
            "2020-06-18 11:43:50,479 weight_decay:0.0001\n",
            "2020-06-18 11:43:50,479 lr:0.001\n",
            "2020-06-18 11:43:50,479 seed:1\n",
            "2020-06-18 11:43:50,479 multi_gpus:False\n",
            "2020-06-18 11:43:50,479 test_batch_size:50\n",
            "2020-06-18 11:43:50,479 pretrained_model:\n",
            "2020-06-18 11:43:50,479 k:9\n",
            "2020-06-18 11:43:50,480 block:res\n",
            "2020-06-18 11:43:50,480 conv:edge\n",
            "2020-06-18 11:43:50,480 act:relu\n",
            "2020-06-18 11:43:50,480 norm:batch\n",
            "2020-06-18 11:43:50,480 bias:True\n",
            "2020-06-18 11:43:50,480 n_blocks:28\n",
            "2020-06-18 11:43:50,480 n_filters:64\n",
            "2020-06-18 11:43:50,480 in_channels:3\n",
            "2020-06-18 11:43:50,481 out_channels:40\n",
            "2020-06-18 11:43:50,481 emb_dims:1024\n",
            "2020-06-18 11:43:50,481 dropout:0.5\n",
            "2020-06-18 11:43:50,481 use_dilation:True\n",
            "2020-06-18 11:43:50,481 epsilon:0.2\n",
            "2020-06-18 11:43:50,481 stochastic:True\n",
            "2020-06-18 11:43:50,481 device:cuda\n",
            "2020-06-18 11:43:50,482 jobname:ModelNet40-res-edge-n28-C64-k9-drop0.5-lr0.001_B8_seed1\n",
            "2020-06-18 11:43:50,482 exp_dir:log/ModelNet40-res-edge-n28-C64-k9-drop0.5-lr0.001_B8_seed1_20200618-114350_fe756072-5c76-4f3b-911e-b187e8de23c2\n",
            "2020-06-18 11:43:50,482 ckpt_dir:log/ModelNet40-res-edge-n28-C64-k9-drop0.5-lr0.001_B8_seed1_20200618-114350_fe756072-5c76-4f3b-911e-b187e8de23c2/checkpoint\n",
            "2020-06-18 11:43:50,482 code_dir:log/ModelNet40-res-edge-n28-C64-k9-drop0.5-lr0.001_B8_seed1_20200618-114350_fe756072-5c76-4f3b-911e-b187e8de23c2/code\n",
            "2020-06-18 11:43:50,482 logger:<utils.tf_logger.TfLogger object at 0x7fc050531ef0>\n",
            "2020-06-18 11:43:50,482 epoch:-1\n",
            "2020-06-18 11:43:50,482 step:-1\n",
            "2020-06-18 11:43:50,482 loglevel:info\n",
            "2020-06-18 11:43:50,483 ==========     args END    =============\n",
            "2020-06-18 11:43:50,483 \n",
            "\n",
            "2020-06-18 11:43:50,483 ===> Phase is train.\n",
            "2020-06-18 11:43:50,485 ===> Creating dataloader ...\n",
            "2020-06-18 11:43:53,227 ===> Loading ModelNet40 from deep_gcns_torch/examples/modelnet_cls/test/modelnet40_ply_hdf5_2048. number of classes equal to 40\n",
            "2020-06-18 11:43:53,228 ===> Loading the network ...\n",
            "2020-06-18 11:43:56,604 ===> loading pre-trained ...\n",
            "2020-06-18 11:43:56,604 ===> No pre-trained model\n",
            "2020-06-18 11:43:56,604 ===> Init the optimizer ...\n",
            "2020-06-18 11:43:56,605 ===> Use SGD\n",
            "2020-06-18 11:43:56,606 ===> Init Metric ...\n",
            "2020-06-18 11:43:56,606 ===> start training ...\n",
            "2020-06-18 12:08:12,912 Got a new best model on Test with Overall ACC 0.1033. Its avg acc is 0.0638\n",
            "2020-06-18 12:08:13,030 save a new best model into log/ModelNet40-res-edge-n28-C64-k9-drop0.5-lr0.001_B8_seed1_20200618-114350_fe756072-5c76-4f3b-911e-b187e8de23c2/checkpoint/ModelNet40-res-edge-n28-C64-k9-drop0.5-lr0.001_B8_seed1-best_model.pth\n",
            "2020-06-18 12:08:13,032 ===> Epoch 0/5, Train Loss 41.3731, Test Overall Acc 0.1033, Test Avg Acc 0.063750, Best Test Overall Acc 0.1033, Its test avg acc 0.0638.\n",
            "2020-06-18 12:32:51,880 ===> Epoch 1/5, Train Loss 1533.8392, Test Overall Acc 0.0276, Test Avg Acc 0.018000, Best Test Overall Acc 0.1033, Its test avg acc 0.0638.\n",
            "2020-06-18 12:57:42,255 ===> Epoch 2/5, Train Loss 1343.1375, Test Overall Acc 0.0968, Test Avg Acc 0.062924, Best Test Overall Acc 0.1033, Its test avg acc 0.0638.\n",
            "2020-06-18 13:22:23,638 ===> Epoch 3/5, Train Loss 65.6758, Test Overall Acc 0.0049, Test Avg Acc 0.014000, Best Test Overall Acc 0.1033, Its test avg acc 0.0638.\n",
            "2020-06-18 13:47:15,389 ===> Epoch 4/5, Train Loss 5.9014, Test Overall Acc 0.0810, Test Avg Acc 0.050000, Best Test Overall Acc 0.1033, Its test avg acc 0.0638.\n",
            "2020-06-18 14:12:00,251 ===> Epoch 5/5, Train Loss 3.7321, Test Overall Acc 0.0689, Test Avg Acc 0.042500, Best Test Overall Acc 0.1033, Its test avg acc 0.0638.\n",
            "2020-06-18 14:12:00,374 save a new best model into log/ModelNet40-res-edge-n28-C64-k9-drop0.5-lr0.001_B8_seed1_20200618-114350_fe756072-5c76-4f3b-911e-b187e8de23c2/checkpoint/ModelNet40-res-edge-n28-C64-k9-drop0.5-lr0.001_B8_seed1-last_model.pth\n",
            "2020-06-18 14:12:00,377 Saving the final model.Finish! Best Test Overall Acc 0.1033, Its test avg acc 0.0638. Last Test Overall Acc 0.0689, Its test avg acc 0.0425.\n"
          ],
          "name": "stdout"
        }
      ]
    }
  ]
}