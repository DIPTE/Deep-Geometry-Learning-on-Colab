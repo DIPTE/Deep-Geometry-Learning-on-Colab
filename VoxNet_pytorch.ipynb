{
  "nbformat": 4,
  "nbformat_minor": 0,
  "metadata": {
    "colab": {
      "name": "VoxNet.pytorch.ipynb",
      "provenance": [],
      "collapsed_sections": [],
      "mount_file_id": "1EJMJtnIgN6U4JWBSEaFvhy55VupSc1mH",
      "authorship_tag": "ABX9TyODmMuR6A1O0EZZr5B7FHRU",
      "include_colab_link": true
    },
    "kernelspec": {
      "name": "python3",
      "display_name": "Python 3"
    }
  },
  "cells": [
    {
      "cell_type": "markdown",
      "metadata": {
        "id": "view-in-github",
        "colab_type": "text"
      },
      "source": [
        "<a href=\"https://colab.research.google.com/github/DIPTE/Deep-Geometry-Learning-on-Colab/blob/master/VoxNet_pytorch.ipynb\" target=\"_parent\"><img src=\"https://colab.research.google.com/assets/colab-badge.svg\" alt=\"Open In Colab\"/></a>"
      ]
    },
    {
      "cell_type": "code",
      "metadata": {
        "id": "maMyIdjHuEZ_",
        "colab_type": "code",
        "colab": {}
      },
      "source": [
        "!git clone https://github.com/MonteYang/VoxNet.pytorch.git"
      ],
      "execution_count": null,
      "outputs": []
    },
    {
      "cell_type": "code",
      "metadata": {
        "id": "6m-p1ghv0d7M",
        "colab_type": "code",
        "colab": {}
      },
      "source": [
        "import os\n",
        "os.chdir('/content/drive/My Drive')#切换工作目录"
      ],
      "execution_count": 3,
      "outputs": []
    },
    {
      "cell_type": "code",
      "metadata": {
        "id": "Q4q780uB0e7B",
        "colab_type": "code",
        "colab": {}
      },
      "source": [
        "!ls"
      ],
      "execution_count": null,
      "outputs": []
    },
    {
      "cell_type": "code",
      "metadata": {
        "id": "-_LaC6N204uj",
        "colab_type": "code",
        "colab": {}
      },
      "source": [
        "!cd VoxNet.pytorch/utils/ && python off2binvox.py"
      ],
      "execution_count": null,
      "outputs": []
    },
    {
      "cell_type": "code",
      "metadata": {
        "id": "5jooMK3i3Bky",
        "colab_type": "code",
        "colab": {}
      },
      "source": [
        "!cd VoxNet.pytorch/utils/ && chmod +x binvox"
      ],
      "execution_count": 17,
      "outputs": []
    },
    {
      "cell_type": "code",
      "metadata": {
        "id": "gdmmtk5j1ViJ",
        "colab_type": "code",
        "colab": {}
      },
      "source": [
        "!cd VoxNet.pytorch/utils/ && wget https://vision.princeton.edu/projects/2014/3DShapeNets/ModelNet10.zip "
      ],
      "execution_count": null,
      "outputs": []
    },
    {
      "cell_type": "code",
      "metadata": {
        "id": "q6CvK_e4192K",
        "colab_type": "code",
        "colab": {}
      },
      "source": [
        "!cd VoxNet.pytorch/data/ && unzip ModelNet10.zip"
      ],
      "execution_count": null,
      "outputs": []
    },
    {
      "cell_type": "code",
      "metadata": {
        "id": "SiORLxpY2jUz",
        "colab_type": "code",
        "colab": {}
      },
      "source": [
        ""
      ],
      "execution_count": null,
      "outputs": []
    }
  ]
}