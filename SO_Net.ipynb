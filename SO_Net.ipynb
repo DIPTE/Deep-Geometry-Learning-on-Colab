{
  "nbformat": 4,
  "nbformat_minor": 0,
  "metadata": {
    "colab": {
      "name": "SO-Net.ipynb",
      "provenance": [],
      "collapsed_sections": [],
      "machine_shape": "hm",
      "mount_file_id": "1cFIzoFDBDAwrBSbV08tMQbFm6nPeN6hd",
      "authorship_tag": "ABX9TyMv1JUGmZED5zWkoesueBEC",
      "include_colab_link": true
    },
    "kernelspec": {
      "name": "python3",
      "display_name": "Python 3"
    },
    "accelerator": "GPU"
  },
  "cells": [
    {
      "cell_type": "markdown",
      "metadata": {
        "id": "view-in-github",
        "colab_type": "text"
      },
      "source": [
        "<a href=\"https://colab.research.google.com/github/DIPTE/Deep-Geometry-Learning-on-Colab/blob/master/SO_Net.ipynb\" target=\"_parent\"><img src=\"https://colab.research.google.com/assets/colab-badge.svg\" alt=\"Open In Colab\"/></a>"
      ]
    },
    {
      "cell_type": "code",
      "metadata": {
        "id": "ucMP0AA_HDZ9",
        "colab_type": "code",
        "colab": {}
      },
      "source": [
        "import os\n",
        "os.chdir('/content/drive/My Drive')#切换工作目录"
      ],
      "execution_count": 27,
      "outputs": []
    },
    {
      "cell_type": "code",
      "metadata": {
        "id": "-KOK4HnFG1Dj",
        "colab_type": "code",
        "colab": {}
      },
      "source": [
        "!git clone https://github.com/lijx10/SO-Net.git"
      ],
      "execution_count": null,
      "outputs": []
    },
    {
      "cell_type": "code",
      "metadata": {
        "id": "yB8SVK26FFX9",
        "colab_type": "code",
        "colab": {
          "base_uri": "https://localhost:8080/",
          "height": 50
        },
        "outputId": "3799d3e1-f789-40fc-f180-184b32124d0e"
      },
      "source": [
        "!ls"
      ],
      "execution_count": 30,
      "outputs": [
        {
          "output_type": "stream",
          "text": [
            "autoencoder  LICENSE   models\t README.md  util\n",
            "data\t     modelnet  part-seg  shrec16\n"
          ],
          "name": "stdout"
        }
      ]
    },
    {
      "cell_type": "code",
      "metadata": {
        "id": "r6KnjlaIGzo1",
        "colab_type": "code",
        "colab": {}
      },
      "source": [
        "!wget https://repo.anaconda.com/archive/Anaconda3-2020.02-Linux-x86_64.sh"
      ],
      "execution_count": null,
      "outputs": []
    },
    {
      "cell_type": "code",
      "metadata": {
        "id": "ttOlADjLIFDQ",
        "colab_type": "code",
        "colab": {}
      },
      "source": [
        "!bash Anaconda3-2020.02-Linux-x86_64.sh"
      ],
      "execution_count": null,
      "outputs": []
    },
    {
      "cell_type": "code",
      "metadata": {
        "id": "gUWw_4TXI5Iq",
        "colab_type": "code",
        "colab": {}
      },
      "source": [
        "!source /root/anaconda3/etc/profile.d/conda.sh && conda activate && python --version"
      ],
      "execution_count": null,
      "outputs": []
    },
    {
      "cell_type": "code",
      "metadata": {
        "id": "4rQpFlbKI_BK",
        "colab_type": "code",
        "colab": {}
      },
      "source": [
        "!source /root/anaconda3/etc/profile.d/conda.sh && conda create -n SO-Net python=3.6"
      ],
      "execution_count": null,
      "outputs": []
    },
    {
      "cell_type": "code",
      "metadata": {
        "id": "3OOpQmYOJ9Rp",
        "colab_type": "code",
        "colab": {}
      },
      "source": [
        "!source /root/anaconda3/etc/profile.d/conda.sh && conda activate SO-Net && conda install faiss-gpu cudatoolkit=10.0 -c pytorch"
      ],
      "execution_count": null,
      "outputs": []
    },
    {
      "cell_type": "code",
      "metadata": {
        "id": "kBbfg-I-KTcM",
        "colab_type": "code",
        "colab": {}
      },
      "source": [
        "!source /root/anaconda3/etc/profile.d/conda.sh && conda activate SO-Net && pip install visdom"
      ],
      "execution_count": null,
      "outputs": []
    },
    {
      "cell_type": "code",
      "metadata": {
        "id": "Z4vraQW9KhOH",
        "colab_type": "code",
        "colab": {}
      },
      "source": [
        "!source /root/anaconda3/etc/profile.d/conda.sh && conda activate SO-Net && conda list"
      ],
      "execution_count": null,
      "outputs": []
    },
    {
      "cell_type": "code",
      "metadata": {
        "id": "oWBPjjMMLVYc",
        "colab_type": "code",
        "colab": {}
      },
      "source": [
        "!source /root/anaconda3/etc/profile.d/conda.sh && conda activate SO-Net && conda install pytorch torchvision cudatoolkit=10.1 -c pytorch"
      ],
      "execution_count": null,
      "outputs": []
    },
    {
      "cell_type": "code",
      "metadata": {
        "id": "ikMJA5tKM6M6",
        "colab_type": "code",
        "colab": {}
      },
      "source": [
        "import os\n",
        "os.chdir('/content/drive/My Drive/SO-Net')#切换工作目录"
      ],
      "execution_count": null,
      "outputs": []
    },
    {
      "cell_type": "code",
      "metadata": {
        "id": "GP1Y05ZYMObn",
        "colab_type": "code",
        "colab": {
          "base_uri": "https://localhost:8080/",
          "height": 1000
        },
        "outputId": "d7f47fec-ee8b-4c65-e63a-27b3fb55e468"
      },
      "source": [
        "!source /root/anaconda3/etc/profile.d/conda.sh && conda activate SO-Net && cd models/index_max_ext; python setup.py install"
      ],
      "execution_count": 29,
      "outputs": [
        {
          "output_type": "stream",
          "text": [
            "running install\n",
            "running bdist_egg\n",
            "running egg_info\n",
            "creating index_max.egg-info\n",
            "writing index_max.egg-info/PKG-INFO\n",
            "writing dependency_links to index_max.egg-info/dependency_links.txt\n",
            "writing top-level names to index_max.egg-info/top_level.txt\n",
            "writing manifest file 'index_max.egg-info/SOURCES.txt'\n",
            "reading manifest file 'index_max.egg-info/SOURCES.txt'\n",
            "writing manifest file 'index_max.egg-info/SOURCES.txt'\n",
            "installing library code to build/bdist.linux-x86_64/egg\n",
            "running install_lib\n",
            "running build_ext\n",
            "building 'index_max' extension\n",
            "creating /content/drive/My Drive/SO-Net/models/index_max_ext/build\n",
            "creating /content/drive/My Drive/SO-Net/models/index_max_ext/build/temp.linux-x86_64-3.6\n",
            "Emitting ninja build file /content/drive/My Drive/SO-Net/models/index_max_ext/build/temp.linux-x86_64-3.6/build.ninja...\n",
            "Compiling objects...\n",
            "Allowing ninja to set a default number of workers... (overridable by setting the environment variable MAX_JOBS=N)\n",
            "[1/2] c++ -MMD -MF '/content/drive/My Drive/SO-Net/models/index_max_ext/build/temp.linux-x86_64-3.6/index_max.o'.d -pthread -B /root/anaconda3/envs/SO-Net/compiler_compat -Wl,--sysroot=/ -Wsign-compare -DNDEBUG -g -fwrapv -O3 -Wall -Wstrict-prototypes -fPIC -I/root/anaconda3/envs/SO-Net/lib/python3.6/site-packages/torch/include -I/root/anaconda3/envs/SO-Net/lib/python3.6/site-packages/torch/include/torch/csrc/api/include -I/root/anaconda3/envs/SO-Net/lib/python3.6/site-packages/torch/include/TH -I/root/anaconda3/envs/SO-Net/lib/python3.6/site-packages/torch/include/THC -I/usr/local/cuda/include -I/root/anaconda3/envs/SO-Net/include/python3.6m -c -c '/content/drive/My Drive/SO-Net/models/index_max_ext/index_max.cpp' -o '/content/drive/My Drive/SO-Net/models/index_max_ext/build/temp.linux-x86_64-3.6/index_max.o' -DTORCH_API_INCLUDE_EXTENSION_H -DTORCH_EXTENSION_NAME=index_max -D_GLIBCXX_USE_CXX11_ABI=0 -std=c++14\n",
            "cc1plus: warning: command line option ‘-Wstrict-prototypes’ is valid for C/ObjC but not for C++\n",
            "In file included from /root/anaconda3/envs/SO-Net/lib/python3.6/site-packages/torch/include/c10/core/Device.h:5:0,\n",
            "                 from /root/anaconda3/envs/SO-Net/lib/python3.6/site-packages/torch/include/c10/core/Allocator.h:6,\n",
            "                 from /root/anaconda3/envs/SO-Net/lib/python3.6/site-packages/torch/include/ATen/ATen.h:3,\n",
            "                 from /root/anaconda3/envs/SO-Net/lib/python3.6/site-packages/torch/include/torch/csrc/api/include/torch/types.h:3,\n",
            "                 from /root/anaconda3/envs/SO-Net/lib/python3.6/site-packages/torch/include/torch/csrc/api/include/torch/data/dataloader_options.h:4,\n",
            "                 from /root/anaconda3/envs/SO-Net/lib/python3.6/site-packages/torch/include/torch/csrc/api/include/torch/data/dataloader/base.h:3,\n",
            "                 from /root/anaconda3/envs/SO-Net/lib/python3.6/site-packages/torch/include/torch/csrc/api/include/torch/data/dataloader/stateful.h:3,\n",
            "                 from /root/anaconda3/envs/SO-Net/lib/python3.6/site-packages/torch/include/torch/csrc/api/include/torch/data/dataloader.h:3,\n",
            "                 from /root/anaconda3/envs/SO-Net/lib/python3.6/site-packages/torch/include/torch/csrc/api/include/torch/data.h:3,\n",
            "                 from /root/anaconda3/envs/SO-Net/lib/python3.6/site-packages/torch/include/torch/csrc/api/include/torch/all.h:4,\n",
            "                 from /root/anaconda3/envs/SO-Net/lib/python3.6/site-packages/torch/include/torch/extension.h:4,\n",
            "                 from /content/drive/My Drive/SO-Net/models/index_max_ext/index_max.cpp:1:\n",
            "/content/drive/My Drive/SO-Net/models/index_max_ext/index_max.cpp: In function ‘at::Tensor index_max_forward_cuda_wrapper(at::Tensor, at::Tensor, int)’:\n",
            "/content/drive/My Drive/SO-Net/models/index_max_ext/index_max.cpp:119:41: warning: ‘at::DeprecatedTypeProperties& at::Tensor::type() const’ is deprecated: Tensor.type() is deprecated. Instead use Tensor.options(), which in many cases (e.g. in a constructor) is a drop-in replacement. If you were using data from type(), that is now available from Tensor itself, so instead of tensor.type().scalar_type(), use tensor.scalar_type() instead and instead of tensor.type().backend() use tensor.device(). [-Wdeprecated-declarations]\n",
            " #define CHECK_CUDA(x) AT_ASSERTM(x.type().is_cuda(), #x \" must be a CUDA tensor/variable\")\n",
            "                                         ^\n",
            "/root/anaconda3/envs/SO-Net/lib/python3.6/site-packages/torch/include/c10/util/Exception.h:164:39: note: in definition of macro ‘C10_EXPAND_MSVC_WORKAROUND’\n",
            " #define C10_EXPAND_MSVC_WORKAROUND(x) x\n",
            "                                       ^\n",
            "/root/anaconda3/envs/SO-Net/lib/python3.6/site-packages/torch/include/c10/util/Exception.h:183:34: note: in expansion of macro ‘C10_UNLIKELY’\n",
            " #define C10_UNLIKELY_OR_CONST(e) C10_UNLIKELY(e)\n",
            "                                  ^~~~~~~~~~~~\n",
            "/root/anaconda3/envs/SO-Net/lib/python3.6/site-packages/torch/include/c10/util/Exception.h:220:7: note: in expansion of macro ‘C10_UNLIKELY_OR_CONST’\n",
            "   if (C10_UNLIKELY_OR_CONST(!(cond))) {       \\\n",
            "       ^~~~~~~~~~~~~~~~~~~~~\n",
            "/root/anaconda3/envs/SO-Net/lib/python3.6/site-packages/torch/include/c10/util/Exception.h:410:32: note: in expansion of macro ‘TORCH_INTERNAL_ASSERT’\n",
            "     C10_EXPAND_MSVC_WORKAROUND(TORCH_INTERNAL_ASSERT(cond, __VA_ARGS__));     \\\n",
            "                                ^~~~~~~~~~~~~~~~~~~~~\n",
            "/content/drive/My Drive/SO-Net/models/index_max_ext/index_max.cpp:119:23: note: in expansion of macro ‘AT_ASSERTM’\n",
            " #define CHECK_CUDA(x) AT_ASSERTM(x.type().is_cuda(), #x \" must be a CUDA tensor/variable\")\n",
            "                       ^~~~~~~~~~\n",
            "/content/drive/My Drive/SO-Net/models/index_max_ext/index_max.cpp:121:24: note: in expansion of macro ‘CHECK_CUDA’\n",
            " #define CHECK_INPUT(x) CHECK_CUDA(x); CHECK_CONTIGUOUS(x)\n",
            "                        ^~~~~~~~~~\n",
            "/content/drive/My Drive/SO-Net/models/index_max_ext/index_max.cpp:135:2: note: in expansion of macro ‘CHECK_INPUT’\n",
            "  CHECK_INPUT(data);\n",
            "  ^\n",
            "In file included from /root/anaconda3/envs/SO-Net/lib/python3.6/site-packages/torch/include/ATen/Tensor.h:11:0,\n",
            "                 from /root/anaconda3/envs/SO-Net/lib/python3.6/site-packages/torch/include/ATen/Context.h:4,\n",
            "                 from /root/anaconda3/envs/SO-Net/lib/python3.6/site-packages/torch/include/ATen/ATen.h:5,\n",
            "                 from /root/anaconda3/envs/SO-Net/lib/python3.6/site-packages/torch/include/torch/csrc/api/include/torch/types.h:3,\n",
            "                 from /root/anaconda3/envs/SO-Net/lib/python3.6/site-packages/torch/include/torch/csrc/api/include/torch/data/dataloader_options.h:4,\n",
            "                 from /root/anaconda3/envs/SO-Net/lib/python3.6/site-packages/torch/include/torch/csrc/api/include/torch/data/dataloader/base.h:3,\n",
            "                 from /root/anaconda3/envs/SO-Net/lib/python3.6/site-packages/torch/include/torch/csrc/api/include/torch/data/dataloader/stateful.h:3,\n",
            "                 from /root/anaconda3/envs/SO-Net/lib/python3.6/site-packages/torch/include/torch/csrc/api/include/torch/data/dataloader.h:3,\n",
            "                 from /root/anaconda3/envs/SO-Net/lib/python3.6/site-packages/torch/include/torch/csrc/api/include/torch/data.h:3,\n",
            "                 from /root/anaconda3/envs/SO-Net/lib/python3.6/site-packages/torch/include/torch/csrc/api/include/torch/all.h:4,\n",
            "                 from /root/anaconda3/envs/SO-Net/lib/python3.6/site-packages/torch/include/torch/extension.h:4,\n",
            "                 from /content/drive/My Drive/SO-Net/models/index_max_ext/index_max.cpp:1:\n",
            "/root/anaconda3/envs/SO-Net/lib/python3.6/site-packages/torch/include/ATen/core/TensorBody.h:262:30: note: declared here\n",
            "   DeprecatedTypeProperties & type() const {\n",
            "                              ^~~~\n",
            "In file included from /root/anaconda3/envs/SO-Net/lib/python3.6/site-packages/torch/include/c10/core/Device.h:5:0,\n",
            "                 from /root/anaconda3/envs/SO-Net/lib/python3.6/site-packages/torch/include/c10/core/Allocator.h:6,\n",
            "                 from /root/anaconda3/envs/SO-Net/lib/python3.6/site-packages/torch/include/ATen/ATen.h:3,\n",
            "                 from /root/anaconda3/envs/SO-Net/lib/python3.6/site-packages/torch/include/torch/csrc/api/include/torch/types.h:3,\n",
            "                 from /root/anaconda3/envs/SO-Net/lib/python3.6/site-packages/torch/include/torch/csrc/api/include/torch/data/dataloader_options.h:4,\n",
            "                 from /root/anaconda3/envs/SO-Net/lib/python3.6/site-packages/torch/include/torch/csrc/api/include/torch/data/dataloader/base.h:3,\n",
            "                 from /root/anaconda3/envs/SO-Net/lib/python3.6/site-packages/torch/include/torch/csrc/api/include/torch/data/dataloader/stateful.h:3,\n",
            "                 from /root/anaconda3/envs/SO-Net/lib/python3.6/site-packages/torch/include/torch/csrc/api/include/torch/data/dataloader.h:3,\n",
            "                 from /root/anaconda3/envs/SO-Net/lib/python3.6/site-packages/torch/include/torch/csrc/api/include/torch/data.h:3,\n",
            "                 from /root/anaconda3/envs/SO-Net/lib/python3.6/site-packages/torch/include/torch/csrc/api/include/torch/all.h:4,\n",
            "                 from /root/anaconda3/envs/SO-Net/lib/python3.6/site-packages/torch/include/torch/extension.h:4,\n",
            "                 from /content/drive/My Drive/SO-Net/models/index_max_ext/index_max.cpp:1:\n",
            "/content/drive/My Drive/SO-Net/models/index_max_ext/index_max.cpp:119:41: warning: ‘at::DeprecatedTypeProperties& at::Tensor::type() const’ is deprecated: Tensor.type() is deprecated. Instead use Tensor.options(), which in many cases (e.g. in a constructor) is a drop-in replacement. If you were using data from type(), that is now available from Tensor itself, so instead of tensor.type().scalar_type(), use tensor.scalar_type() instead and instead of tensor.type().backend() use tensor.device(). [-Wdeprecated-declarations]\n",
            " #define CHECK_CUDA(x) AT_ASSERTM(x.type().is_cuda(), #x \" must be a CUDA tensor/variable\")\n",
            "                                         ^\n",
            "/root/anaconda3/envs/SO-Net/lib/python3.6/site-packages/torch/include/c10/util/Exception.h:164:39: note: in definition of macro ‘C10_EXPAND_MSVC_WORKAROUND’\n",
            " #define C10_EXPAND_MSVC_WORKAROUND(x) x\n",
            "                                       ^\n",
            "/root/anaconda3/envs/SO-Net/lib/python3.6/site-packages/torch/include/c10/util/Exception.h:183:34: note: in expansion of macro ‘C10_UNLIKELY’\n",
            " #define C10_UNLIKELY_OR_CONST(e) C10_UNLIKELY(e)\n",
            "                                  ^~~~~~~~~~~~\n",
            "/root/anaconda3/envs/SO-Net/lib/python3.6/site-packages/torch/include/c10/util/Exception.h:220:7: note: in expansion of macro ‘C10_UNLIKELY_OR_CONST’\n",
            "   if (C10_UNLIKELY_OR_CONST(!(cond))) {       \\\n",
            "       ^~~~~~~~~~~~~~~~~~~~~\n",
            "/root/anaconda3/envs/SO-Net/lib/python3.6/site-packages/torch/include/c10/util/Exception.h:410:32: note: in expansion of macro ‘TORCH_INTERNAL_ASSERT’\n",
            "     C10_EXPAND_MSVC_WORKAROUND(TORCH_INTERNAL_ASSERT(cond, __VA_ARGS__));     \\\n",
            "                                ^~~~~~~~~~~~~~~~~~~~~\n",
            "/content/drive/My Drive/SO-Net/models/index_max_ext/index_max.cpp:119:23: note: in expansion of macro ‘AT_ASSERTM’\n",
            " #define CHECK_CUDA(x) AT_ASSERTM(x.type().is_cuda(), #x \" must be a CUDA tensor/variable\")\n",
            "                       ^~~~~~~~~~\n",
            "/content/drive/My Drive/SO-Net/models/index_max_ext/index_max.cpp:121:24: note: in expansion of macro ‘CHECK_CUDA’\n",
            " #define CHECK_INPUT(x) CHECK_CUDA(x); CHECK_CONTIGUOUS(x)\n",
            "                        ^~~~~~~~~~\n",
            "/content/drive/My Drive/SO-Net/models/index_max_ext/index_max.cpp:136:2: note: in expansion of macro ‘CHECK_INPUT’\n",
            "  CHECK_INPUT(index);\n",
            "  ^\n",
            "In file included from /root/anaconda3/envs/SO-Net/lib/python3.6/site-packages/torch/include/ATen/Tensor.h:11:0,\n",
            "                 from /root/anaconda3/envs/SO-Net/lib/python3.6/site-packages/torch/include/ATen/Context.h:4,\n",
            "                 from /root/anaconda3/envs/SO-Net/lib/python3.6/site-packages/torch/include/ATen/ATen.h:5,\n",
            "                 from /root/anaconda3/envs/SO-Net/lib/python3.6/site-packages/torch/include/torch/csrc/api/include/torch/types.h:3,\n",
            "                 from /root/anaconda3/envs/SO-Net/lib/python3.6/site-packages/torch/include/torch/csrc/api/include/torch/data/dataloader_options.h:4,\n",
            "                 from /root/anaconda3/envs/SO-Net/lib/python3.6/site-packages/torch/include/torch/csrc/api/include/torch/data/dataloader/base.h:3,\n",
            "                 from /root/anaconda3/envs/SO-Net/lib/python3.6/site-packages/torch/include/torch/csrc/api/include/torch/data/dataloader/stateful.h:3,\n",
            "                 from /root/anaconda3/envs/SO-Net/lib/python3.6/site-packages/torch/include/torch/csrc/api/include/torch/data/dataloader.h:3,\n",
            "                 from /root/anaconda3/envs/SO-Net/lib/python3.6/site-packages/torch/include/torch/csrc/api/include/torch/data.h:3,\n",
            "                 from /root/anaconda3/envs/SO-Net/lib/python3.6/site-packages/torch/include/torch/csrc/api/include/torch/all.h:4,\n",
            "                 from /root/anaconda3/envs/SO-Net/lib/python3.6/site-packages/torch/include/torch/extension.h:4,\n",
            "                 from /content/drive/My Drive/SO-Net/models/index_max_ext/index_max.cpp:1:\n",
            "/root/anaconda3/envs/SO-Net/lib/python3.6/site-packages/torch/include/ATen/core/TensorBody.h:262:30: note: declared here\n",
            "   DeprecatedTypeProperties & type() const {\n",
            "                              ^~~~\n",
            "In file included from /root/anaconda3/envs/SO-Net/lib/python3.6/site-packages/torch/include/c10/core/Device.h:5:0,\n",
            "                 from /root/anaconda3/envs/SO-Net/lib/python3.6/site-packages/torch/include/c10/core/Allocator.h:6,\n",
            "                 from /root/anaconda3/envs/SO-Net/lib/python3.6/site-packages/torch/include/ATen/ATen.h:3,\n",
            "                 from /root/anaconda3/envs/SO-Net/lib/python3.6/site-packages/torch/include/torch/csrc/api/include/torch/types.h:3,\n",
            "                 from /root/anaconda3/envs/SO-Net/lib/python3.6/site-packages/torch/include/torch/csrc/api/include/torch/data/dataloader_options.h:4,\n",
            "                 from /root/anaconda3/envs/SO-Net/lib/python3.6/site-packages/torch/include/torch/csrc/api/include/torch/data/dataloader/base.h:3,\n",
            "                 from /root/anaconda3/envs/SO-Net/lib/python3.6/site-packages/torch/include/torch/csrc/api/include/torch/data/dataloader/stateful.h:3,\n",
            "                 from /root/anaconda3/envs/SO-Net/lib/python3.6/site-packages/torch/include/torch/csrc/api/include/torch/data/dataloader.h:3,\n",
            "                 from /root/anaconda3/envs/SO-Net/lib/python3.6/site-packages/torch/include/torch/csrc/api/include/torch/data.h:3,\n",
            "                 from /root/anaconda3/envs/SO-Net/lib/python3.6/site-packages/torch/include/torch/csrc/api/include/torch/all.h:4,\n",
            "                 from /root/anaconda3/envs/SO-Net/lib/python3.6/site-packages/torch/include/torch/extension.h:4,\n",
            "                 from /content/drive/My Drive/SO-Net/models/index_max_ext/index_max.cpp:1:\n",
            "/content/drive/My Drive/SO-Net/models/index_max_ext/index_max.cpp: In function ‘at::Tensor index_max_forward_cuda_wrapper_shared_mem(at::Tensor, at::Tensor, int)’:\n",
            "/content/drive/My Drive/SO-Net/models/index_max_ext/index_max.cpp:119:41: warning: ‘at::DeprecatedTypeProperties& at::Tensor::type() const’ is deprecated: Tensor.type() is deprecated. Instead use Tensor.options(), which in many cases (e.g. in a constructor) is a drop-in replacement. If you were using data from type(), that is now available from Tensor itself, so instead of tensor.type().scalar_type(), use tensor.scalar_type() instead and instead of tensor.type().backend() use tensor.device(). [-Wdeprecated-declarations]\n",
            " #define CHECK_CUDA(x) AT_ASSERTM(x.type().is_cuda(), #x \" must be a CUDA tensor/variable\")\n",
            "                                         ^\n",
            "/root/anaconda3/envs/SO-Net/lib/python3.6/site-packages/torch/include/c10/util/Exception.h:164:39: note: in definition of macro ‘C10_EXPAND_MSVC_WORKAROUND’\n",
            " #define C10_EXPAND_MSVC_WORKAROUND(x) x\n",
            "                                       ^\n",
            "/root/anaconda3/envs/SO-Net/lib/python3.6/site-packages/torch/include/c10/util/Exception.h:183:34: note: in expansion of macro ‘C10_UNLIKELY’\n",
            " #define C10_UNLIKELY_OR_CONST(e) C10_UNLIKELY(e)\n",
            "                                  ^~~~~~~~~~~~\n",
            "/root/anaconda3/envs/SO-Net/lib/python3.6/site-packages/torch/include/c10/util/Exception.h:220:7: note: in expansion of macro ‘C10_UNLIKELY_OR_CONST’\n",
            "   if (C10_UNLIKELY_OR_CONST(!(cond))) {       \\\n",
            "       ^~~~~~~~~~~~~~~~~~~~~\n",
            "/root/anaconda3/envs/SO-Net/lib/python3.6/site-packages/torch/include/c10/util/Exception.h:410:32: note: in expansion of macro ‘TORCH_INTERNAL_ASSERT’\n",
            "     C10_EXPAND_MSVC_WORKAROUND(TORCH_INTERNAL_ASSERT(cond, __VA_ARGS__));     \\\n",
            "                                ^~~~~~~~~~~~~~~~~~~~~\n",
            "/content/drive/My Drive/SO-Net/models/index_max_ext/index_max.cpp:119:23: note: in expansion of macro ‘AT_ASSERTM’\n",
            " #define CHECK_CUDA(x) AT_ASSERTM(x.type().is_cuda(), #x \" must be a CUDA tensor/variable\")\n",
            "                       ^~~~~~~~~~\n",
            "/content/drive/My Drive/SO-Net/models/index_max_ext/index_max.cpp:121:24: note: in expansion of macro ‘CHECK_CUDA’\n",
            " #define CHECK_INPUT(x) CHECK_CUDA(x); CHECK_CONTIGUOUS(x)\n",
            "                        ^~~~~~~~~~\n",
            "/content/drive/My Drive/SO-Net/models/index_max_ext/index_max.cpp:144:2: note: in expansion of macro ‘CHECK_INPUT’\n",
            "  CHECK_INPUT(data);\n",
            "  ^\n",
            "In file included from /root/anaconda3/envs/SO-Net/lib/python3.6/site-packages/torch/include/ATen/Tensor.h:11:0,\n",
            "                 from /root/anaconda3/envs/SO-Net/lib/python3.6/site-packages/torch/include/ATen/Context.h:4,\n",
            "                 from /root/anaconda3/envs/SO-Net/lib/python3.6/site-packages/torch/include/ATen/ATen.h:5,\n",
            "                 from /root/anaconda3/envs/SO-Net/lib/python3.6/site-packages/torch/include/torch/csrc/api/include/torch/types.h:3,\n",
            "                 from /root/anaconda3/envs/SO-Net/lib/python3.6/site-packages/torch/include/torch/csrc/api/include/torch/data/dataloader_options.h:4,\n",
            "                 from /root/anaconda3/envs/SO-Net/lib/python3.6/site-packages/torch/include/torch/csrc/api/include/torch/data/dataloader/base.h:3,\n",
            "                 from /root/anaconda3/envs/SO-Net/lib/python3.6/site-packages/torch/include/torch/csrc/api/include/torch/data/dataloader/stateful.h:3,\n",
            "                 from /root/anaconda3/envs/SO-Net/lib/python3.6/site-packages/torch/include/torch/csrc/api/include/torch/data/dataloader.h:3,\n",
            "                 from /root/anaconda3/envs/SO-Net/lib/python3.6/site-packages/torch/include/torch/csrc/api/include/torch/data.h:3,\n",
            "                 from /root/anaconda3/envs/SO-Net/lib/python3.6/site-packages/torch/include/torch/csrc/api/include/torch/all.h:4,\n",
            "                 from /root/anaconda3/envs/SO-Net/lib/python3.6/site-packages/torch/include/torch/extension.h:4,\n",
            "                 from /content/drive/My Drive/SO-Net/models/index_max_ext/index_max.cpp:1:\n",
            "/root/anaconda3/envs/SO-Net/lib/python3.6/site-packages/torch/include/ATen/core/TensorBody.h:262:30: note: declared here\n",
            "   DeprecatedTypeProperties & type() const {\n",
            "                              ^~~~\n",
            "In file included from /root/anaconda3/envs/SO-Net/lib/python3.6/site-packages/torch/include/c10/core/Device.h:5:0,\n",
            "                 from /root/anaconda3/envs/SO-Net/lib/python3.6/site-packages/torch/include/c10/core/Allocator.h:6,\n",
            "                 from /root/anaconda3/envs/SO-Net/lib/python3.6/site-packages/torch/include/ATen/ATen.h:3,\n",
            "                 from /root/anaconda3/envs/SO-Net/lib/python3.6/site-packages/torch/include/torch/csrc/api/include/torch/types.h:3,\n",
            "                 from /root/anaconda3/envs/SO-Net/lib/python3.6/site-packages/torch/include/torch/csrc/api/include/torch/data/dataloader_options.h:4,\n",
            "                 from /root/anaconda3/envs/SO-Net/lib/python3.6/site-packages/torch/include/torch/csrc/api/include/torch/data/dataloader/base.h:3,\n",
            "                 from /root/anaconda3/envs/SO-Net/lib/python3.6/site-packages/torch/include/torch/csrc/api/include/torch/data/dataloader/stateful.h:3,\n",
            "                 from /root/anaconda3/envs/SO-Net/lib/python3.6/site-packages/torch/include/torch/csrc/api/include/torch/data/dataloader.h:3,\n",
            "                 from /root/anaconda3/envs/SO-Net/lib/python3.6/site-packages/torch/include/torch/csrc/api/include/torch/data.h:3,\n",
            "                 from /root/anaconda3/envs/SO-Net/lib/python3.6/site-packages/torch/include/torch/csrc/api/include/torch/all.h:4,\n",
            "                 from /root/anaconda3/envs/SO-Net/lib/python3.6/site-packages/torch/include/torch/extension.h:4,\n",
            "                 from /content/drive/My Drive/SO-Net/models/index_max_ext/index_max.cpp:1:\n",
            "/content/drive/My Drive/SO-Net/models/index_max_ext/index_max.cpp:119:41: warning: ‘at::DeprecatedTypeProperties& at::Tensor::type() const’ is deprecated: Tensor.type() is deprecated. Instead use Tensor.options(), which in many cases (e.g. in a constructor) is a drop-in replacement. If you were using data from type(), that is now available from Tensor itself, so instead of tensor.type().scalar_type(), use tensor.scalar_type() instead and instead of tensor.type().backend() use tensor.device(). [-Wdeprecated-declarations]\n",
            " #define CHECK_CUDA(x) AT_ASSERTM(x.type().is_cuda(), #x \" must be a CUDA tensor/variable\")\n",
            "                                         ^\n",
            "/root/anaconda3/envs/SO-Net/lib/python3.6/site-packages/torch/include/c10/util/Exception.h:164:39: note: in definition of macro ‘C10_EXPAND_MSVC_WORKAROUND’\n",
            " #define C10_EXPAND_MSVC_WORKAROUND(x) x\n",
            "                                       ^\n",
            "/root/anaconda3/envs/SO-Net/lib/python3.6/site-packages/torch/include/c10/util/Exception.h:183:34: note: in expansion of macro ‘C10_UNLIKELY’\n",
            " #define C10_UNLIKELY_OR_CONST(e) C10_UNLIKELY(e)\n",
            "                                  ^~~~~~~~~~~~\n",
            "/root/anaconda3/envs/SO-Net/lib/python3.6/site-packages/torch/include/c10/util/Exception.h:220:7: note: in expansion of macro ‘C10_UNLIKELY_OR_CONST’\n",
            "   if (C10_UNLIKELY_OR_CONST(!(cond))) {       \\\n",
            "       ^~~~~~~~~~~~~~~~~~~~~\n",
            "/root/anaconda3/envs/SO-Net/lib/python3.6/site-packages/torch/include/c10/util/Exception.h:410:32: note: in expansion of macro ‘TORCH_INTERNAL_ASSERT’\n",
            "     C10_EXPAND_MSVC_WORKAROUND(TORCH_INTERNAL_ASSERT(cond, __VA_ARGS__));     \\\n",
            "                                ^~~~~~~~~~~~~~~~~~~~~\n",
            "/content/drive/My Drive/SO-Net/models/index_max_ext/index_max.cpp:119:23: note: in expansion of macro ‘AT_ASSERTM’\n",
            " #define CHECK_CUDA(x) AT_ASSERTM(x.type().is_cuda(), #x \" must be a CUDA tensor/variable\")\n",
            "                       ^~~~~~~~~~\n",
            "/content/drive/My Drive/SO-Net/models/index_max_ext/index_max.cpp:121:24: note: in expansion of macro ‘CHECK_CUDA’\n",
            " #define CHECK_INPUT(x) CHECK_CUDA(x); CHECK_CONTIGUOUS(x)\n",
            "                        ^~~~~~~~~~\n",
            "/content/drive/My Drive/SO-Net/models/index_max_ext/index_max.cpp:145:2: note: in expansion of macro ‘CHECK_INPUT’\n",
            "  CHECK_INPUT(index);\n",
            "  ^\n",
            "In file included from /root/anaconda3/envs/SO-Net/lib/python3.6/site-packages/torch/include/ATen/Tensor.h:11:0,\n",
            "                 from /root/anaconda3/envs/SO-Net/lib/python3.6/site-packages/torch/include/ATen/Context.h:4,\n",
            "                 from /root/anaconda3/envs/SO-Net/lib/python3.6/site-packages/torch/include/ATen/ATen.h:5,\n",
            "                 from /root/anaconda3/envs/SO-Net/lib/python3.6/site-packages/torch/include/torch/csrc/api/include/torch/types.h:3,\n",
            "                 from /root/anaconda3/envs/SO-Net/lib/python3.6/site-packages/torch/include/torch/csrc/api/include/torch/data/dataloader_options.h:4,\n",
            "                 from /root/anaconda3/envs/SO-Net/lib/python3.6/site-packages/torch/include/torch/csrc/api/include/torch/data/dataloader/base.h:3,\n",
            "                 from /root/anaconda3/envs/SO-Net/lib/python3.6/site-packages/torch/include/torch/csrc/api/include/torch/data/dataloader/stateful.h:3,\n",
            "                 from /root/anaconda3/envs/SO-Net/lib/python3.6/site-packages/torch/include/torch/csrc/api/include/torch/data/dataloader.h:3,\n",
            "                 from /root/anaconda3/envs/SO-Net/lib/python3.6/site-packages/torch/include/torch/csrc/api/include/torch/data.h:3,\n",
            "                 from /root/anaconda3/envs/SO-Net/lib/python3.6/site-packages/torch/include/torch/csrc/api/include/torch/all.h:4,\n",
            "                 from /root/anaconda3/envs/SO-Net/lib/python3.6/site-packages/torch/include/torch/extension.h:4,\n",
            "                 from /content/drive/My Drive/SO-Net/models/index_max_ext/index_max.cpp:1:\n",
            "/root/anaconda3/envs/SO-Net/lib/python3.6/site-packages/torch/include/ATen/core/TensorBody.h:262:30: note: declared here\n",
            "   DeprecatedTypeProperties & type() const {\n",
            "                              ^~~~\n",
            "[2/2] /usr/local/cuda/bin/nvcc -I/root/anaconda3/envs/SO-Net/lib/python3.6/site-packages/torch/include -I/root/anaconda3/envs/SO-Net/lib/python3.6/site-packages/torch/include/torch/csrc/api/include -I/root/anaconda3/envs/SO-Net/lib/python3.6/site-packages/torch/include/TH -I/root/anaconda3/envs/SO-Net/lib/python3.6/site-packages/torch/include/THC -I/usr/local/cuda/include -I/root/anaconda3/envs/SO-Net/include/python3.6m -c -c '/content/drive/My Drive/SO-Net/models/index_max_ext/index_max_cuda.cu' -o '/content/drive/My Drive/SO-Net/models/index_max_ext/build/temp.linux-x86_64-3.6/index_max_cuda.o' -D__CUDA_NO_HALF_OPERATORS__ -D__CUDA_NO_HALF_CONVERSIONS__ -D__CUDA_NO_HALF2_OPERATORS__ --expt-relaxed-constexpr --compiler-options ''\"'\"'-fPIC'\"'\"'' -DTORCH_API_INCLUDE_EXTENSION_H -DTORCH_EXTENSION_NAME=index_max -D_GLIBCXX_USE_CXX11_ABI=0 -gencode=arch=compute_60,code=sm_60 -std=c++14\n",
            "/root/anaconda3/envs/SO-Net/lib/python3.6/site-packages/torch/include/torch/csrc/api/include/torch/nn/functional/padding.h(14): warning: integer conversion resulted in a change of sign\n",
            "\n",
            "/root/anaconda3/envs/SO-Net/lib/python3.6/site-packages/torch/include/torch/csrc/api/include/torch/nn/functional/padding.h(15): warning: integer conversion resulted in a change of sign\n",
            "\n",
            "/root/anaconda3/envs/SO-Net/lib/python3.6/site-packages/torch/include/torch/csrc/api/include/torch/nn/functional/padding.h(15): warning: integer conversion resulted in a change of sign\n",
            "\n",
            "/root/anaconda3/envs/SO-Net/lib/python3.6/site-packages/torch/include/torch/csrc/api/include/torch/nn/functional/padding.h(15): warning: integer conversion resulted in a change of sign\n",
            "\n",
            "/root/anaconda3/envs/SO-Net/lib/python3.6/site-packages/torch/include/torch/csrc/api/include/torch/nn/functional/padding.h(18): warning: integer conversion resulted in a change of sign\n",
            "\n",
            "/root/anaconda3/envs/SO-Net/lib/python3.6/site-packages/torch/include/torch/csrc/api/include/torch/nn/functional/padding.h(19): warning: integer conversion resulted in a change of sign\n",
            "\n",
            "/root/anaconda3/envs/SO-Net/lib/python3.6/site-packages/torch/include/torch/csrc/api/include/torch/nn/functional/padding.h(19): warning: integer conversion resulted in a change of sign\n",
            "\n",
            "/root/anaconda3/envs/SO-Net/lib/python3.6/site-packages/torch/include/torch/csrc/api/include/torch/nn/functional/padding.h(19): warning: integer conversion resulted in a change of sign\n",
            "\n",
            "/root/anaconda3/envs/SO-Net/lib/python3.6/site-packages/torch/include/torch/csrc/api/include/torch/nn/functional/padding.h(23): warning: integer conversion resulted in a change of sign\n",
            "\n",
            "/root/anaconda3/envs/SO-Net/lib/python3.6/site-packages/torch/include/torch/csrc/api/include/torch/nn/functional/padding.h(24): warning: integer conversion resulted in a change of sign\n",
            "\n",
            "/root/anaconda3/envs/SO-Net/lib/python3.6/site-packages/torch/include/torch/csrc/api/include/torch/nn/functional/padding.h(24): warning: integer conversion resulted in a change of sign\n",
            "\n",
            "/root/anaconda3/envs/SO-Net/lib/python3.6/site-packages/torch/include/torch/csrc/api/include/torch/nn/functional/padding.h(24): warning: integer conversion resulted in a change of sign\n",
            "\n",
            "/root/anaconda3/envs/SO-Net/lib/python3.6/site-packages/torch/include/torch/csrc/autograd/profiler.h(100): warning: attribute \"__visibility__\" does not apply here\n",
            "\n",
            "/root/anaconda3/envs/SO-Net/lib/python3.6/site-packages/torch/include/torch/csrc/autograd/profiler.h(115): warning: attribute \"__visibility__\" does not apply here\n",
            "\n",
            "/root/anaconda3/envs/SO-Net/lib/python3.6/site-packages/torch/include/torch/csrc/api/include/torch/nn/functional/padding.h(14): warning: integer conversion resulted in a change of sign\n",
            "\n",
            "/root/anaconda3/envs/SO-Net/lib/python3.6/site-packages/torch/include/torch/csrc/api/include/torch/nn/functional/padding.h(15): warning: integer conversion resulted in a change of sign\n",
            "\n",
            "/root/anaconda3/envs/SO-Net/lib/python3.6/site-packages/torch/include/torch/csrc/api/include/torch/nn/functional/padding.h(15): warning: integer conversion resulted in a change of sign\n",
            "\n",
            "/root/anaconda3/envs/SO-Net/lib/python3.6/site-packages/torch/include/torch/csrc/api/include/torch/nn/functional/padding.h(15): warning: integer conversion resulted in a change of sign\n",
            "\n",
            "/root/anaconda3/envs/SO-Net/lib/python3.6/site-packages/torch/include/torch/csrc/api/include/torch/nn/functional/padding.h(18): warning: integer conversion resulted in a change of sign\n",
            "\n",
            "/root/anaconda3/envs/SO-Net/lib/python3.6/site-packages/torch/include/torch/csrc/api/include/torch/nn/functional/padding.h(19): warning: integer conversion resulted in a change of sign\n",
            "\n",
            "/root/anaconda3/envs/SO-Net/lib/python3.6/site-packages/torch/include/torch/csrc/api/include/torch/nn/functional/padding.h(19): warning: integer conversion resulted in a change of sign\n",
            "\n",
            "/root/anaconda3/envs/SO-Net/lib/python3.6/site-packages/torch/include/torch/csrc/api/include/torch/nn/functional/padding.h(19): warning: integer conversion resulted in a change of sign\n",
            "\n",
            "/root/anaconda3/envs/SO-Net/lib/python3.6/site-packages/torch/include/torch/csrc/api/include/torch/nn/functional/padding.h(23): warning: integer conversion resulted in a change of sign\n",
            "\n",
            "/root/anaconda3/envs/SO-Net/lib/python3.6/site-packages/torch/include/torch/csrc/api/include/torch/nn/functional/padding.h(24): warning: integer conversion resulted in a change of sign\n",
            "\n",
            "/root/anaconda3/envs/SO-Net/lib/python3.6/site-packages/torch/include/torch/csrc/api/include/torch/nn/functional/padding.h(24): warning: integer conversion resulted in a change of sign\n",
            "\n",
            "/root/anaconda3/envs/SO-Net/lib/python3.6/site-packages/torch/include/torch/csrc/api/include/torch/nn/functional/padding.h(24): warning: integer conversion resulted in a change of sign\n",
            "\n",
            "/root/anaconda3/envs/SO-Net/lib/python3.6/site-packages/torch/include/torch/csrc/autograd/profiler.h(100): warning: attribute \"__visibility__\" does not apply here\n",
            "\n",
            "/root/anaconda3/envs/SO-Net/lib/python3.6/site-packages/torch/include/torch/csrc/autograd/profiler.h(115): warning: attribute \"__visibility__\" does not apply here\n",
            "\n",
            "/content/drive/My Drive/SO-Net/models/index_max_ext/index_max_cuda.cu: In function ‘at::Tensor index_max_forward_cuda(at::Tensor, at::Tensor, int)’:\n",
            "/content/drive/My Drive/SO-Net/models/index_max_ext/index_max_cuda.cu:75:98: warning: ‘T* at::Tensor::data() const [with T = float]’ is deprecated: Tensor.data<T>() is deprecated. Please use Tensor.data_ptr<T>() instead. [-Wdeprecated-declarations]\n",
            "  index_max_forward_cuda_kernel<<<C, B>>>(data.data<float>(),\n",
            "                                                                                                  ^\n",
            "/root/anaconda3/envs/SO-Net/lib/python3.6/site-packages/torch/include/ATen/core/TensorBody.h:341:1: note: declared here\n",
            "   T * data() const {\n",
            " ^ ~~\n",
            "/content/drive/My Drive/SO-Net/models/index_max_ext/index_max_cuda.cu:75:119: warning: ‘T* at::Tensor::data() const [with T = int]’ is deprecated: Tensor.data<T>() is deprecated. Please use Tensor.data_ptr<T>() instead. [-Wdeprecated-declarations]\n",
            "  index_max_forward_cuda_kernel<<<C, B>>>(data.data<float>(),\n",
            "                                                                                                                       ^\n",
            "/root/anaconda3/envs/SO-Net/lib/python3.6/site-packages/torch/include/ATen/core/TensorBody.h:341:1: note: declared here\n",
            "   T * data() const {\n",
            " ^ ~~\n",
            "/content/drive/My Drive/SO-Net/models/index_max_ext/index_max_cuda.cu:75:142: warning: ‘T* at::Tensor::data() const [with T = int]’ is deprecated: Tensor.data<T>() is deprecated. Please use Tensor.data_ptr<T>() instead. [-Wdeprecated-declarations]\n",
            "  index_max_forward_cuda_kernel<<<C, B>>>(data.data<float>(),\n",
            "                                                                                                                                              ^\n",
            "/root/anaconda3/envs/SO-Net/lib/python3.6/site-packages/torch/include/ATen/core/TensorBody.h:341:1: note: declared here\n",
            "   T * data() const {\n",
            " ^ ~~\n",
            "/content/drive/My Drive/SO-Net/models/index_max_ext/index_max_cuda.cu:75:167: warning: ‘T* at::Tensor::data() const [with T = float]’ is deprecated: Tensor.data<T>() is deprecated. Please use Tensor.data_ptr<T>() instead. [-Wdeprecated-declarations]\n",
            "  index_max_forward_cuda_kernel<<<C, B>>>(data.data<float>(),\n",
            "                                                                                                                                                                       ^\n",
            "/root/anaconda3/envs/SO-Net/lib/python3.6/site-packages/torch/include/ATen/core/TensorBody.h:341:1: note: declared here\n",
            "   T * data() const {\n",
            " ^ ~~\n",
            "/content/drive/My Drive/SO-Net/models/index_max_ext/index_max_cuda.cu: In function ‘at::Tensor index_max_forward_cuda_shared_mem(at::Tensor, at::Tensor, int)’:\n",
            "/content/drive/My Drive/SO-Net/models/index_max_ext/index_max_cuda.cu:93:134: warning: ‘T* at::Tensor::data() const [with T = float]’ is deprecated: Tensor.data<T>() is deprecated. Please use Tensor.data_ptr<T>() instead. [-Wdeprecated-declarations]\n",
            "  index_max_forward_cuda_kernel_shared_mem<<<C, B, B*K*sizeof(float)>>>(data.data<float>(),\n",
            "                                                                                                                                      ^\n",
            "/root/anaconda3/envs/SO-Net/lib/python3.6/site-packages/torch/include/ATen/core/TensorBody.h:341:1: note: declared here\n",
            "   T * data() const {\n",
            " ^ ~~\n",
            "/content/drive/My Drive/SO-Net/models/index_max_ext/index_max_cuda.cu:93:155: warning: ‘T* at::Tensor::data() const [with T = int]’ is deprecated: Tensor.data<T>() is deprecated. Please use Tensor.data_ptr<T>() instead. [-Wdeprecated-declarations]\n",
            "  index_max_forward_cuda_kernel_shared_mem<<<C, B, B*K*sizeof(float)>>>(data.data<float>(),\n",
            "                                                                                                                                                           ^\n",
            "/root/anaconda3/envs/SO-Net/lib/python3.6/site-packages/torch/include/ATen/core/TensorBody.h:341:1: note: declared here\n",
            "   T * data() const {\n",
            " ^ ~~\n",
            "/content/drive/My Drive/SO-Net/models/index_max_ext/index_max_cuda.cu:93:178: warning: ‘T* at::Tensor::data() const [with T = int]’ is deprecated: Tensor.data<T>() is deprecated. Please use Tensor.data_ptr<T>() instead. [-Wdeprecated-declarations]\n",
            "  index_max_forward_cuda_kernel_shared_mem<<<C, B, B*K*sizeof(float)>>>(data.data<float>(),\n",
            "                                                                                                                                                                                  ^\n",
            "/root/anaconda3/envs/SO-Net/lib/python3.6/site-packages/torch/include/ATen/core/TensorBody.h:341:1: note: declared here\n",
            "   T * data() const {\n",
            " ^ ~~\n",
            "/content/drive/My Drive/SO-Net/models/index_max_ext/index_max_cuda.cu:93:203: warning: ‘T* at::Tensor::data() const [with T = float]’ is deprecated: Tensor.data<T>() is deprecated. Please use Tensor.data_ptr<T>() instead. [-Wdeprecated-declarations]\n",
            "  index_max_forward_cuda_kernel_shared_mem<<<C, B, B*K*sizeof(float)>>>(data.data<float>(),\n",
            "                                                                                                                                                                                                           ^\n",
            "/root/anaconda3/envs/SO-Net/lib/python3.6/site-packages/torch/include/ATen/core/TensorBody.h:341:1: note: declared here\n",
            "   T * data() const {\n",
            " ^ ~~\n",
            "creating build/lib.linux-x86_64-3.6\n",
            "g++ -pthread -shared -B /root/anaconda3/envs/SO-Net/compiler_compat -L/root/anaconda3/envs/SO-Net/lib -Wl,-rpath=/root/anaconda3/envs/SO-Net/lib -Wl,--no-as-needed -Wl,--sysroot=/ /content/drive/My Drive/SO-Net/models/index_max_ext/build/temp.linux-x86_64-3.6/index_max.o /content/drive/My Drive/SO-Net/models/index_max_ext/build/temp.linux-x86_64-3.6/index_max_cuda.o -L/root/anaconda3/envs/SO-Net/lib/python3.6/site-packages/torch/lib -L/usr/local/cuda/lib64 -lc10 -ltorch -ltorch_cpu -ltorch_python -lcudart -lc10_cuda -ltorch_cuda -o build/lib.linux-x86_64-3.6/index_max.cpython-36m-x86_64-linux-gnu.so\n",
            "creating build/bdist.linux-x86_64\n",
            "creating build/bdist.linux-x86_64/egg\n",
            "copying build/lib.linux-x86_64-3.6/index_max.cpython-36m-x86_64-linux-gnu.so -> build/bdist.linux-x86_64/egg\n",
            "creating stub loader for index_max.cpython-36m-x86_64-linux-gnu.so\n",
            "byte-compiling build/bdist.linux-x86_64/egg/index_max.py to index_max.cpython-36.pyc\n",
            "creating build/bdist.linux-x86_64/egg/EGG-INFO\n",
            "copying index_max.egg-info/PKG-INFO -> build/bdist.linux-x86_64/egg/EGG-INFO\n",
            "copying index_max.egg-info/SOURCES.txt -> build/bdist.linux-x86_64/egg/EGG-INFO\n",
            "copying index_max.egg-info/dependency_links.txt -> build/bdist.linux-x86_64/egg/EGG-INFO\n",
            "copying index_max.egg-info/top_level.txt -> build/bdist.linux-x86_64/egg/EGG-INFO\n",
            "writing build/bdist.linux-x86_64/egg/EGG-INFO/native_libs.txt\n",
            "zip_safe flag not set; analyzing archive contents...\n",
            "__pycache__.index_max.cpython-36: module references __file__\n",
            "creating dist\n",
            "creating 'dist/index_max-0.0.0-py3.6-linux-x86_64.egg' and adding 'build/bdist.linux-x86_64/egg' to it\n",
            "removing 'build/bdist.linux-x86_64/egg' (and everything under it)\n",
            "Processing index_max-0.0.0-py3.6-linux-x86_64.egg\n",
            "creating /root/anaconda3/envs/SO-Net/lib/python3.6/site-packages/index_max-0.0.0-py3.6-linux-x86_64.egg\n",
            "Extracting index_max-0.0.0-py3.6-linux-x86_64.egg to /root/anaconda3/envs/SO-Net/lib/python3.6/site-packages\n",
            "Adding index-max 0.0.0 to easy-install.pth file\n",
            "\n",
            "Installed /root/anaconda3/envs/SO-Net/lib/python3.6/site-packages/index_max-0.0.0-py3.6-linux-x86_64.egg\n",
            "Processing dependencies for index-max==0.0.0\n",
            "Finished processing dependencies for index-max==0.0.0\n"
          ],
          "name": "stdout"
        }
      ]
    },
    {
      "cell_type": "code",
      "metadata": {
        "id": "gooDFtESMa2j",
        "colab_type": "code",
        "colab": {
          "base_uri": "https://localhost:8080/",
          "height": 84
        },
        "outputId": "a4afaa91-63f9-4660-c8bd-c19e095bb3db"
      },
      "source": [
        "!ls"
      ],
      "execution_count": 35,
      "outputs": [
        {
          "output_type": "stream",
          "text": [
            " autoencoder   modelnet40-normal_numpy\t\t        README.md\n",
            " data\t       modelnet40-normal_numpy.tar.gz（副本）   shrec16\n",
            " LICENSE       models\t\t\t\t        util\n",
            " modelnet      part-seg\t\t\t\t       'view?usp=sharing'\n"
          ],
          "name": "stdout"
        }
      ]
    },
    {
      "cell_type": "code",
      "metadata": {
        "id": "yN3vj5mWO_x4",
        "colab_type": "code",
        "colab": {}
      },
      "source": [
        "!tar -zxvf modelnet40-normal_numpy.tar.gz（副本）"
      ],
      "execution_count": null,
      "outputs": []
    },
    {
      "cell_type": "code",
      "metadata": {
        "id": "-ksR6rUHU1V1",
        "colab_type": "code",
        "colab": {}
      },
      "source": [
        "!source /root/anaconda3/etc/profile.d/conda.sh && conda activate SO-Net && pip install matplotlib"
      ],
      "execution_count": null,
      "outputs": []
    },
    {
      "cell_type": "code",
      "metadata": {
        "id": "vkCqEdFuZr7v",
        "colab_type": "code",
        "colab": {}
      },
      "source": [
        "!source /root/anaconda3/etc/profile.d/conda.sh && conda activate SO-Net && sudo python3 -m pip install jupyterhub notebook ipykernel; sudo python3 -m ipykernel install"
      ],
      "execution_count": null,
      "outputs": []
    },
    {
      "cell_type": "code",
      "metadata": {
        "id": "Lnm2ygWoaNkg",
        "colab_type": "code",
        "colab": {}
      },
      "source": [
        "!source /root/anaconda3/etc/profile.d/conda.sh && conda activate SO-Net &&  pip install ipykernel"
      ],
      "execution_count": null,
      "outputs": []
    },
    {
      "cell_type": "code",
      "metadata": {
        "id": "zslxDKhqaXU4",
        "colab_type": "code",
        "colab": {}
      },
      "source": [
        "!source /root/anaconda3/etc/profile.d/conda.sh && conda activate SO-Net &&  pip install h5py"
      ],
      "execution_count": null,
      "outputs": []
    },
    {
      "cell_type": "code",
      "metadata": {
        "id": "3lzDyYoZSMet",
        "colab_type": "code",
        "colab": {
          "base_uri": "https://localhost:8080/",
          "height": 991
        },
        "outputId": "424b173d-6613-4eec-babf-6581365319bd"
      },
      "source": [
        "!source /root/anaconda3/etc/profile.d/conda.sh && conda activate SO-Net && python modelnet/train.py"
      ],
      "execution_count": 72,
      "outputs": [
        {
          "output_type": "stream",
          "text": [
            "Python 3.6.10 |Anaconda, Inc.| (default, May  8 2020, 02:54:21) \n",
            "[GCC 7.3.0] on linux\n",
            "------------ Options -------------\n",
            "activation: relu\n",
            "batch_size: 8\n",
            "bn_momentum: 0.1\n",
            "bn_momentum_decay: 0.6\n",
            "bn_momentum_decay_step: None\n",
            "checkpoints_dir: ./checkpoints\n",
            "classes: 10\n",
            "dataroot: /content/drive/My Drive/SO-Net/modelnet40-normal_numpy/\n",
            "dataset: modelnet\n",
            "device: cuda:0\n",
            "display_id: 200\n",
            "display_winsize: 256\n",
            "dropout: 0.7\n",
            "feature_num: 1024\n",
            "gpu_id: 0\n",
            "input_pc_num: 5000\n",
            "k: 3\n",
            "lr: 0.001\n",
            "nThreads: 8\n",
            "name: train\n",
            "node_num: 64\n",
            "normalization: batch\n",
            "pretrain: None\n",
            "pretrain_lr_ratio: 1\n",
            "random_pc_dropout_lower_limit: 1\n",
            "rot_horizontal: False\n",
            "rot_perturbation: False\n",
            "som_k: 9\n",
            "som_k_type: avg\n",
            "surface_normal: True\n",
            "translation_perturbation: False\n",
            "-------------- End ----------------\n",
            "#training point clouds = 3991\n",
            "Tested network. So far best: 0.741189\n",
            "Tested network. So far best: 0.803965\n",
            "Tested network. So far best: 0.828194\n",
            "Tested network. So far best: 0.879956\n",
            "Tested network. So far best: 0.901982\n",
            "Tested network. So far best: 0.901982\n",
            "Tested network. So far best: 0.901982\n",
            "Tested network. So far best: 0.907489\n",
            "Tested network. So far best: 0.907489\n",
            "Tested network. So far best: 0.920705\n",
            "Tested network. So far best: 0.920705\n",
            "Tested network. So far best: 0.920705\n",
            "Tested network. So far best: 0.920705\n",
            "Tested network. So far best: 0.921806\n",
            "Tested network. So far best: 0.921806\n",
            "Tested network. So far best: 0.921806\n",
            "Tested network. So far best: 0.921806\n",
            "Tested network. So far best: 0.921806\n",
            "Tested network. So far best: 0.921806\n",
            "Tested network. So far best: 0.930617\n",
            "Saving network...\n",
            "Tested network. So far best: 0.930617\n"
          ],
          "name": "stdout"
        }
      ]
    }
  ]
}