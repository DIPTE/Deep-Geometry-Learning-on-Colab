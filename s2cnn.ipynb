{
  "nbformat": 4,
  "nbformat_minor": 0,
  "metadata": {
    "colab": {
      "name": " s2cnn.ipynb",
      "provenance": [],
      "collapsed_sections": [],
      "machine_shape": "hm",
      "mount_file_id": "1N2wruuKIuLMhoqCeT_nQ5jRPqJdjpuGK",
      "authorship_tag": "ABX9TyMKT6N3G/tK3iYcacjDQYd5",
      "include_colab_link": true
    },
    "kernelspec": {
      "name": "python3",
      "display_name": "Python 3"
    },
    "accelerator": "GPU"
  },
  "cells": [
    {
      "cell_type": "markdown",
      "metadata": {
        "id": "view-in-github",
        "colab_type": "text"
      },
      "source": [
        "<a href=\"https://colab.research.google.com/github/DIPTE/Deep-Geometry-Learning-on-Colab/blob/master/s2cnn.ipynb\" target=\"_parent\"><img src=\"https://colab.research.google.com/assets/colab-badge.svg\" alt=\"Open In Colab\"/></a>"
      ]
    },
    {
      "cell_type": "code",
      "metadata": {
        "id": "BUSefg3eNxSR",
        "colab_type": "code",
        "colab": {}
      },
      "source": [
        "import os\n",
        "os.chdir('/content/drive/My Drive')#切换工作目录"
      ],
      "execution_count": 2,
      "outputs": []
    },
    {
      "cell_type": "code",
      "metadata": {
        "id": "WsMxS13hOAU_",
        "colab_type": "code",
        "colab": {}
      },
      "source": [
        "!git clone https://github.com/jonas-koehler/s2cnn.git"
      ],
      "execution_count": null,
      "outputs": []
    },
    {
      "cell_type": "code",
      "metadata": {
        "id": "-RU5USjOP6pG",
        "colab_type": "code",
        "colab": {}
      },
      "source": [
        "!ls"
      ],
      "execution_count": null,
      "outputs": []
    },
    {
      "cell_type": "code",
      "metadata": {
        "id": "HuWws0MIQJ3O",
        "colab_type": "code",
        "colab": {}
      },
      "source": [
        "!bash Anaconda3-2020.02-Linux-x86_64.sh"
      ],
      "execution_count": null,
      "outputs": []
    },
    {
      "cell_type": "code",
      "metadata": {
        "id": "dQqHRXHJQpAP",
        "colab_type": "code",
        "colab": {
          "base_uri": "https://localhost:8080/",
          "height": 34
        },
        "outputId": "28a5e525-d717-4844-e537-f16f55c1e4fa"
      },
      "source": [
        "!source /root/anaconda3/etc/profile.d/conda.sh && conda activate s2cnn && python --version"
      ],
      "execution_count": 16,
      "outputs": [
        {
          "output_type": "stream",
          "text": [
            "Python 3.6.10 :: Anaconda, Inc.\n"
          ],
          "name": "stdout"
        }
      ]
    },
    {
      "cell_type": "code",
      "metadata": {
        "id": "yO3kU5d2QyIs",
        "colab_type": "code",
        "colab": {}
      },
      "source": [
        "!source /root/anaconda3/etc/profile.d/conda.sh && conda create -n s2cnn python=3.6"
      ],
      "execution_count": null,
      "outputs": []
    },
    {
      "cell_type": "code",
      "metadata": {
        "id": "GwRY4SCORRHk",
        "colab_type": "code",
        "colab": {}
      },
      "source": [
        "!source /root/anaconda3/etc/profile.d/conda.sh && conda activate s2cnn && conda install pytorch torchvision cudatoolkit=10.1 -c pytorch"
      ],
      "execution_count": null,
      "outputs": []
    },
    {
      "cell_type": "code",
      "metadata": {
        "id": "FbLqzH1AQ_YQ",
        "colab_type": "code",
        "colab": {}
      },
      "source": [
        "!source /root/anaconda3/etc/profile.d/conda.sh && conda activate s2cnn && pip install cupy-cuda101"
      ],
      "execution_count": null,
      "outputs": []
    },
    {
      "cell_type": "code",
      "metadata": {
        "id": "mH6uox2hTzLD",
        "colab_type": "code",
        "colab": {
          "base_uri": "https://localhost:8080/",
          "height": 1000
        },
        "outputId": "6dc8e046-e321-44ef-f9a1-f1d5dac750e1"
      },
      "source": [
        "!source /root/anaconda3/etc/profile.d/conda.sh && conda activate s2cnn && conda list"
      ],
      "execution_count": 26,
      "outputs": [
        {
          "output_type": "stream",
          "text": [
            "# packages in environment at /root/anaconda3/envs/s2cnn:\n",
            "#\n",
            "# Name                    Version                   Build  Channel\n",
            "_libgcc_mutex             0.1                        main  \n",
            "attrs                     19.3.0                   pypi_0    pypi\n",
            "blas                      1.0                         mkl  \n",
            "ca-certificates           2020.6.20            hecda079_0    conda-forge\n",
            "certifi                   2020.6.20        py36h9f0ad1d_0    conda-forge\n",
            "chardet                   3.0.4                    pypi_0    pypi\n",
            "colorlog                  4.2.1                    pypi_0    pypi\n",
            "cudatoolkit               10.1.243             h6bb024c_0  \n",
            "cupy-cuda101              7.7.0                    pypi_0    pypi\n",
            "decorator                 4.4.2                    pypi_0    pypi\n",
            "embree                    2.17.7                        0    conda-forge\n",
            "faiss-gpu                 1.6.3            py36h1a5d453_0    pytorch\n",
            "fastrlock                 0.5                      pypi_0    pypi\n",
            "freetype                  2.10.2               h5ab3b9f_0  \n",
            "geos                      3.8.1                he1b5a44_0    conda-forge\n",
            "idna                      2.10                     pypi_0    pypi\n",
            "importlib-metadata        1.7.0                    pypi_0    pypi\n",
            "intel-openmp              2020.1                      217  \n",
            "joblib                    0.16.0                   pypi_0    pypi\n",
            "jpeg                      9b                   h024ee3a_2  \n",
            "jsonschema                3.2.0                    pypi_0    pypi\n",
            "lcms2                     2.11                 h396b838_0  \n",
            "ld_impl_linux-64          2.33.1               h53a641e_7  \n",
            "libedit                   3.1.20191231         h14c3975_1  \n",
            "libffi                    3.3                  he6710b0_2  \n",
            "libgcc-ng                 9.1.0                hdf63c60_0  \n",
            "libgfortran-ng            7.3.0                hdf63c60_0    anaconda\n",
            "libpng                    1.6.37               hbc83047_0  \n",
            "libspatialindex           1.9.3                he1b5a44_3    conda-forge\n",
            "libstdcxx-ng              9.1.0                hdf63c60_0  \n",
            "libtiff                   4.1.0                h2733197_1  \n",
            "lie-learn                 0.0.1.post1              pypi_0    pypi\n",
            "lxml                      4.5.2                    pypi_0    pypi\n",
            "lz4-c                     1.9.2                he6710b0_1  \n",
            "mkl                       2020.1                      217  \n",
            "mkl-service               2.3.0            py36he904b0f_0  \n",
            "mkl_fft                   1.1.0            py36h23d657b_0  \n",
            "mkl_random                1.1.1            py36h0573a6f_0  \n",
            "mpmath                    1.1.0                    pypi_0    pypi\n",
            "msgpack                   1.0.0                    pypi_0    pypi\n",
            "ncurses                   6.2                  he6710b0_1  \n",
            "networkx                  2.4                      pypi_0    pypi\n",
            "ninja                     1.10.0           py36hfd86e86_0  \n",
            "numpy                     1.19.1           py36hbc911f0_0  \n",
            "numpy-base                1.19.1           py36hfa32c7d_0  \n",
            "olefile                   0.46                     py36_0  \n",
            "openssl                   1.1.1g               h516909a_1    conda-forge\n",
            "pillow                    7.2.0            py36hb39fc2d_0  \n",
            "pip                       20.1.1                   py36_1  \n",
            "pycollada                 0.7.1                    pypi_0    pypi\n",
            "pyembree                  0.1.6            py36h830a2c2_1    conda-forge\n",
            "pyglet                    1.5.7                    pypi_0    pypi\n",
            "pynvrtc                   9.2                      pypi_0    pypi\n",
            "pyrsistent                0.16.0                   pypi_0    pypi\n",
            "python                    3.6.10               h7579374_2  \n",
            "python-dateutil           2.8.1                    pypi_0    pypi\n",
            "python_abi                3.6                     1_cp36m    conda-forge\n",
            "pytorch                   1.6.0           py3.6_cuda10.1.243_cudnn7.6.3_0    pytorch\n",
            "readline                  8.0                  h7b6447c_0  \n",
            "requests                  2.24.0                   pypi_0    pypi\n",
            "rtree                     0.9.4            py36he053a7a_1    conda-forge\n",
            "scipy                     1.5.2                    pypi_0    pypi\n",
            "setuptools                49.2.1                   py36_0  \n",
            "shapely                   1.7.0            py36h3d6ee9d_3    conda-forge\n",
            "six                       1.15.0                     py_0  \n",
            "sqlite                    3.32.3               h62c20be_0  \n",
            "svg-path                  4.0.2                    pypi_0    pypi\n",
            "sympy                     1.6.1                    pypi_0    pypi\n",
            "tk                        8.6.10               hbc83047_0  \n",
            "torchvision               0.7.0                py36_cu101    pytorch\n",
            "trimesh                   3.7.14                   pypi_0    pypi\n",
            "urllib3                   1.25.10                  pypi_0    pypi\n",
            "wheel                     0.34.2                   py36_0  \n",
            "xxhash                    2.0.0                    pypi_0    pypi\n",
            "xz                        5.2.5                h7b6447c_0  \n",
            "zipp                      3.1.0                    pypi_0    pypi\n",
            "zlib                      1.2.11               h7b6447c_3  \n",
            "zstd                      1.4.5                h9ceee32_0  \n"
          ],
          "name": "stdout"
        }
      ]
    },
    {
      "cell_type": "code",
      "metadata": {
        "id": "dChiZGWMULEI",
        "colab_type": "code",
        "colab": {}
      },
      "source": [
        "!source /root/anaconda3/etc/profile.d/conda.sh && conda activate s2cnn && conda uninstall faiss-gpu"
      ],
      "execution_count": null,
      "outputs": []
    },
    {
      "cell_type": "code",
      "metadata": {
        "id": "wDJZldsKVOiu",
        "colab_type": "code",
        "colab": {}
      },
      "source": [
        "!source /root/anaconda3/etc/profile.d/conda.sh && conda activate s2cnn && git clone https://github.com/AMLab-Amsterdam/lie_learn.git"
      ],
      "execution_count": null,
      "outputs": []
    },
    {
      "cell_type": "code",
      "metadata": {
        "id": "wi4vP-PkWyat",
        "colab_type": "code",
        "colab": {}
      },
      "source": [
        "!source /root/anaconda3/etc/profile.d/conda.sh && conda activate s2cnn && cd lie_learn;python setup.py install"
      ],
      "execution_count": null,
      "outputs": []
    },
    {
      "cell_type": "code",
      "metadata": {
        "id": "S8Q_tL9_XOoN",
        "colab_type": "code",
        "colab": {}
      },
      "source": [
        "!source /root/anaconda3/etc/profile.d/conda.sh && conda activate s2cnn && pip install pynvrtc joblib"
      ],
      "execution_count": null,
      "outputs": []
    },
    {
      "cell_type": "code",
      "metadata": {
        "id": "dmGqimuWXZL1",
        "colab_type": "code",
        "colab": {}
      },
      "source": [
        "!source /root/anaconda3/etc/profile.d/conda.sh && conda activate s2cnn && conda install -c anaconda scipy"
      ],
      "execution_count": null,
      "outputs": []
    },
    {
      "cell_type": "code",
      "metadata": {
        "id": "X7Dc8hxNXkDF",
        "colab_type": "code",
        "colab": {}
      },
      "source": [
        "!source /root/anaconda3/etc/profile.d/conda.sh && conda activate s2cnn && conda install -c conda-forge rtree shapely"
      ],
      "execution_count": null,
      "outputs": []
    },
    {
      "cell_type": "code",
      "metadata": {
        "id": "aGw4SD5VXkKh",
        "colab_type": "code",
        "colab": {}
      },
      "source": [
        "!source /root/anaconda3/etc/profile.d/conda.sh && conda activate s2cnn && conda install -c conda-forge pyembree"
      ],
      "execution_count": null,
      "outputs": []
    },
    {
      "cell_type": "code",
      "metadata": {
        "id": "pHDf_msXXe57",
        "colab_type": "code",
        "colab": {}
      },
      "source": [
        "!source /root/anaconda3/etc/profile.d/conda.sh && conda activate s2cnn && pip install \"trimesh[easy]\""
      ],
      "execution_count": null,
      "outputs": []
    },
    {
      "cell_type": "code",
      "metadata": {
        "id": "RYn0JVauYDNF",
        "colab_type": "code",
        "colab": {}
      },
      "source": [
        "import os\n",
        "os.chdir('/content/drive/My Drive/s2cnn')#切换工作目录"
      ],
      "execution_count": 28,
      "outputs": []
    },
    {
      "cell_type": "code",
      "metadata": {
        "id": "4yhas7iUYTN6",
        "colab_type": "code",
        "colab": {
          "base_uri": "https://localhost:8080/",
          "height": 34
        },
        "outputId": "389813b1-71b9-4ad9-b16b-994ce1ea8f50"
      },
      "source": [
        "!ls"
      ],
      "execution_count": 29,
      "outputs": [
        {
          "output_type": "stream",
          "text": [
            "examples  FAQ.md  LICENSE  README.md  s2cnn  setup.py  tests\n"
          ],
          "name": "stdout"
        }
      ]
    },
    {
      "cell_type": "code",
      "metadata": {
        "id": "QN2bV9zYYLDo",
        "colab_type": "code",
        "colab": {
          "base_uri": "https://localhost:8080/",
          "height": 1000
        },
        "outputId": "fc50eca3-3663-4ee4-c020-a3afca8beeb9"
      },
      "source": [
        "!source /root/anaconda3/etc/profile.d/conda.sh && conda activate s2cnn && python setup.py install"
      ],
      "execution_count": 30,
      "outputs": [
        {
          "output_type": "stream",
          "text": [
            "running install\n",
            "running bdist_egg\n",
            "running egg_info\n",
            "creating s2cnn.egg-info\n",
            "writing s2cnn.egg-info/PKG-INFO\n",
            "writing dependency_links to s2cnn.egg-info/dependency_links.txt\n",
            "writing top-level names to s2cnn.egg-info/top_level.txt\n",
            "writing manifest file 's2cnn.egg-info/SOURCES.txt'\n",
            "reading manifest file 's2cnn.egg-info/SOURCES.txt'\n",
            "writing manifest file 's2cnn.egg-info/SOURCES.txt'\n",
            "installing library code to build/bdist.linux-x86_64/egg\n",
            "running install_lib\n",
            "running build_py\n",
            "creating build\n",
            "creating build/lib\n",
            "creating build/lib/s2cnn\n",
            "copying s2cnn/__init__.py -> build/lib/s2cnn\n",
            "copying s2cnn/s2_ft.py -> build/lib/s2cnn\n",
            "copying s2cnn/s2_grid.py -> build/lib/s2cnn\n",
            "copying s2cnn/s2_mm.py -> build/lib/s2cnn\n",
            "copying s2cnn/so3_ft.py -> build/lib/s2cnn\n",
            "copying s2cnn/so3_grid.py -> build/lib/s2cnn\n",
            "copying s2cnn/so3_mm.py -> build/lib/s2cnn\n",
            "creating build/lib/s2cnn/soft\n",
            "copying s2cnn/soft/__init__.py -> build/lib/s2cnn/soft\n",
            "copying s2cnn/soft/s2_conv.py -> build/lib/s2cnn/soft\n",
            "copying s2cnn/soft/s2_fft.py -> build/lib/s2cnn/soft\n",
            "copying s2cnn/soft/so3_conv.py -> build/lib/s2cnn/soft\n",
            "copying s2cnn/soft/so3_fft.py -> build/lib/s2cnn/soft\n",
            "copying s2cnn/soft/so3_integrate.py -> build/lib/s2cnn/soft\n",
            "copying s2cnn/soft/so3_rotation.py -> build/lib/s2cnn/soft\n",
            "creating build/lib/s2cnn/utils\n",
            "copying s2cnn/utils/__init__.py -> build/lib/s2cnn/utils\n",
            "copying s2cnn/utils/complex.py -> build/lib/s2cnn/utils\n",
            "copying s2cnn/utils/cuda.py -> build/lib/s2cnn/utils\n",
            "copying s2cnn/utils/decorator.py -> build/lib/s2cnn/utils\n",
            "creating build/bdist.linux-x86_64\n",
            "creating build/bdist.linux-x86_64/egg\n",
            "creating build/bdist.linux-x86_64/egg/s2cnn\n",
            "copying build/lib/s2cnn/__init__.py -> build/bdist.linux-x86_64/egg/s2cnn\n",
            "copying build/lib/s2cnn/s2_ft.py -> build/bdist.linux-x86_64/egg/s2cnn\n",
            "copying build/lib/s2cnn/s2_grid.py -> build/bdist.linux-x86_64/egg/s2cnn\n",
            "copying build/lib/s2cnn/s2_mm.py -> build/bdist.linux-x86_64/egg/s2cnn\n",
            "copying build/lib/s2cnn/so3_ft.py -> build/bdist.linux-x86_64/egg/s2cnn\n",
            "copying build/lib/s2cnn/so3_grid.py -> build/bdist.linux-x86_64/egg/s2cnn\n",
            "copying build/lib/s2cnn/so3_mm.py -> build/bdist.linux-x86_64/egg/s2cnn\n",
            "creating build/bdist.linux-x86_64/egg/s2cnn/soft\n",
            "copying build/lib/s2cnn/soft/__init__.py -> build/bdist.linux-x86_64/egg/s2cnn/soft\n",
            "copying build/lib/s2cnn/soft/s2_conv.py -> build/bdist.linux-x86_64/egg/s2cnn/soft\n",
            "copying build/lib/s2cnn/soft/s2_fft.py -> build/bdist.linux-x86_64/egg/s2cnn/soft\n",
            "copying build/lib/s2cnn/soft/so3_conv.py -> build/bdist.linux-x86_64/egg/s2cnn/soft\n",
            "copying build/lib/s2cnn/soft/so3_fft.py -> build/bdist.linux-x86_64/egg/s2cnn/soft\n",
            "copying build/lib/s2cnn/soft/so3_integrate.py -> build/bdist.linux-x86_64/egg/s2cnn/soft\n",
            "copying build/lib/s2cnn/soft/so3_rotation.py -> build/bdist.linux-x86_64/egg/s2cnn/soft\n",
            "creating build/bdist.linux-x86_64/egg/s2cnn/utils\n",
            "copying build/lib/s2cnn/utils/__init__.py -> build/bdist.linux-x86_64/egg/s2cnn/utils\n",
            "copying build/lib/s2cnn/utils/complex.py -> build/bdist.linux-x86_64/egg/s2cnn/utils\n",
            "copying build/lib/s2cnn/utils/cuda.py -> build/bdist.linux-x86_64/egg/s2cnn/utils\n",
            "copying build/lib/s2cnn/utils/decorator.py -> build/bdist.linux-x86_64/egg/s2cnn/utils\n",
            "byte-compiling build/bdist.linux-x86_64/egg/s2cnn/__init__.py to __init__.cpython-36.pyc\n",
            "byte-compiling build/bdist.linux-x86_64/egg/s2cnn/s2_ft.py to s2_ft.cpython-36.pyc\n",
            "byte-compiling build/bdist.linux-x86_64/egg/s2cnn/s2_grid.py to s2_grid.cpython-36.pyc\n",
            "byte-compiling build/bdist.linux-x86_64/egg/s2cnn/s2_mm.py to s2_mm.cpython-36.pyc\n",
            "byte-compiling build/bdist.linux-x86_64/egg/s2cnn/so3_ft.py to so3_ft.cpython-36.pyc\n",
            "byte-compiling build/bdist.linux-x86_64/egg/s2cnn/so3_grid.py to so3_grid.cpython-36.pyc\n",
            "byte-compiling build/bdist.linux-x86_64/egg/s2cnn/so3_mm.py to so3_mm.cpython-36.pyc\n",
            "byte-compiling build/bdist.linux-x86_64/egg/s2cnn/soft/__init__.py to __init__.cpython-36.pyc\n",
            "byte-compiling build/bdist.linux-x86_64/egg/s2cnn/soft/s2_conv.py to s2_conv.cpython-36.pyc\n",
            "byte-compiling build/bdist.linux-x86_64/egg/s2cnn/soft/s2_fft.py to s2_fft.cpython-36.pyc\n",
            "byte-compiling build/bdist.linux-x86_64/egg/s2cnn/soft/so3_conv.py to so3_conv.cpython-36.pyc\n",
            "byte-compiling build/bdist.linux-x86_64/egg/s2cnn/soft/so3_fft.py to so3_fft.cpython-36.pyc\n",
            "byte-compiling build/bdist.linux-x86_64/egg/s2cnn/soft/so3_integrate.py to so3_integrate.cpython-36.pyc\n",
            "byte-compiling build/bdist.linux-x86_64/egg/s2cnn/soft/so3_rotation.py to so3_rotation.cpython-36.pyc\n",
            "byte-compiling build/bdist.linux-x86_64/egg/s2cnn/utils/__init__.py to __init__.cpython-36.pyc\n",
            "byte-compiling build/bdist.linux-x86_64/egg/s2cnn/utils/complex.py to complex.cpython-36.pyc\n",
            "byte-compiling build/bdist.linux-x86_64/egg/s2cnn/utils/cuda.py to cuda.cpython-36.pyc\n",
            "byte-compiling build/bdist.linux-x86_64/egg/s2cnn/utils/decorator.py to decorator.cpython-36.pyc\n",
            "creating build/bdist.linux-x86_64/egg/EGG-INFO\n",
            "copying s2cnn.egg-info/PKG-INFO -> build/bdist.linux-x86_64/egg/EGG-INFO\n",
            "copying s2cnn.egg-info/SOURCES.txt -> build/bdist.linux-x86_64/egg/EGG-INFO\n",
            "copying s2cnn.egg-info/dependency_links.txt -> build/bdist.linux-x86_64/egg/EGG-INFO\n",
            "copying s2cnn.egg-info/top_level.txt -> build/bdist.linux-x86_64/egg/EGG-INFO\n",
            "zip_safe flag not set; analyzing archive contents...\n",
            "creating dist\n",
            "creating 'dist/s2cnn-1.0.0-py3.6.egg' and adding 'build/bdist.linux-x86_64/egg' to it\n",
            "removing 'build/bdist.linux-x86_64/egg' (and everything under it)\n",
            "Processing s2cnn-1.0.0-py3.6.egg\n",
            "Copying s2cnn-1.0.0-py3.6.egg to /root/anaconda3/envs/s2cnn/lib/python3.6/site-packages\n",
            "Adding s2cnn 1.0.0 to easy-install.pth file\n",
            "\n",
            "Installed /root/anaconda3/envs/s2cnn/lib/python3.6/site-packages/s2cnn-1.0.0-py3.6.egg\n",
            "Processing dependencies for s2cnn==1.0.0\n",
            "Finished processing dependencies for s2cnn==1.0.0\n"
          ],
          "name": "stdout"
        }
      ]
    },
    {
      "cell_type": "code",
      "metadata": {
        "id": "8a-YPJrbZctm",
        "colab_type": "code",
        "colab": {}
      },
      "source": [
        "!source /root/anaconda3/etc/profile.d/conda.sh && conda activate s2cnn && pip install matplotlib"
      ],
      "execution_count": null,
      "outputs": []
    },
    {
      "cell_type": "code",
      "metadata": {
        "id": "7mtQPRrragRk",
        "colab_type": "code",
        "colab": {}
      },
      "source": [
        "!source /root/anaconda3/etc/profile.d/conda.sh && conda activate s2cnn && conda install nodejs"
      ],
      "execution_count": null,
      "outputs": []
    },
    {
      "cell_type": "code",
      "metadata": {
        "id": "2CFaT3a0XZfy",
        "colab_type": "code",
        "colab": {}
      },
      "source": [
        "!source /root/anaconda3/etc/profile.d/conda.sh && conda activate s2cnn && cd ./examples/equivariance_error; python main.py"
      ],
      "execution_count": null,
      "outputs": []
    },
    {
      "cell_type": "code",
      "metadata": {
        "id": "8vCoqtRcbC5-",
        "colab_type": "code",
        "colab": {
          "base_uri": "https://localhost:8080/",
          "height": 823
        },
        "outputId": "d90cd55c-76bf-42af-ca4a-7e336c138ca6"
      },
      "source": [
        "!source /root/anaconda3/etc/profile.d/conda.sh && conda activate s2cnn && cd ./examples/shrec17; python train.py --model_path model.py --log_dir my_run --dataset train --batch_size 32 --learning_rate 0.5 --augmentation 5"
      ],
      "execution_count": 42,
      "outputs": [
        {
          "output_type": "stream",
          "text": [
            "{'num_workers': 1, 'batch_size': 32, 'dataset': 'train', 'augmentation': 5, 'model_path': 'model.py', 'log_dir': 'my_run', 'learning_rate': 0.5}\n",
            "402955 paramerters in total\n",
            "5555 paramerters in the last layer\n",
            "learning rate = 0.5 and batch size = 32\n",
            "transform data/train_perturbed/034203.obj...\n",
            "Exception during transform of data/train_perturbed/034203.obj\n",
            "Traceback (most recent call last):\n",
            "  File \"train.py\", line 142, in <module>\n",
            "transform data/train_perturbed/038818.obj...\n",
            "    main(**args.__dict__)\n",
            "  File \"train.py\", line 107, in main\n",
            "    for batch_idx, (data, target) in enumerate(train_loader):\n",
            "  File \"/root/anaconda3/envs/s2cnn/lib/python3.6/site-packages/torch/utils/data/dataloader.py\", line 363, in __next__\n",
            "    data = self._next_data()\n",
            "  File \"/root/anaconda3/envs/s2cnn/lib/python3.6/site-packages/torch/utils/data/dataloader.py\", line 989, in _next_data\n",
            "    return self._process_data(data)\n",
            "  File \"/root/anaconda3/envs/s2cnn/lib/python3.6/site-packages/torch/utils/data/dataloader.py\", line 1014, in _process_data\n",
            "    data.reraise()\n",
            "  File \"/root/anaconda3/envs/s2cnn/lib/python3.6/site-packages/torch/_utils.py\", line 395, in reraise\n",
            "    raise self.exc_type(msg)\n",
            "TypeError: Caught TypeError in DataLoader worker process 0.\n",
            "Original Traceback (most recent call last):\n",
            "  File \"/root/anaconda3/envs/s2cnn/lib/python3.6/site-packages/torch/utils/data/_utils/worker.py\", line 185, in _worker_loop\n",
            "    data = fetcher.fetch(index)\n",
            "  File \"/root/anaconda3/envs/s2cnn/lib/python3.6/site-packages/torch/utils/data/_utils/fetch.py\", line 44, in fetch\n",
            "    data = [self.dataset[idx] for idx in possibly_batched_index]\n",
            "  File \"/root/anaconda3/envs/s2cnn/lib/python3.6/site-packages/torch/utils/data/_utils/fetch.py\", line 44, in <listcomp>\n",
            "    data = [self.dataset[idx] for idx in possibly_batched_index]\n",
            "  File \"/content/drive/My Drive/s2cnn/examples/shrec17/dataset.py\", line 275, in __getitem__\n",
            "    img = self.transform(img)\n",
            "  File \"/content/drive/My Drive/s2cnn/examples/shrec17/dataset.py\", line 216, in __call__\n",
            "    img = self.check_trans(file_path)\n",
            "  File \"/content/drive/My Drive/s2cnn/examples/shrec17/dataset.py\", line 198, in check_trans\n",
            "    return self.transform(file_path)\n",
            "  File \"/root/anaconda3/envs/s2cnn/lib/python3.6/site-packages/torchvision/transforms/transforms.py\", line 61, in __call__\n",
            "    img = t(img)\n",
            "  File \"/content/drive/My Drive/s2cnn/examples/shrec17/dataset.py\", line 112, in __call__\n",
            "    mesh = trimesh.load_mesh(path)\n",
            "  File \"/root/anaconda3/envs/s2cnn/lib/python3.6/site-packages/trimesh/constants.py\", line 134, in timed\n",
            "    result = method(*args, **kwargs)\n",
            "  File \"/root/anaconda3/envs/s2cnn/lib/python3.6/site-packages/trimesh/exchange/load.py\", line 222, in load_mesh\n",
            "    **kwargs)\n",
            "  File \"/root/anaconda3/envs/s2cnn/lib/python3.6/site-packages/trimesh/exchange/obj.py\", line 177, in load_obj\n",
            "    raise E\n",
            "  File \"/root/anaconda3/envs/s2cnn/lib/python3.6/site-packages/trimesh/exchange/obj.py\", line 174, in load_obj\n",
            "    uv = vt[mask_vt]\n",
            "TypeError: 'NoneType' object is not subscriptable\n",
            "\n"
          ],
          "name": "stdout"
        }
      ]
    },
    {
      "cell_type": "code",
      "metadata": {
        "id": "AqK5fvkRgxYo",
        "colab_type": "code",
        "colab": {
          "base_uri": "https://localhost:8080/",
          "height": 50
        },
        "outputId": "bfab4bc2-22bf-40a8-e75d-df8ee0bb68b7"
      },
      "source": [
        "!ls"
      ],
      "execution_count": 51,
      "outputs": [
        {
          "output_type": "stream",
          "text": [
            "build  examples  LICENSE    s2cnn\t    setup.py\n",
            "dist   FAQ.md\t README.md  s2cnn.egg-info  tests\n"
          ],
          "name": "stdout"
        }
      ]
    },
    {
      "cell_type": "code",
      "metadata": {
        "id": "L_GgL3SWgzc8",
        "colab_type": "code",
        "colab": {
          "base_uri": "https://localhost:8080/",
          "height": 34
        },
        "outputId": "4072f5dc-4898-4a70-e1a8-73b32ae05c96"
      },
      "source": [
        "!cd ./examples/shrec17/data && ls"
      ],
      "execution_count": 47,
      "outputs": [
        {
          "output_type": "stream",
          "text": [
            "test.csv  test_perturbed.zip  train.csv  train_perturbed.zip\n"
          ],
          "name": "stdout"
        }
      ]
    },
    {
      "cell_type": "code",
      "metadata": {
        "id": "vKnbvLGYhe4S",
        "colab_type": "code",
        "colab": {}
      },
      "source": [
        "!cd ./examples/shrec17/data && unzip train_perturbed.zip"
      ],
      "execution_count": null,
      "outputs": []
    },
    {
      "cell_type": "code",
      "metadata": {
        "id": "tJmntTMzg6Rz",
        "colab_type": "code",
        "colab": {}
      },
      "source": [
        "!cd ./examples/shrec17/data && rm -rf train_perturbed"
      ],
      "execution_count": 46,
      "outputs": []
    }
  ]
}