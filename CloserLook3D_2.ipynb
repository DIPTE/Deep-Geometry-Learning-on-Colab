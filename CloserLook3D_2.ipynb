{
  "nbformat": 4,
  "nbformat_minor": 0,
  "metadata": {
    "colab": {
      "name": "CloserLook3D.ipynb",
      "provenance": [],
      "collapsed_sections": [],
      "machine_shape": "hm",
      "mount_file_id": "1WEAP01sGkM25CcIL-b4onaSkb_mJNG4j",
      "authorship_tag": "ABX9TyPVQCJQYyd0pmvNWnT+QdZd",
      "include_colab_link": true
    },
    "kernelspec": {
      "name": "python3",
      "display_name": "Python 3"
    },
    "accelerator": "GPU"
  },
  "cells": [
    {
      "cell_type": "markdown",
      "metadata": {
        "id": "view-in-github",
        "colab_type": "text"
      },
      "source": [
        "<a href=\"https://colab.research.google.com/github/DIPTE/Deep-Geometry-Learning-on-Colab/blob/master/CloserLook3D_2.ipynb\" target=\"_parent\"><img src=\"https://colab.research.google.com/assets/colab-badge.svg\" alt=\"Open In Colab\"/></a>"
      ]
    },
    {
      "cell_type": "code",
      "metadata": {
        "id": "0Ho2wJham3DP",
        "colab_type": "code",
        "colab": {
          "base_uri": "https://localhost:8080/",
          "height": 35
        },
        "outputId": "35fddd07-16e7-4106-ceb9-9d347867fb3c"
      },
      "source": [
        "from google.colab import drive\n",
        "drive.mount('/content/drive')"
      ],
      "execution_count": null,
      "outputs": [
        {
          "output_type": "stream",
          "text": [
            "Drive already mounted at /content/drive; to attempt to forcibly remount, call drive.mount(\"/content/drive\", force_remount=True).\n"
          ],
          "name": "stdout"
        }
      ]
    },
    {
      "cell_type": "code",
      "metadata": {
        "id": "yCyVAHPVmV7M",
        "colab_type": "code",
        "colab": {}
      },
      "source": [
        "import os\n",
        "os.chdir('/content/drive/My Drive')#切换工作目录"
      ],
      "execution_count": null,
      "outputs": []
    },
    {
      "cell_type": "code",
      "metadata": {
        "id": "WMric026n2Wz",
        "colab_type": "code",
        "colab": {}
      },
      "source": [
        "!ls"
      ],
      "execution_count": null,
      "outputs": []
    },
    {
      "cell_type": "code",
      "metadata": {
        "id": "ZCQjrvwJnxVb",
        "colab_type": "code",
        "colab": {}
      },
      "source": [
        "!git clone https://github.com/zeliu98/CloserLook3D.git"
      ],
      "execution_count": null,
      "outputs": []
    },
    {
      "cell_type": "code",
      "metadata": {
        "id": "Q4JzXnsNoOKq",
        "colab_type": "code",
        "colab": {}
      },
      "source": [
        "!nvcc -V"
      ],
      "execution_count": null,
      "outputs": []
    },
    {
      "cell_type": "code",
      "metadata": {
        "id": "cA0XbOZlobfJ",
        "colab_type": "code",
        "colab": {}
      },
      "source": [
        "!pip list"
      ],
      "execution_count": null,
      "outputs": []
    },
    {
      "cell_type": "code",
      "metadata": {
        "id": "FyrjeRhkozRh",
        "colab_type": "code",
        "colab": {}
      },
      "source": [
        "!pip install pillow==6.2.2"
      ],
      "execution_count": null,
      "outputs": []
    },
    {
      "cell_type": "code",
      "metadata": {
        "id": "-1dM7qYYo-sA",
        "colab_type": "code",
        "colab": {}
      },
      "source": [
        "!pip install termcolor opencv-python tensorboard h5py easydict"
      ],
      "execution_count": null,
      "outputs": []
    },
    {
      "cell_type": "code",
      "metadata": {
        "id": "lur778CooBhC",
        "colab_type": "code",
        "colab": {}
      },
      "source": [
        "import os\n",
        "os.chdir('/content/drive/My Drive/CloserLook3D/pytorch')#切换工作目录"
      ],
      "execution_count": 5,
      "outputs": []
    },
    {
      "cell_type": "code",
      "metadata": {
        "id": "4DxCfYRIqEJp",
        "colab_type": "code",
        "colab": {}
      },
      "source": [
        "!ls"
      ],
      "execution_count": null,
      "outputs": []
    },
    {
      "cell_type": "code",
      "metadata": {
        "id": "bNQaQuXVq7MD",
        "colab_type": "code",
        "colab": {
          "base_uri": "https://localhost:8080/",
          "height": 665
        },
        "outputId": "1f065627-e17b-4a28-a11f-c396c0658764"
      },
      "source": [
        "!sh init.sh"
      ],
      "execution_count": 8,
      "outputs": [
        {
          "output_type": "stream",
          "text": [
            "\u001b[39mrunning build_ext\u001b[0m\n",
            "running install\n",
            "running bdist_egg\n",
            "running egg_info\n",
            "writing pt_custom_ops.egg-info/PKG-INFO\n",
            "writing dependency_links to pt_custom_ops.egg-info/dependency_links.txt\n",
            "writing top-level names to pt_custom_ops.egg-info/top_level.txt\n",
            "/usr/local/lib/python3.6/dist-packages/torch/utils/cpp_extension.py:335: UserWarning: Attempted to use ninja as the BuildExtension backend but we could not find ninja.. Falling back to using the slow distutils backend.\n",
            "  warnings.warn(msg.format('we could not find ninja.'))\n",
            "writing manifest file 'pt_custom_ops.egg-info/SOURCES.txt'\n",
            "installing library code to build/bdist.linux-x86_64/egg\n",
            "running install_lib\n",
            "running build_ext\n",
            "creating build/bdist.linux-x86_64/egg\n",
            "creating build/bdist.linux-x86_64/egg/pt_custom_ops\n",
            "copying build/lib.linux-x86_64-3.6/pt_custom_ops/_ext.cpython-36m-x86_64-linux-gnu.so -> build/bdist.linux-x86_64/egg/pt_custom_ops\n",
            "creating stub loader for pt_custom_ops/_ext.cpython-36m-x86_64-linux-gnu.so\n",
            "byte-compiling build/bdist.linux-x86_64/egg/pt_custom_ops/_ext.py to _ext.cpython-36.pyc\n",
            "creating build/bdist.linux-x86_64/egg/EGG-INFO\n",
            "copying pt_custom_ops.egg-info/PKG-INFO -> build/bdist.linux-x86_64/egg/EGG-INFO\n",
            "copying pt_custom_ops.egg-info/SOURCES.txt -> build/bdist.linux-x86_64/egg/EGG-INFO\n",
            "copying pt_custom_ops.egg-info/dependency_links.txt -> build/bdist.linux-x86_64/egg/EGG-INFO\n",
            "copying pt_custom_ops.egg-info/top_level.txt -> build/bdist.linux-x86_64/egg/EGG-INFO\n",
            "writing build/bdist.linux-x86_64/egg/EGG-INFO/native_libs.txt\n",
            "zip_safe flag not set; analyzing archive contents...\n",
            "pt_custom_ops.__pycache__._ext.cpython-36: module references __file__\n",
            "creating 'dist/pt_custom_ops-0.0.0-py3.6-linux-x86_64.egg' and adding 'build/bdist.linux-x86_64/egg' to it\n",
            "removing 'build/bdist.linux-x86_64/egg' (and everything under it)\n",
            "Processing pt_custom_ops-0.0.0-py3.6-linux-x86_64.egg\n",
            "creating /root/.local/lib/python3.6/site-packages/pt_custom_ops-0.0.0-py3.6-linux-x86_64.egg\n",
            "Extracting pt_custom_ops-0.0.0-py3.6-linux-x86_64.egg to /root/.local/lib/python3.6/site-packages\n",
            "Adding pt-custom-ops 0.0.0 to easy-install.pth file\n",
            "\n",
            "Installed /root/.local/lib/python3.6/site-packages/pt_custom_ops-0.0.0-py3.6-linux-x86_64.egg\n",
            "Processing dependencies for pt-custom-ops==0.0.0\n",
            "Finished processing dependencies for pt-custom-ops==0.0.0\n"
          ],
          "name": "stdout"
        }
      ]
    },
    {
      "cell_type": "code",
      "metadata": {
        "id": "UnZJ2JEqrZMe",
        "colab_type": "code",
        "colab": {
          "base_uri": "https://localhost:8080/",
          "height": 341
        },
        "outputId": "0eae2496-665c-4738-d16e-07597fed2016"
      },
      "source": [
        "!pip install torch==1.4.0 torchvision==0.5.0"
      ],
      "execution_count": 11,
      "outputs": [
        {
          "output_type": "stream",
          "text": [
            "Collecting torch==1.4.0\n",
            "\u001b[?25l  Downloading https://files.pythonhosted.org/packages/24/19/4804aea17cd136f1705a5e98a00618cb8f6ccc375ad8bfa437408e09d058/torch-1.4.0-cp36-cp36m-manylinux1_x86_64.whl (753.4MB)\n",
            "\u001b[K     |████████████████████████████████| 753.4MB 20kB/s \n",
            "\u001b[33mWARNING: Retrying (Retry(total=4, connect=None, read=None, redirect=None, status=None)) after connection broken by 'ProtocolError('Connection aborted.', ConnectionResetError(104, 'Connection reset by peer'))': /simple/torchvision/\u001b[0m\n",
            "\u001b[?25hCollecting torchvision==0.5.0\n",
            "\u001b[?25l  Downloading https://files.pythonhosted.org/packages/7e/90/6141bf41f5655c78e24f40f710fdd4f8a8aff6c8b7c6f0328240f649bdbe/torchvision-0.5.0-cp36-cp36m-manylinux1_x86_64.whl (4.0MB)\n",
            "\u001b[K     |████████████████████████████████| 4.0MB 51.3MB/s \n",
            "\u001b[?25hRequirement already satisfied: numpy in /usr/local/lib/python3.6/dist-packages (from torchvision==0.5.0) (1.18.5)\n",
            "Requirement already satisfied: six in /usr/local/lib/python3.6/dist-packages (from torchvision==0.5.0) (1.15.0)\n",
            "Requirement already satisfied: pillow>=4.1.1 in /usr/local/lib/python3.6/dist-packages (from torchvision==0.5.0) (7.0.0)\n",
            "Installing collected packages: torch, torchvision\n",
            "  Found existing installation: torch 1.6.0+cu101\n",
            "    Uninstalling torch-1.6.0+cu101:\n",
            "      Successfully uninstalled torch-1.6.0+cu101\n",
            "  Found existing installation: torchvision 0.7.0+cu101\n",
            "    Uninstalling torchvision-0.7.0+cu101:\n",
            "      Successfully uninstalled torchvision-0.7.0+cu101\n",
            "Successfully installed torch-1.4.0 torchvision-0.5.0\n"
          ],
          "name": "stdout"
        }
      ]
    },
    {
      "cell_type": "code",
      "metadata": {
        "id": "-HKI7GXwqTpu",
        "colab_type": "code",
        "colab": {
          "base_uri": "https://localhost:8080/",
          "height": 1000
        },
        "outputId": "ba1fef6e-c3c3-4ec8-9077-f36eac399c13"
      },
      "source": [
        "!python  ./function/evaluate_modelnet_dist.py --cfg /content/drive/My\\ Drive/CloserLook3D/pytorch/cfgs/modelnet/pospool_xyz_avg.yaml --load_path /content/drive/My\\ Drive/CloserLook3D/pytorch/pospool_google_avg.pth"
      ],
      "execution_count": 23,
      "outputs": [
        {
          "output_type": "stream",
          "text": [
            "pospool_xyz_avg\n",
            "Namespace(batch_size=None, cfg='/content/drive/My Drive/CloserLook3D/pytorch/cfgs/modelnet/pospool_xyz_avg.yaml', data_root='data', load_path='/content/drive/My Drive/CloserLook3D/pytorch/pospool_google_avg.pth', local_rank=None, log_dir='log_eval', num_points=None, num_workers=4, rng_seed=0)\n",
            "{'epochs': 600, 'start_epoch': 1, 'base_learning_rate': 0.002, 'lr_scheduler': 'step', 'optimizer': 'sgd', 'warmup_epoch': 10, 'warmup_multiplier': 100, 'lr_decay_steps': 1, 'lr_decay_rate': 0.9885531, 'weight_decay': 0.001, 'momentum': 0.98, 'backbone': 'resnet', 'head': 'resnet_cls', 'radius': 0.05, 'sampleDl': 0.02, 'density_parameter': 5.0, 'nsamples': [20, 31, 38, 36, 34], 'npoints': [2048, 512, 128, 32], 'width': 144, 'depth': 2, 'bottleneck_ratio': 2, 'datasets': 'modelnet40', 'data_root': 'data', 'num_classes': 40, 'num_parts': 0, 'input_features_dim': 3, 'batch_size': 16, 'num_points': 10000, 'num_workers': 4, 'x_angle_range': 0.0, 'y_angle_range': 0.0, 'z_angle_range': 0.0, 'scale_low': 0.6, 'scale_high': 1.4, 'noise_std': 0.002, 'noise_clip': 0.05, 'translate_range': 0.0, 'color_drop': 0.2, 'augment_symmetries': [0, 0, 0], 'in_radius': 2.0, 'num_steps': 500, 'load_path': '/content/drive/My Drive/CloserLook3D/pytorch/pospool_google_avg.pth', 'print_freq': 10, 'save_freq': 10, 'val_freq': 10, 'log_dir': 'log_eval/modelnet40/pospool_xyz_avg', 'local_rank': None, 'amp_opt_level': '', 'rng_seed': 0, 'local_aggregation_type': 'pospool', 'pospool': {'position_embedding': 'xyz', 'reduction': 'avg', 'output_conv': False}, 'adaptive_weight': {'weight_type': 'dp', 'num_mlps': 1, 'shared_channels': 1, 'weight_softmax': False, 'reduction': 'avg', 'output_conv': False}, 'pointwisemlp': {'feature_type': 'dp_fj', 'num_mlps': 1, 'reduction': 'max'}, 'pseudo_grid': {'fixed_kernel_points': 'center', 'KP_influence': 'linear', 'KP_extent': 1.0, 'num_kernel_points': 15, 'convolution_mode': 'sum', 'output_conv': False}}\n",
            "log_eval /content/drive/My Drive/CloserLook3D/pytorch/cfgs/modelnet/pospool_xyz_avg.yaml\n",
            "cp: cannot stat '/content/drive/My': No such file or directory\n",
            "cp: cannot stat 'Drive/CloserLook3D/pytorch/cfgs/modelnet/pospool_xyz_avg.yaml': No such file or directory\n",
            "\u001b[32m[09/18 08:00:04 modelnet40_eval]: \u001b[0mFull config saved to log_eval/modelnet40/pospool_xyz_avg/config.json\n",
            "data\n",
            "data\n",
            "data/ModelNet40/modelnet40_normal_resampled\n",
            "data/ModelNet40/test_0.020_data.pkl loaded successfully\n",
            "test dataset has 2468 data with  10000 points\n",
            "\u001b[32m[09/18 08:00:05 modelnet40_eval]: \u001b[0mlength of testing dataset: 2468\n",
            "\u001b[32m[09/18 08:00:10 modelnet40_eval]: \u001b[0m=> loading checkpoint '/content/drive/My Drive/CloserLook3D/pytorch/pospool_google_avg.pth'\n",
            "\u001b[32m[09/18 08:00:10 modelnet40_eval]: \u001b[0m==> checking loaded ckpt\n",
            "\u001b[32m[09/18 08:00:11 modelnet40_eval]: \u001b[0mTest: [0/155]\tTime 0.851 (0.851)\tLoss 3.7300 (3.7300)\tAcc@1 0.000% (0.000%)\n",
            "\u001b[32m[09/18 08:00:16 modelnet40_eval]: \u001b[0mTest: [10/155]\tTime 0.537 (0.538)\tLoss 3.6896 (3.7171)\tAcc@1 0.000% (0.000%)\n",
            "\u001b[32m[09/18 08:00:21 modelnet40_eval]: \u001b[0mTest: [20/155]\tTime 0.530 (0.530)\tLoss 3.6657 (3.6990)\tAcc@1 0.000% (0.000%)\n",
            "\u001b[32m[09/18 08:00:26 modelnet40_eval]: \u001b[0mTest: [30/155]\tTime 0.539 (0.525)\tLoss 3.7052 (3.6994)\tAcc@1 0.000% (0.000%)\n",
            "\u001b[32m[09/18 08:00:31 modelnet40_eval]: \u001b[0mTest: [40/155]\tTime 0.506 (0.523)\tLoss 3.6730 (3.6966)\tAcc@1 0.000% (0.000%)\n",
            "\u001b[32m[09/18 08:00:36 modelnet40_eval]: \u001b[0mTest: [50/155]\tTime 0.513 (0.522)\tLoss 3.7056 (3.6948)\tAcc@1 0.000% (0.000%)\n",
            "\u001b[32m[09/18 08:00:42 modelnet40_eval]: \u001b[0mTest: [60/155]\tTime 0.517 (0.522)\tLoss 3.7114 (3.6919)\tAcc@1 0.000% (0.000%)\n",
            "\u001b[32m[09/18 08:00:47 modelnet40_eval]: \u001b[0mTest: [70/155]\tTime 0.469 (0.519)\tLoss 3.6451 (3.6900)\tAcc@1 0.000% (0.000%)\n",
            "\u001b[32m[09/18 08:00:52 modelnet40_eval]: \u001b[0mTest: [80/155]\tTime 0.538 (0.518)\tLoss 3.6762 (3.6886)\tAcc@1 0.000% (0.000%)\n",
            "\u001b[32m[09/18 08:00:57 modelnet40_eval]: \u001b[0mTest: [90/155]\tTime 0.545 (0.519)\tLoss 3.7102 (3.6896)\tAcc@1 0.000% (0.000%)\n",
            "\u001b[32m[09/18 08:01:02 modelnet40_eval]: \u001b[0mTest: [100/155]\tTime 0.518 (0.519)\tLoss 3.6735 (3.6901)\tAcc@1 0.000% (0.000%)\n",
            "\u001b[32m[09/18 08:01:07 modelnet40_eval]: \u001b[0mTest: [110/155]\tTime 0.516 (0.518)\tLoss 3.6813 (3.6913)\tAcc@1 0.000% (0.000%)\n",
            "\u001b[32m[09/18 08:01:12 modelnet40_eval]: \u001b[0mTest: [120/155]\tTime 0.511 (0.518)\tLoss 3.6881 (3.6909)\tAcc@1 0.000% (0.000%)\n",
            "\u001b[32m[09/18 08:01:17 modelnet40_eval]: \u001b[0mTest: [130/155]\tTime 0.489 (0.516)\tLoss 3.6568 (3.6889)\tAcc@1 0.000% (0.000%)\n",
            "\u001b[32m[09/18 08:01:23 modelnet40_eval]: \u001b[0mTest: [140/155]\tTime 0.532 (0.517)\tLoss 3.7099 (3.6889)\tAcc@1 0.000% (0.000%)\n",
            "\u001b[32m[09/18 08:01:28 modelnet40_eval]: \u001b[0mTest: [150/155]\tTime 0.534 (0.518)\tLoss 3.6979 (3.6899)\tAcc@1 0.000% (0.000%)\n",
            "\u001b[32m[09/18 08:01:30 modelnet40_eval]: \u001b[0m * Acc@1 0.810%\n",
            "\u001b[32m[09/18 08:01:30 modelnet40_eval]: \u001b[0m * Vote0 Acc@1 0.810%\n",
            "\u001b[32m[09/18 08:01:31 modelnet40_eval]: \u001b[0mTest: [0/155]\tTime 0.824 (0.519)\tLoss 3.7302 (3.6900)\tAcc@1 0.000% (0.000%)\n",
            "\u001b[32m[09/18 08:01:36 modelnet40_eval]: \u001b[0mTest: [10/155]\tTime 0.555 (0.520)\tLoss 3.6895 (3.6915)\tAcc@1 0.000% (0.000%)\n",
            "\u001b[32m[09/18 08:01:42 modelnet40_eval]: \u001b[0mTest: [20/155]\tTime 0.562 (0.522)\tLoss 3.6656 (3.6908)\tAcc@1 0.000% (0.000%)\n",
            "\u001b[32m[09/18 08:01:47 modelnet40_eval]: \u001b[0mTest: [30/155]\tTime 0.576 (0.523)\tLoss 3.7051 (3.6913)\tAcc@1 0.000% (0.000%)\n",
            "\u001b[32m[09/18 08:01:53 modelnet40_eval]: \u001b[0mTest: [40/155]\tTime 0.533 (0.524)\tLoss 3.6732 (3.6912)\tAcc@1 0.000% (0.000%)\n",
            "\u001b[32m[09/18 08:01:58 modelnet40_eval]: \u001b[0mTest: [50/155]\tTime 0.544 (0.526)\tLoss 3.7055 (3.6910)\tAcc@1 0.000% (0.000%)\n",
            "\u001b[32m[09/18 08:02:04 modelnet40_eval]: \u001b[0mTest: [60/155]\tTime 0.555 (0.527)\tLoss 3.7116 (3.6903)\tAcc@1 0.000% (0.000%)\n",
            "\u001b[32m[09/18 08:02:09 modelnet40_eval]: \u001b[0mTest: [70/155]\tTime 0.495 (0.527)\tLoss 3.6452 (3.6898)\tAcc@1 0.000% (0.000%)\n",
            "\u001b[32m[09/18 08:02:14 modelnet40_eval]: \u001b[0mTest: [80/155]\tTime 0.560 (0.528)\tLoss 3.6767 (3.6893)\tAcc@1 0.000% (0.000%)\n",
            "\u001b[32m[09/18 08:02:20 modelnet40_eval]: \u001b[0mTest: [90/155]\tTime 0.558 (0.529)\tLoss 3.7099 (3.6897)\tAcc@1 0.000% (0.000%)\n",
            "\u001b[32m[09/18 08:02:25 modelnet40_eval]: \u001b[0mTest: [100/155]\tTime 0.546 (0.529)\tLoss 3.6732 (3.6898)\tAcc@1 0.000% (0.000%)\n",
            "\u001b[32m[09/18 08:02:31 modelnet40_eval]: \u001b[0mTest: [110/155]\tTime 0.558 (0.530)\tLoss 3.6810 (3.6904)\tAcc@1 0.000% (0.000%)\n",
            "\u001b[32m[09/18 08:02:36 modelnet40_eval]: \u001b[0mTest: [120/155]\tTime 0.538 (0.530)\tLoss 3.6889 (3.6902)\tAcc@1 0.000% (0.000%)\n",
            "\u001b[32m[09/18 08:02:42 modelnet40_eval]: \u001b[0mTest: [130/155]\tTime 0.527 (0.531)\tLoss 3.6555 (3.6893)\tAcc@1 0.000% (0.000%)\n",
            "\u001b[32m[09/18 08:02:47 modelnet40_eval]: \u001b[0mTest: [140/155]\tTime 0.552 (0.531)\tLoss 3.7096 (3.6893)\tAcc@1 0.000% (0.000%)\n",
            "\u001b[32m[09/18 08:02:53 modelnet40_eval]: \u001b[0mTest: [150/155]\tTime 0.539 (0.532)\tLoss 3.6978 (3.6898)\tAcc@1 0.000% (0.000%)\n",
            "\u001b[32m[09/18 08:02:55 modelnet40_eval]: \u001b[0m * Acc@1 0.810%\n",
            "\u001b[32m[09/18 08:02:55 modelnet40_eval]: \u001b[0m * Vote1 Acc@1 0.810%\n",
            "\u001b[32m[09/18 08:02:55 modelnet40_eval]: \u001b[0mTest: [0/155]\tTime 0.792 (0.533)\tLoss 3.7302 (3.6898)\tAcc@1 0.000% (0.000%)\n",
            "\u001b[32m[09/18 08:03:01 modelnet40_eval]: \u001b[0mTest: [10/155]\tTime 0.557 (0.533)\tLoss 3.6895 (3.6906)\tAcc@1 0.000% (0.000%)\n",
            "\u001b[32m[09/18 08:03:06 modelnet40_eval]: \u001b[0mTest: [20/155]\tTime 0.562 (0.533)\tLoss 3.6652 (3.6903)\tAcc@1 0.000% (0.000%)\n",
            "\u001b[32m[09/18 08:03:12 modelnet40_eval]: \u001b[0mTest: [30/155]\tTime 0.569 (0.534)\tLoss 3.7048 (3.6906)\tAcc@1 0.000% (0.000%)\n",
            "\u001b[32m[09/18 08:03:17 modelnet40_eval]: \u001b[0mTest: [40/155]\tTime 0.532 (0.534)\tLoss 3.6733 (3.6905)\tAcc@1 0.000% (0.000%)\n",
            "\u001b[32m[09/18 08:03:23 modelnet40_eval]: \u001b[0mTest: [50/155]\tTime 0.546 (0.534)\tLoss 3.7057 (3.6904)\tAcc@1 0.000% (0.000%)\n",
            "\u001b[32m[09/18 08:03:28 modelnet40_eval]: \u001b[0mTest: [60/155]\tTime 0.560 (0.535)\tLoss 3.7114 (3.6901)\tAcc@1 0.000% (0.000%)\n",
            "\u001b[32m[09/18 08:03:34 modelnet40_eval]: \u001b[0mTest: [70/155]\tTime 0.493 (0.535)\tLoss 3.6445 (3.6897)\tAcc@1 0.000% (0.000%)\n",
            "\u001b[32m[09/18 08:03:39 modelnet40_eval]: \u001b[0mTest: [80/155]\tTime 0.540 (0.535)\tLoss 3.6765 (3.6895)\tAcc@1 0.000% (0.000%)\n",
            "\u001b[32m[09/18 08:03:44 modelnet40_eval]: \u001b[0mTest: [90/155]\tTime 0.562 (0.535)\tLoss 3.7101 (3.6897)\tAcc@1 0.000% (0.000%)\n",
            "\u001b[32m[09/18 08:03:50 modelnet40_eval]: \u001b[0mTest: [100/155]\tTime 0.527 (0.536)\tLoss 3.6737 (3.6898)\tAcc@1 0.000% (0.000%)\n",
            "\u001b[32m[09/18 08:03:55 modelnet40_eval]: \u001b[0mTest: [110/155]\tTime 0.557 (0.536)\tLoss 3.6810 (3.6901)\tAcc@1 0.000% (0.000%)\n",
            "\u001b[32m[09/18 08:04:01 modelnet40_eval]: \u001b[0mTest: [120/155]\tTime 0.556 (0.536)\tLoss 3.6896 (3.6900)\tAcc@1 0.000% (0.000%)\n",
            "\u001b[32m[09/18 08:04:06 modelnet40_eval]: \u001b[0mTest: [130/155]\tTime 0.532 (0.536)\tLoss 3.6554 (3.6894)\tAcc@1 0.000% (0.000%)\n",
            "\u001b[32m[09/18 08:04:12 modelnet40_eval]: \u001b[0mTest: [140/155]\tTime 0.542 (0.536)\tLoss 3.7098 (3.6894)\tAcc@1 0.000% (0.000%)\n",
            "\u001b[32m[09/18 08:04:17 modelnet40_eval]: \u001b[0mTest: [150/155]\tTime 0.550 (0.537)\tLoss 3.6979 (3.6897)\tAcc@1 0.000% (0.000%)\n",
            "\u001b[32m[09/18 08:04:19 modelnet40_eval]: \u001b[0m * Acc@1 0.810%\n",
            "\u001b[32m[09/18 08:04:19 modelnet40_eval]: \u001b[0m * Vote2 Acc@1 0.810%\n",
            "\u001b[32m[09/18 08:04:20 modelnet40_eval]: \u001b[0mTest: [0/155]\tTime 0.804 (0.537)\tLoss 3.7300 (3.6898)\tAcc@1 0.000% (0.000%)\n",
            "\u001b[32m[09/18 08:04:25 modelnet40_eval]: \u001b[0mTest: [10/155]\tTime 0.558 (0.537)\tLoss 3.6895 (3.6903)\tAcc@1 0.000% (0.000%)\n",
            "\u001b[32m[09/18 08:04:31 modelnet40_eval]: \u001b[0mTest: [20/155]\tTime 0.558 (0.537)\tLoss 3.6660 (3.6901)\tAcc@1 0.000% (0.000%)\n",
            "\u001b[32m[09/18 08:04:36 modelnet40_eval]: \u001b[0mTest: [30/155]\tTime 0.556 (0.537)\tLoss 3.7058 (3.6903)\tAcc@1 0.000% (0.000%)\n",
            "\u001b[32m[09/18 08:04:42 modelnet40_eval]: \u001b[0mTest: [40/155]\tTime 0.545 (0.538)\tLoss 3.6732 (3.6902)\tAcc@1 0.000% (0.000%)\n",
            "\u001b[32m[09/18 08:04:47 modelnet40_eval]: \u001b[0mTest: [50/155]\tTime 0.550 (0.538)\tLoss 3.7056 (3.6902)\tAcc@1 0.000% (0.000%)\n",
            "\u001b[32m[09/18 08:04:53 modelnet40_eval]: \u001b[0mTest: [60/155]\tTime 0.564 (0.538)\tLoss 3.7113 (3.6899)\tAcc@1 0.000% (0.000%)\n",
            "\u001b[32m[09/18 08:04:58 modelnet40_eval]: \u001b[0mTest: [70/155]\tTime 0.488 (0.538)\tLoss 3.6448 (3.6897)\tAcc@1 0.000% (0.000%)\n",
            "\u001b[32m[09/18 08:05:03 modelnet40_eval]: \u001b[0mTest: [80/155]\tTime 0.562 (0.538)\tLoss 3.6764 (3.6895)\tAcc@1 0.000% (0.000%)\n",
            "\u001b[32m[09/18 08:05:09 modelnet40_eval]: \u001b[0mTest: [90/155]\tTime 0.565 (0.538)\tLoss 3.7100 (3.6897)\tAcc@1 0.000% (0.000%)\n",
            "\u001b[32m[09/18 08:05:14 modelnet40_eval]: \u001b[0mTest: [100/155]\tTime 0.543 (0.538)\tLoss 3.6739 (3.6897)\tAcc@1 0.000% (0.000%)\n",
            "\u001b[32m[09/18 08:05:20 modelnet40_eval]: \u001b[0mTest: [110/155]\tTime 0.560 (0.538)\tLoss 3.6811 (3.6900)\tAcc@1 0.000% (0.000%)\n",
            "\u001b[32m[09/18 08:05:25 modelnet40_eval]: \u001b[0mTest: [120/155]\tTime 0.558 (0.538)\tLoss 3.6884 (3.6899)\tAcc@1 0.000% (0.000%)\n",
            "\u001b[32m[09/18 08:05:31 modelnet40_eval]: \u001b[0mTest: [130/155]\tTime 0.524 (0.538)\tLoss 3.6559 (3.6895)\tAcc@1 0.000% (0.000%)\n",
            "\u001b[32m[09/18 08:05:36 modelnet40_eval]: \u001b[0mTest: [140/155]\tTime 0.550 (0.539)\tLoss 3.7097 (3.6895)\tAcc@1 0.000% (0.000%)\n",
            "\u001b[32m[09/18 08:05:42 modelnet40_eval]: \u001b[0mTest: [150/155]\tTime 0.551 (0.539)\tLoss 3.6979 (3.6897)\tAcc@1 0.000% (0.000%)\n",
            "\u001b[32m[09/18 08:05:44 modelnet40_eval]: \u001b[0m * Acc@1 0.810%\n",
            "\u001b[32m[09/18 08:05:44 modelnet40_eval]: \u001b[0m * Vote3 Acc@1 0.810%\n",
            "\u001b[32m[09/18 08:05:45 modelnet40_eval]: \u001b[0mTest: [0/155]\tTime 0.800 (0.539)\tLoss 3.7300 (3.6897)\tAcc@1 0.000% (0.000%)\n",
            "\u001b[32m[09/18 08:05:50 modelnet40_eval]: \u001b[0mTest: [10/155]\tTime 0.555 (0.539)\tLoss 3.6895 (3.6901)\tAcc@1 0.000% (0.000%)\n",
            "\u001b[32m[09/18 08:05:55 modelnet40_eval]: \u001b[0mTest: [20/155]\tTime 0.555 (0.539)\tLoss 3.6660 (3.6900)\tAcc@1 0.000% (0.000%)\n",
            "\u001b[32m[09/18 08:06:01 modelnet40_eval]: \u001b[0mTest: [30/155]\tTime 0.580 (0.539)\tLoss 3.7053 (3.6901)\tAcc@1 0.000% (0.000%)\n",
            "\u001b[32m[09/18 08:06:06 modelnet40_eval]: \u001b[0mTest: [40/155]\tTime 0.544 (0.539)\tLoss 3.6732 (3.6901)\tAcc@1 0.000% (0.000%)\n",
            "\u001b[32m[09/18 08:06:12 modelnet40_eval]: \u001b[0mTest: [50/155]\tTime 0.549 (0.539)\tLoss 3.7054 (3.6901)\tAcc@1 0.000% (0.000%)\n",
            "\u001b[32m[09/18 08:06:17 modelnet40_eval]: \u001b[0mTest: [60/155]\tTime 0.552 (0.540)\tLoss 3.7114 (3.6899)\tAcc@1 0.000% (0.000%)\n",
            "\u001b[32m[09/18 08:06:23 modelnet40_eval]: \u001b[0mTest: [70/155]\tTime 0.491 (0.539)\tLoss 3.6449 (3.6897)\tAcc@1 0.000% (0.000%)\n",
            "\u001b[32m[09/18 08:06:28 modelnet40_eval]: \u001b[0mTest: [80/155]\tTime 0.554 (0.539)\tLoss 3.6765 (3.6895)\tAcc@1 0.000% (0.000%)\n",
            "\u001b[32m[09/18 08:06:33 modelnet40_eval]: \u001b[0mTest: [90/155]\tTime 0.560 (0.540)\tLoss 3.7100 (3.6897)\tAcc@1 0.000% (0.000%)\n",
            "\u001b[32m[09/18 08:06:44 modelnet40_eval]: \u001b[0mTest: [110/155]\tTime 0.564 (0.540)\tLoss 3.6809 (3.6899)\tAcc@1 0.000% (0.000%)\n",
            "\u001b[32m[09/18 08:06:50 modelnet40_eval]: \u001b[0mTest: [120/155]\tTime 0.549 (0.540)\tLoss 3.6891 (3.6899)\tAcc@1 0.000% (0.000%)\n",
            "\u001b[32m[09/18 08:06:55 modelnet40_eval]: \u001b[0mTest: [130/155]\tTime 0.542 (0.540)\tLoss 3.6562 (3.6895)\tAcc@1 0.000% (0.000%)\n",
            "\u001b[32m[09/18 08:07:01 modelnet40_eval]: \u001b[0mTest: [140/155]\tTime 0.567 (0.540)\tLoss 3.7100 (3.6895)\tAcc@1 0.000% (0.000%)\n",
            "\u001b[32m[09/18 08:07:06 modelnet40_eval]: \u001b[0mTest: [150/155]\tTime 0.564 (0.540)\tLoss 3.6983 (3.6897)\tAcc@1 0.000% (0.000%)\n",
            "\u001b[32m[09/18 08:07:08 modelnet40_eval]: \u001b[0m * Acc@1 0.810%\n",
            "\u001b[32m[09/18 08:07:08 modelnet40_eval]: \u001b[0m * Vote4 Acc@1 0.810%\n",
            "\u001b[32m[09/18 08:07:09 modelnet40_eval]: \u001b[0mTest: [0/155]\tTime 0.796 (0.540)\tLoss 3.7303 (3.6897)\tAcc@1 0.000% (0.000%)\n",
            "\u001b[32m[09/18 08:07:14 modelnet40_eval]: \u001b[0mTest: [10/155]\tTime 0.553 (0.540)\tLoss 3.6895 (3.6901)\tAcc@1 0.000% (0.000%)\n",
            "\u001b[32m[09/18 08:07:20 modelnet40_eval]: \u001b[0mTest: [20/155]\tTime 0.561 (0.540)\tLoss 3.6658 (3.6899)\tAcc@1 0.000% (0.000%)\n",
            "\u001b[32m[09/18 08:07:25 modelnet40_eval]: \u001b[0mTest: [30/155]\tTime 0.555 (0.540)\tLoss 3.7051 (3.6900)\tAcc@1 0.000% (0.000%)\n",
            "\u001b[32m[09/18 08:07:31 modelnet40_eval]: \u001b[0mTest: [40/155]\tTime 0.531 (0.540)\tLoss 3.6734 (3.6900)\tAcc@1 0.000% (0.000%)\n",
            "\u001b[32m[09/18 08:07:36 modelnet40_eval]: \u001b[0mTest: [50/155]\tTime 0.539 (0.540)\tLoss 3.7057 (3.6900)\tAcc@1 0.000% (0.000%)\n",
            "\u001b[32m[09/18 08:07:42 modelnet40_eval]: \u001b[0mTest: [60/155]\tTime 0.552 (0.541)\tLoss 3.7112 (3.6898)\tAcc@1 0.000% (0.000%)\n",
            "\u001b[32m[09/18 08:07:47 modelnet40_eval]: \u001b[0mTest: [70/155]\tTime 0.484 (0.541)\tLoss 3.6456 (3.6897)\tAcc@1 0.000% (0.000%)\n",
            "\u001b[32m[09/18 08:07:52 modelnet40_eval]: \u001b[0mTest: [80/155]\tTime 0.555 (0.541)\tLoss 3.6769 (3.6896)\tAcc@1 0.000% (0.000%)\n",
            "\u001b[32m[09/18 08:07:58 modelnet40_eval]: \u001b[0mTest: [90/155]\tTime 0.566 (0.541)\tLoss 3.7100 (3.6897)\tAcc@1 0.000% (0.000%)\n",
            "\u001b[32m[09/18 08:08:04 modelnet40_eval]: \u001b[0mTest: [100/155]\tTime 0.540 (0.541)\tLoss 3.6736 (3.6897)\tAcc@1 0.000% (0.000%)\n",
            "\u001b[32m[09/18 08:08:09 modelnet40_eval]: \u001b[0mTest: [110/155]\tTime 0.559 (0.541)\tLoss 3.6809 (3.6899)\tAcc@1 0.000% (0.000%)\n",
            "\u001b[32m[09/18 08:08:14 modelnet40_eval]: \u001b[0mTest: [120/155]\tTime 0.554 (0.541)\tLoss 3.6887 (3.6898)\tAcc@1 0.000% (0.000%)\n",
            "\u001b[32m[09/18 08:08:20 modelnet40_eval]: \u001b[0mTest: [130/155]\tTime 0.536 (0.541)\tLoss 3.6562 (3.6895)\tAcc@1 0.000% (0.000%)\n",
            "\u001b[32m[09/18 08:08:25 modelnet40_eval]: \u001b[0mTest: [140/155]\tTime 0.538 (0.541)\tLoss 3.7097 (3.6896)\tAcc@1 0.000% (0.000%)\n",
            "\u001b[32m[09/18 08:08:31 modelnet40_eval]: \u001b[0mTest: [150/155]\tTime 0.558 (0.541)\tLoss 3.6979 (3.6897)\tAcc@1 0.000% (0.000%)\n",
            "\u001b[32m[09/18 08:08:33 modelnet40_eval]: \u001b[0m * Acc@1 0.810%\n",
            "\u001b[32m[09/18 08:08:33 modelnet40_eval]: \u001b[0m * Vote5 Acc@1 0.810%\n",
            "\u001b[32m[09/18 08:08:34 modelnet40_eval]: \u001b[0mTest: [0/155]\tTime 0.816 (0.541)\tLoss 3.7302 (3.6897)\tAcc@1 0.000% (0.000%)\n",
            "\u001b[32m[09/18 08:08:39 modelnet40_eval]: \u001b[0mTest: [10/155]\tTime 0.560 (0.541)\tLoss 3.6896 (3.6900)\tAcc@1 0.000% (0.000%)\n",
            "\u001b[32m[09/18 08:08:45 modelnet40_eval]: \u001b[0mTest: [20/155]\tTime 0.573 (0.541)\tLoss 3.6660 (3.6899)\tAcc@1 0.000% (0.000%)\n",
            "\u001b[32m[09/18 08:08:50 modelnet40_eval]: \u001b[0mTest: [30/155]\tTime 0.554 (0.541)\tLoss 3.7058 (3.6900)\tAcc@1 0.000% (0.000%)\n",
            "\u001b[32m[09/18 08:08:55 modelnet40_eval]: \u001b[0mTest: [40/155]\tTime 0.536 (0.541)\tLoss 3.6734 (3.6900)\tAcc@1 0.000% (0.000%)\n",
            "\u001b[32m[09/18 08:09:01 modelnet40_eval]: \u001b[0mTest: [50/155]\tTime 0.540 (0.541)\tLoss 3.7056 (3.6899)\tAcc@1 0.000% (0.000%)\n",
            "\u001b[32m[09/18 08:09:06 modelnet40_eval]: \u001b[0mTest: [60/155]\tTime 0.555 (0.541)\tLoss 3.7116 (3.6898)\tAcc@1 0.000% (0.000%)\n",
            "\u001b[32m[09/18 08:09:12 modelnet40_eval]: \u001b[0mTest: [70/155]\tTime 0.511 (0.541)\tLoss 3.6452 (3.6897)\tAcc@1 0.000% (0.000%)\n",
            "\u001b[32m[09/18 08:09:17 modelnet40_eval]: \u001b[0mTest: [80/155]\tTime 0.552 (0.541)\tLoss 3.6760 (3.6896)\tAcc@1 0.000% (0.000%)\n",
            "\u001b[32m[09/18 08:09:22 modelnet40_eval]: \u001b[0mTest: [90/155]\tTime 0.553 (0.541)\tLoss 3.7103 (3.6897)\tAcc@1 0.000% (0.000%)\n",
            "\u001b[32m[09/18 08:09:28 modelnet40_eval]: \u001b[0mTest: [100/155]\tTime 0.543 (0.541)\tLoss 3.6734 (3.6897)\tAcc@1 0.000% (0.000%)\n",
            "\u001b[32m[09/18 08:09:33 modelnet40_eval]: \u001b[0mTest: [110/155]\tTime 0.554 (0.541)\tLoss 3.6811 (3.6899)\tAcc@1 0.000% (0.000%)\n",
            "\u001b[32m[09/18 08:09:39 modelnet40_eval]: \u001b[0mTest: [120/155]\tTime 0.541 (0.541)\tLoss 3.6882 (3.6898)\tAcc@1 0.000% (0.000%)\n",
            "\u001b[32m[09/18 08:09:44 modelnet40_eval]: \u001b[0mTest: [130/155]\tTime 0.527 (0.541)\tLoss 3.6561 (3.6896)\tAcc@1 0.000% (0.000%)\n",
            "\u001b[32m[09/18 08:09:50 modelnet40_eval]: \u001b[0mTest: [140/155]\tTime 0.554 (0.541)\tLoss 3.7100 (3.6896)\tAcc@1 0.000% (0.000%)\n",
            "\u001b[32m[09/18 08:09:55 modelnet40_eval]: \u001b[0mTest: [150/155]\tTime 0.561 (0.542)\tLoss 3.6977 (3.6897)\tAcc@1 0.000% (0.000%)\n",
            "\u001b[32m[09/18 08:09:57 modelnet40_eval]: \u001b[0m * Acc@1 0.810%\n",
            "\u001b[32m[09/18 08:09:57 modelnet40_eval]: \u001b[0m * Vote6 Acc@1 0.810%\n",
            "\u001b[32m[09/18 08:09:58 modelnet40_eval]: \u001b[0mTest: [0/155]\tTime 0.802 (0.542)\tLoss 3.7301 (3.6897)\tAcc@1 0.000% (0.000%)\n",
            "\u001b[32m[09/18 08:10:03 modelnet40_eval]: \u001b[0mTest: [10/155]\tTime 0.552 (0.542)\tLoss 3.6893 (3.6900)\tAcc@1 0.000% (0.000%)\n",
            "\u001b[32m[09/18 08:10:09 modelnet40_eval]: \u001b[0mTest: [20/155]\tTime 0.553 (0.542)\tLoss 3.6659 (3.6899)\tAcc@1 0.000% (0.000%)\n",
            "\u001b[32m[09/18 08:10:14 modelnet40_eval]: \u001b[0mTest: [30/155]\tTime 0.583 (0.542)\tLoss 3.7053 (3.6899)\tAcc@1 0.000% (0.000%)\n",
            "\u001b[32m[09/18 08:10:20 modelnet40_eval]: \u001b[0mTest: [40/155]\tTime 0.546 (0.542)\tLoss 3.6734 (3.6899)\tAcc@1 0.000% (0.000%)\n",
            "\u001b[32m[09/18 08:10:25 modelnet40_eval]: \u001b[0mTest: [50/155]\tTime 0.550 (0.542)\tLoss 3.7058 (3.6899)\tAcc@1 0.000% (0.000%)\n",
            "\u001b[32m[09/18 08:10:31 modelnet40_eval]: \u001b[0mTest: [60/155]\tTime 0.547 (0.542)\tLoss 3.7116 (3.6898)\tAcc@1 0.000% (0.000%)\n",
            "\u001b[32m[09/18 08:10:36 modelnet40_eval]: \u001b[0mTest: [70/155]\tTime 0.511 (0.542)\tLoss 3.6448 (3.6897)\tAcc@1 0.000% (0.000%)\n",
            "\u001b[32m[09/18 08:10:42 modelnet40_eval]: \u001b[0mTest: [80/155]\tTime 0.556 (0.542)\tLoss 3.6769 (3.6896)\tAcc@1 0.000% (0.000%)\n",
            "\u001b[32m[09/18 08:10:47 modelnet40_eval]: \u001b[0mTest: [90/155]\tTime 0.572 (0.542)\tLoss 3.7099 (3.6897)\tAcc@1 0.000% (0.000%)\n",
            "\u001b[32m[09/18 08:10:53 modelnet40_eval]: \u001b[0mTest: [100/155]\tTime 0.546 (0.542)\tLoss 3.6733 (3.6897)\tAcc@1 0.000% (0.000%)\n",
            "\u001b[32m[09/18 08:10:58 modelnet40_eval]: \u001b[0mTest: [110/155]\tTime 0.558 (0.542)\tLoss 3.6809 (3.6898)\tAcc@1 0.000% (0.000%)\n",
            "\u001b[32m[09/18 08:11:04 modelnet40_eval]: \u001b[0mTest: [120/155]\tTime 0.549 (0.542)\tLoss 3.6888 (3.6898)\tAcc@1 0.000% (0.000%)\n",
            "\u001b[32m[09/18 08:11:09 modelnet40_eval]: \u001b[0mTest: [130/155]\tTime 0.544 (0.542)\tLoss 3.6566 (3.6896)\tAcc@1 0.000% (0.000%)\n",
            "\u001b[32m[09/18 08:11:14 modelnet40_eval]: \u001b[0mTest: [140/155]\tTime 0.564 (0.542)\tLoss 3.7099 (3.6896)\tAcc@1 0.000% (0.000%)\n",
            "\u001b[32m[09/18 08:11:20 modelnet40_eval]: \u001b[0mTest: [150/155]\tTime 0.559 (0.542)\tLoss 3.6984 (3.6897)\tAcc@1 0.000% (0.000%)\n",
            "\u001b[32m[09/18 08:11:22 modelnet40_eval]: \u001b[0m * Acc@1 0.810%\n",
            "\u001b[32m[09/18 08:11:22 modelnet40_eval]: \u001b[0m * Vote7 Acc@1 0.810%\n",
            "\u001b[32m[09/18 08:11:23 modelnet40_eval]: \u001b[0mTest: [0/155]\tTime 0.820 (0.542)\tLoss 3.7300 (3.6897)\tAcc@1 0.000% (0.000%)\n",
            "\u001b[32m[09/18 08:11:28 modelnet40_eval]: \u001b[0mTest: [10/155]\tTime 0.550 (0.542)\tLoss 3.6894 (3.6899)\tAcc@1 0.000% (0.000%)\n",
            "\u001b[32m[09/18 08:11:34 modelnet40_eval]: \u001b[0mTest: [20/155]\tTime 0.553 (0.542)\tLoss 3.6655 (3.6898)\tAcc@1 0.000% (0.000%)\n",
            "\u001b[32m[09/18 08:11:39 modelnet40_eval]: \u001b[0mTest: [30/155]\tTime 0.568 (0.542)\tLoss 3.7053 (3.6899)\tAcc@1 0.000% (0.000%)\n",
            "\u001b[32m[09/18 08:11:45 modelnet40_eval]: \u001b[0mTest: [40/155]\tTime 0.536 (0.542)\tLoss 3.6733 (3.6899)\tAcc@1 0.000% (0.000%)\n",
            "\u001b[32m[09/18 08:11:50 modelnet40_eval]: \u001b[0mTest: [50/155]\tTime 0.552 (0.542)\tLoss 3.7057 (3.6899)\tAcc@1 0.000% (0.000%)\n",
            "\u001b[32m[09/18 08:11:55 modelnet40_eval]: \u001b[0mTest: [60/155]\tTime 0.553 (0.542)\tLoss 3.7114 (3.6898)\tAcc@1 0.000% (0.000%)\n",
            "\u001b[32m[09/18 08:12:01 modelnet40_eval]: \u001b[0mTest: [70/155]\tTime 0.470 (0.542)\tLoss 3.6455 (3.6897)\tAcc@1 0.000% (0.000%)\n",
            "\u001b[32m[09/18 08:12:06 modelnet40_eval]: \u001b[0mTest: [80/155]\tTime 0.544 (0.542)\tLoss 3.6771 (3.6896)\tAcc@1 0.000% (0.000%)\n",
            "\u001b[32m[09/18 08:12:12 modelnet40_eval]: \u001b[0mTest: [90/155]\tTime 0.570 (0.542)\tLoss 3.7100 (3.6897)\tAcc@1 0.000% (0.000%)\n",
            "\u001b[32m[09/18 08:12:17 modelnet40_eval]: \u001b[0mTest: [100/155]\tTime 0.544 (0.542)\tLoss 3.6735 (3.6897)\tAcc@1 0.000% (0.000%)\n",
            "\u001b[32m[09/18 08:12:23 modelnet40_eval]: \u001b[0mTest: [110/155]\tTime 0.546 (0.542)\tLoss 3.6810 (3.6898)\tAcc@1 0.000% (0.000%)\n",
            "\u001b[32m[09/18 08:12:28 modelnet40_eval]: \u001b[0mTest: [120/155]\tTime 0.543 (0.542)\tLoss 3.6888 (3.6898)\tAcc@1 0.000% (0.000%)\n",
            "\u001b[32m[09/18 08:12:33 modelnet40_eval]: \u001b[0mTest: [130/155]\tTime 0.534 (0.542)\tLoss 3.6555 (3.6896)\tAcc@1 0.000% (0.000%)\n",
            "\u001b[32m[09/18 08:12:39 modelnet40_eval]: \u001b[0mTest: [140/155]\tTime 0.555 (0.542)\tLoss 3.7095 (3.6896)\tAcc@1 0.000% (0.000%)\n",
            "\u001b[32m[09/18 08:12:44 modelnet40_eval]: \u001b[0mTest: [150/155]\tTime 0.558 (0.543)\tLoss 3.6983 (3.6897)\tAcc@1 0.000% (0.000%)\n",
            "\u001b[32m[09/18 08:12:46 modelnet40_eval]: \u001b[0m * Acc@1 0.810%\n",
            "\u001b[32m[09/18 08:12:46 modelnet40_eval]: \u001b[0m * Vote8 Acc@1 0.810%\n",
            "\u001b[32m[09/18 08:12:47 modelnet40_eval]: \u001b[0mTest: [0/155]\tTime 0.791 (0.543)\tLoss 3.7301 (3.6897)\tAcc@1 0.000% (0.000%)\n",
            "\u001b[32m[09/18 08:12:52 modelnet40_eval]: \u001b[0mTest: [10/155]\tTime 0.542 (0.542)\tLoss 3.6893 (3.6899)\tAcc@1 0.000% (0.000%)\n",
            "\u001b[32m[09/18 08:12:58 modelnet40_eval]: \u001b[0mTest: [20/155]\tTime 0.575 (0.543)\tLoss 3.6650 (3.6898)\tAcc@1 0.000% (0.000%)\n",
            "\u001b[32m[09/18 08:13:03 modelnet40_eval]: \u001b[0mTest: [30/155]\tTime 0.574 (0.543)\tLoss 3.7051 (3.6899)\tAcc@1 0.000% (0.000%)\n",
            "\u001b[32m[09/18 08:13:09 modelnet40_eval]: \u001b[0mTest: [40/155]\tTime 0.533 (0.543)\tLoss 3.6733 (3.6899)\tAcc@1 0.000% (0.000%)\n",
            "\u001b[32m[09/18 08:13:14 modelnet40_eval]: \u001b[0mTest: [50/155]\tTime 0.560 (0.543)\tLoss 3.7057 (3.6899)\tAcc@1 0.000% (0.000%)\n",
            "\u001b[32m[09/18 08:13:20 modelnet40_eval]: \u001b[0mTest: [60/155]\tTime 0.563 (0.543)\tLoss 3.7112 (3.6898)\tAcc@1 0.000% (0.000%)\n",
            "\u001b[32m[09/18 08:13:25 modelnet40_eval]: \u001b[0mTest: [70/155]\tTime 0.497 (0.543)\tLoss 3.6451 (3.6897)\tAcc@1 0.000% (0.000%)\n",
            "\u001b[32m[09/18 08:13:31 modelnet40_eval]: \u001b[0mTest: [80/155]\tTime 0.561 (0.543)\tLoss 3.6764 (3.6896)\tAcc@1 0.000% (0.000%)\n",
            "\u001b[32m[09/18 08:13:36 modelnet40_eval]: \u001b[0mTest: [90/155]\tTime 0.564 (0.543)\tLoss 3.7101 (3.6897)\tAcc@1 0.000% (0.000%)\n",
            "\u001b[32m[09/18 08:13:42 modelnet40_eval]: \u001b[0mTest: [100/155]\tTime 0.540 (0.543)\tLoss 3.6737 (3.6897)\tAcc@1 0.000% (0.000%)\n",
            "\u001b[32m[09/18 08:13:47 modelnet40_eval]: \u001b[0mTest: [110/155]\tTime 0.552 (0.543)\tLoss 3.6810 (3.6898)\tAcc@1 0.000% (0.000%)\n",
            "\u001b[32m[09/18 08:13:52 modelnet40_eval]: \u001b[0mTest: [120/155]\tTime 0.567 (0.543)\tLoss 3.6884 (3.6898)\tAcc@1 0.000% (0.000%)\n",
            "\u001b[32m[09/18 08:13:58 modelnet40_eval]: \u001b[0mTest: [130/155]\tTime 0.551 (0.543)\tLoss 3.6550 (3.6896)\tAcc@1 0.000% (0.000%)\n",
            "\u001b[32m[09/18 08:14:03 modelnet40_eval]: \u001b[0mTest: [140/155]\tTime 0.553 (0.543)\tLoss 3.7099 (3.6896)\tAcc@1 0.000% (0.000%)\n",
            "\u001b[32m[09/18 08:14:09 modelnet40_eval]: \u001b[0mTest: [150/155]\tTime 0.553 (0.543)\tLoss 3.6982 (3.6897)\tAcc@1 0.000% (0.000%)\n",
            "\u001b[32m[09/18 08:14:11 modelnet40_eval]: \u001b[0m * Acc@1 0.810%\n",
            "\u001b[32m[09/18 08:14:11 modelnet40_eval]: \u001b[0m * Vote9 Acc@1 0.810%\n"
          ],
          "name": "stdout"
        }
      ]
    },
    {
      "cell_type": "code",
      "metadata": {
        "id": "vr97FXB8QWqc",
        "colab_type": "code",
        "colab": {}
      },
      "source": [
        "!python  ./function/evaluate_modelnet_dist.py --cfg /content/drive/My\\ Drive/CloserLook3D/pytorch/cfgs/modelnet/pospool_xyz_avg.yaml --load_path /content/drive/My\\ Drive/CloserLook3D/pytorch/pospool_google_avg.pth"
      ],
      "execution_count": null,
      "outputs": []
    },
    {
      "cell_type": "code",
      "metadata": {
        "id": "bHZ3F2zfwgOB",
        "colab_type": "code",
        "colab": {}
      },
      "source": [
        "!cd ./data/ModelNet40 && wget https://shapenet.cs.stanford.edu/media/modelnet40_normal_resampled.zip --no-check-certificate && unzip modelnet40_normal_resampled.zip"
      ],
      "execution_count": null,
      "outputs": []
    },
    {
      "cell_type": "code",
      "metadata": {
        "id": "eAu_5-cSDYEX",
        "colab_type": "code",
        "colab": {}
      },
      "source": [
        "!cd ./data/ModelNet40 && rm -rf modelnet40_normal_resampled "
      ],
      "execution_count": 21,
      "outputs": []
    },
    {
      "cell_type": "code",
      "metadata": {
        "id": "togobj5cEjvb",
        "colab_type": "code",
        "colab": {}
      },
      "source": [
        "!cd ./data/ModelNet40 && unzip modelnet40_normal_resampled.zip"
      ],
      "execution_count": null,
      "outputs": []
    }
  ]
}