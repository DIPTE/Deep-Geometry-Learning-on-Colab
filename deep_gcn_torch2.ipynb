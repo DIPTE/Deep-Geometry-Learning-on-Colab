{
  "nbformat": 4,
  "nbformat_minor": 0,
  "metadata": {
    "colab": {
      "name": "deep_gcn_torch2.ipynb",
      "provenance": [],
      "collapsed_sections": [],
      "machine_shape": "hm",
      "mount_file_id": "1-OO5idmy_XWsizoI6kiukWqQF2sJv6zC",
      "authorship_tag": "ABX9TyMatygw1zBWRrWGS4wxUjJ+",
      "include_colab_link": true
    },
    "kernelspec": {
      "name": "python3",
      "display_name": "Python 3"
    },
    "accelerator": "GPU"
  },
  "cells": [
    {
      "cell_type": "markdown",
      "metadata": {
        "id": "view-in-github",
        "colab_type": "text"
      },
      "source": [
        "<a href=\"https://colab.research.google.com/github/DIPTE/Deep-Geometry-Learning-on-Colab/blob/master/deep_gcn_torch2.ipynb\" target=\"_parent\"><img src=\"https://colab.research.google.com/assets/colab-badge.svg\" alt=\"Open In Colab\"/></a>"
      ]
    },
    {
      "cell_type": "code",
      "metadata": {
        "id": "Yop9LEdGQ81o",
        "colab_type": "code",
        "colab": {}
      },
      "source": [
        "!git clone https://github.com/lightaime/deep_gcns_torch.git"
      ],
      "execution_count": null,
      "outputs": []
    },
    {
      "cell_type": "code",
      "metadata": {
        "id": "Ddzw04gkSy0u",
        "colab_type": "code",
        "colab": {}
      },
      "source": [
        "!nvcc -V"
      ],
      "execution_count": null,
      "outputs": []
    },
    {
      "cell_type": "code",
      "metadata": {
        "id": "VXK6JlziR5H_",
        "colab_type": "code",
        "colab": {
          "base_uri": "https://localhost:8080/",
          "height": 34
        },
        "outputId": "b8f83619-f71e-4c1f-a283-b398735b9cc9"
      },
      "source": [
        "!ls"
      ],
      "execution_count": 21,
      "outputs": [
        {
          "output_type": "stream",
          "text": [
            "'Colab Notebooks'   deep_gcns_torch\n"
          ],
          "name": "stdout"
        }
      ]
    },
    {
      "cell_type": "code",
      "metadata": {
        "id": "bX7NNa8pTIex",
        "colab_type": "code",
        "colab": {}
      },
      "source": [
        "!pip list"
      ],
      "execution_count": null,
      "outputs": []
    },
    {
      "cell_type": "code",
      "metadata": {
        "id": "2knjUwe3SX_V",
        "colab_type": "code",
        "colab": {}
      },
      "source": [
        "import os\n",
        "os.chdir('/content/drive/My Drive')#切换工作目录"
      ],
      "execution_count": 4,
      "outputs": []
    },
    {
      "cell_type": "code",
      "metadata": {
        "id": "Ra6k5gbGTjfT",
        "colab_type": "code",
        "colab": {}
      },
      "source": [
        "!pip install tensorflow==1.14.0 "
      ],
      "execution_count": null,
      "outputs": []
    },
    {
      "cell_type": "code",
      "metadata": {
        "id": "LqQzTmapTyWP",
        "colab_type": "code",
        "colab": {}
      },
      "source": [
        "!pip install torch===1.4.0+cu100 torchvision===0.5.0+cu100 -f https://download.pytorch.org/whl/torch_stable.html"
      ],
      "execution_count": null,
      "outputs": []
    },
    {
      "cell_type": "code",
      "metadata": {
        "id": "XALqL725T-dW",
        "colab_type": "code",
        "colab": {}
      },
      "source": [
        "!pip install torch-scatter==latest+cu100 -f https://pytorch-geometric.com/whl/torch-1.4.0.html\n",
        "!pip install torch-sparse==latest+cu100 -f https://pytorch-geometric.com/whl/torch-1.4.0.html\n",
        "!pip install torch-spline-conv==latest+cu100 -f https://pytorch-geometric.com/whl/torch-1.4.0.html\n",
        "!pip install torch-cluster==latest+cu100  -f https://pytorch-geometric.com/whl/torch-1.4.0.html\n",
        "!pip install torch-geometric"
      ],
      "execution_count": null,
      "outputs": []
    },
    {
      "cell_type": "code",
      "metadata": {
        "id": "xI8LVy7eUrW4",
        "colab_type": "code",
        "colab": {}
      },
      "source": [
        "#!pip install --upgrade tensorflow-graphics# install useful modules\n",
        "!pip install requests # sometimes pytorch geometric forget to install it, but it is in need\n",
        "!pip install tqdm"
      ],
      "execution_count": null,
      "outputs": []
    },
    {
      "cell_type": "code",
      "metadata": {
        "id": "A8rm3P1lVp3r",
        "colab_type": "code",
        "colab": {
          "base_uri": "https://localhost:8080/",
          "height": 50
        },
        "outputId": "f461b243-dc9c-456c-ce45-275fe3b5b747"
      },
      "source": [
        "!cd deep_gcns_torch/examples/modelnet_cls/ && python architecture.py"
      ],
      "execution_count": 10,
      "outputs": [
        {
          "output_type": "stream",
          "text": [
            "Input size torch.Size([2, 3, 1024, 1])\n",
            "Output size torch.Size([2, 40])\n"
          ],
          "name": "stdout"
        }
      ]
    },
    {
      "cell_type": "code",
      "metadata": {
        "id": "mNtVg5vOVt6_",
        "colab_type": "code",
        "colab": {}
      },
      "source": [
        "!cd deep_gcns_torch/examples/modelnet_cls/ && python data.py"
      ],
      "execution_count": null,
      "outputs": []
    },
    {
      "cell_type": "code",
      "metadata": {
        "id": "kNaxiDHsXA-f",
        "colab_type": "code",
        "colab": {}
      },
      "source": [
        "!cd deep_gcns_torch/examples/modelnet_cls/ && python main.py "
      ],
      "execution_count": null,
      "outputs": []
    },
    {
      "cell_type": "code",
      "metadata": {
        "id": "Q2hgBkDxXEVk",
        "colab_type": "code",
        "colab": {}
      },
      "source": [
        "!cd deep_gcns_torch/examples/modelnet_cls/ && python main.py --phase test --n_blocks 14 --block res  --pretrained_model ./deep_gcns_torch/examples/modelnet_cls/pretrained_model --data_dir /deep_gcns_torch/examples/modelnet_cls/test/modelnet40_ply_hdf5_2048"
      ],
      "execution_count": null,
      "outputs": []
    },
    {
      "cell_type": "code",
      "metadata": {
        "id": "IDFZpoiQXIuL",
        "colab_type": "code",
        "colab": {
          "base_uri": "https://localhost:8080/",
          "height": 1000
        },
        "outputId": "224ca650-9f63-46cf-ff6c-63c7d99dcf54"
      },
      "source": [
        "!cd deep_gcns_torch/examples/modelnet_cls/ && python main.py --phase train --n_blocks 14 --block res --data_dir /deep_gcns_torch/examples/modelnet_cls/test/modelnet40_ply_hdf5_2048"
      ],
      "execution_count": null,
      "outputs": [
        {
          "output_type": "stream",
          "text": [
            "/usr/local/lib/python3.6/dist-packages/tensorflow/python/framework/dtypes.py:516: FutureWarning: Passing (type, 1) or '1type' as a synonym of type is deprecated; in a future version of numpy, it will be understood as (type, (1,)) / '(1,)type'.\n",
            "  _np_qint8 = np.dtype([(\"qint8\", np.int8, 1)])\n",
            "/usr/local/lib/python3.6/dist-packages/tensorflow/python/framework/dtypes.py:517: FutureWarning: Passing (type, 1) or '1type' as a synonym of type is deprecated; in a future version of numpy, it will be understood as (type, (1,)) / '(1,)type'.\n",
            "  _np_quint8 = np.dtype([(\"quint8\", np.uint8, 1)])\n",
            "/usr/local/lib/python3.6/dist-packages/tensorflow/python/framework/dtypes.py:518: FutureWarning: Passing (type, 1) or '1type' as a synonym of type is deprecated; in a future version of numpy, it will be understood as (type, (1,)) / '(1,)type'.\n",
            "  _np_qint16 = np.dtype([(\"qint16\", np.int16, 1)])\n",
            "/usr/local/lib/python3.6/dist-packages/tensorflow/python/framework/dtypes.py:519: FutureWarning: Passing (type, 1) or '1type' as a synonym of type is deprecated; in a future version of numpy, it will be understood as (type, (1,)) / '(1,)type'.\n",
            "  _np_quint16 = np.dtype([(\"quint16\", np.uint16, 1)])\n",
            "/usr/local/lib/python3.6/dist-packages/tensorflow/python/framework/dtypes.py:520: FutureWarning: Passing (type, 1) or '1type' as a synonym of type is deprecated; in a future version of numpy, it will be understood as (type, (1,)) / '(1,)type'.\n",
            "  _np_qint32 = np.dtype([(\"qint32\", np.int32, 1)])\n",
            "/usr/local/lib/python3.6/dist-packages/tensorflow/python/framework/dtypes.py:525: FutureWarning: Passing (type, 1) or '1type' as a synonym of type is deprecated; in a future version of numpy, it will be understood as (type, (1,)) / '(1,)type'.\n",
            "  np_resource = np.dtype([(\"resource\", np.ubyte, 1)])\n",
            "/usr/local/lib/python3.6/dist-packages/tensorboard/compat/tensorflow_stub/dtypes.py:541: FutureWarning: Passing (type, 1) or '1type' as a synonym of type is deprecated; in a future version of numpy, it will be understood as (type, (1,)) / '(1,)type'.\n",
            "  _np_qint8 = np.dtype([(\"qint8\", np.int8, 1)])\n",
            "/usr/local/lib/python3.6/dist-packages/tensorboard/compat/tensorflow_stub/dtypes.py:542: FutureWarning: Passing (type, 1) or '1type' as a synonym of type is deprecated; in a future version of numpy, it will be understood as (type, (1,)) / '(1,)type'.\n",
            "  _np_quint8 = np.dtype([(\"quint8\", np.uint8, 1)])\n",
            "/usr/local/lib/python3.6/dist-packages/tensorboard/compat/tensorflow_stub/dtypes.py:543: FutureWarning: Passing (type, 1) or '1type' as a synonym of type is deprecated; in a future version of numpy, it will be understood as (type, (1,)) / '(1,)type'.\n",
            "  _np_qint16 = np.dtype([(\"qint16\", np.int16, 1)])\n",
            "/usr/local/lib/python3.6/dist-packages/tensorboard/compat/tensorflow_stub/dtypes.py:544: FutureWarning: Passing (type, 1) or '1type' as a synonym of type is deprecated; in a future version of numpy, it will be understood as (type, (1,)) / '(1,)type'.\n",
            "  _np_quint16 = np.dtype([(\"quint16\", np.uint16, 1)])\n",
            "/usr/local/lib/python3.6/dist-packages/tensorboard/compat/tensorflow_stub/dtypes.py:545: FutureWarning: Passing (type, 1) or '1type' as a synonym of type is deprecated; in a future version of numpy, it will be understood as (type, (1,)) / '(1,)type'.\n",
            "  _np_qint32 = np.dtype([(\"qint32\", np.int32, 1)])\n",
            "/usr/local/lib/python3.6/dist-packages/tensorboard/compat/tensorflow_stub/dtypes.py:550: FutureWarning: Passing (type, 1) or '1type' as a synonym of type is deprecated; in a future version of numpy, it will be understood as (type, (1,)) / '(1,)type'.\n",
            "  np_resource = np.dtype([(\"resource\", np.ubyte, 1)])\n",
            "2020-07-13 18:50:06,270 saving log, checkpoint and back up code in folder: log/ModelNet40-res-edge-n14-C64-k9-drop0.5-lr0.001_B32_seed1_20200713-185006_4aae9435-5768-4694-bdf3-2df88dbcef00\n",
            "2020-07-13 18:50:06,271 ==========       args      =============\n",
            "2020-07-13 18:50:06,271 exp_name:DeepGCN\n",
            "2020-07-13 18:50:06,271 root_dir:log\n",
            "2020-07-13 18:50:06,271 data_dir:/deep_gcns_torch/examples/modelnet_cls/test/modelnet40_ply_hdf5_2048\n",
            "2020-07-13 18:50:06,271 num_points:1024\n",
            "2020-07-13 18:50:06,272 augment:True\n",
            "2020-07-13 18:50:06,272 phase:train\n",
            "2020-07-13 18:50:06,272 use_cpu:False\n",
            "2020-07-13 18:50:06,272 batch_size:32\n",
            "2020-07-13 18:50:06,272 epochs:400\n",
            "2020-07-13 18:50:06,272 use_sgd:True\n",
            "2020-07-13 18:50:06,272 weight_decay:0.0001\n",
            "2020-07-13 18:50:06,272 lr:0.001\n",
            "2020-07-13 18:50:06,272 seed:1\n",
            "2020-07-13 18:50:06,273 multi_gpus:False\n",
            "2020-07-13 18:50:06,273 test_batch_size:50\n",
            "2020-07-13 18:50:06,273 pretrained_model:\n",
            "2020-07-13 18:50:06,273 k:9\n",
            "2020-07-13 18:50:06,273 block:res\n",
            "2020-07-13 18:50:06,273 conv:edge\n",
            "2020-07-13 18:50:06,273 act:relu\n",
            "2020-07-13 18:50:06,273 norm:batch\n",
            "2020-07-13 18:50:06,273 bias:True\n",
            "2020-07-13 18:50:06,273 n_blocks:14\n",
            "2020-07-13 18:50:06,273 n_filters:64\n",
            "2020-07-13 18:50:06,274 in_channels:3\n",
            "2020-07-13 18:50:06,274 out_channels:40\n",
            "2020-07-13 18:50:06,274 emb_dims:1024\n",
            "2020-07-13 18:50:06,274 dropout:0.5\n",
            "2020-07-13 18:50:06,274 use_dilation:True\n",
            "2020-07-13 18:50:06,274 epsilon:0.2\n",
            "2020-07-13 18:50:06,274 stochastic:True\n",
            "2020-07-13 18:50:06,274 device:cuda\n",
            "2020-07-13 18:50:06,275 jobname:ModelNet40-res-edge-n14-C64-k9-drop0.5-lr0.001_B32_seed1\n",
            "2020-07-13 18:50:06,275 exp_dir:log/ModelNet40-res-edge-n14-C64-k9-drop0.5-lr0.001_B32_seed1_20200713-185006_4aae9435-5768-4694-bdf3-2df88dbcef00\n",
            "2020-07-13 18:50:06,275 ckpt_dir:log/ModelNet40-res-edge-n14-C64-k9-drop0.5-lr0.001_B32_seed1_20200713-185006_4aae9435-5768-4694-bdf3-2df88dbcef00/checkpoint\n",
            "2020-07-13 18:50:06,275 code_dir:log/ModelNet40-res-edge-n14-C64-k9-drop0.5-lr0.001_B32_seed1_20200713-185006_4aae9435-5768-4694-bdf3-2df88dbcef00/code\n",
            "2020-07-13 18:50:06,275 logger:<utils.tf_logger.TfLogger object at 0x7f573711c160>\n",
            "2020-07-13 18:50:06,275 epoch:-1\n",
            "2020-07-13 18:50:06,275 step:-1\n",
            "2020-07-13 18:50:06,275 loglevel:info\n",
            "2020-07-13 18:50:06,275 ==========     args END    =============\n",
            "2020-07-13 18:50:06,275 \n",
            "\n",
            "2020-07-13 18:50:06,276 ===> Phase is train.\n",
            "2020-07-13 18:50:06,277 ===> Creating dataloader ...\n",
            "2020-07-13 18:50:08,678 ===> Loading ModelNet40 from /deep_gcns_torch/examples/modelnet_cls/test/modelnet40_ply_hdf5_2048. number of classes equal to 40\n",
            "2020-07-13 18:50:08,679 ===> Loading the network ...\n",
            "2020-07-13 18:50:11,748 ===> loading pre-trained ...\n",
            "2020-07-13 18:50:11,748 ===> No pre-trained model\n",
            "2020-07-13 18:50:11,748 ===> Init the optimizer ...\n",
            "2020-07-13 18:50:11,749 ===> Use SGD\n",
            "2020-07-13 18:50:11,749 ===> Init Metric ...\n",
            "2020-07-13 18:50:11,749 ===> start training ...\n",
            "2020-07-13 18:55:26,082 Got a new best model on Test with Overall ACC 0.4583. Its avg acc is 0.3265\n",
            "2020-07-13 18:55:26,155 save a new best model into log/ModelNet40-res-edge-n14-C64-k9-drop0.5-lr0.001_B32_seed1_20200713-185006_4aae9435-5768-4694-bdf3-2df88dbcef00/checkpoint/ModelNet40-res-edge-n14-C64-k9-drop0.5-lr0.001_B32_seed1-best_model.pth\n",
            "2020-07-13 18:55:26,156 ===> Epoch 0/400, Train Loss 3.2970, Test Overall Acc 0.4583, Test Avg Acc 0.326477, Best Test Overall Acc 0.4583, Its test avg acc 0.3265.\n",
            "2020-07-13 19:00:40,387 Got a new best model on Test with Overall ACC 0.6268. Its avg acc is 0.4867\n",
            "2020-07-13 19:00:40,462 save a new best model into log/ModelNet40-res-edge-n14-C64-k9-drop0.5-lr0.001_B32_seed1_20200713-185006_4aae9435-5768-4694-bdf3-2df88dbcef00/checkpoint/ModelNet40-res-edge-n14-C64-k9-drop0.5-lr0.001_B32_seed1-best_model.pth\n",
            "2020-07-13 19:00:40,462 ===> Epoch 1/400, Train Loss 2.4885, Test Overall Acc 0.6268, Test Avg Acc 0.486698, Best Test Overall Acc 0.6268, Its test avg acc 0.4867.\n",
            "2020-07-13 19:05:54,806 Got a new best model on Test with Overall ACC 0.7152. Its avg acc is 0.5824\n",
            "2020-07-13 19:05:54,876 save a new best model into log/ModelNet40-res-edge-n14-C64-k9-drop0.5-lr0.001_B32_seed1_20200713-185006_4aae9435-5768-4694-bdf3-2df88dbcef00/checkpoint/ModelNet40-res-edge-n14-C64-k9-drop0.5-lr0.001_B32_seed1-best_model.pth\n",
            "2020-07-13 19:05:54,877 ===> Epoch 2/400, Train Loss 2.3009, Test Overall Acc 0.7152, Test Avg Acc 0.582401, Best Test Overall Acc 0.7152, Its test avg acc 0.5824.\n",
            "2020-07-13 19:11:09,479 Got a new best model on Test with Overall ACC 0.7585. Its avg acc is 0.6292\n",
            "2020-07-13 19:11:09,548 save a new best model into log/ModelNet40-res-edge-n14-C64-k9-drop0.5-lr0.001_B32_seed1_20200713-185006_4aae9435-5768-4694-bdf3-2df88dbcef00/checkpoint/ModelNet40-res-edge-n14-C64-k9-drop0.5-lr0.001_B32_seed1-best_model.pth\n",
            "2020-07-13 19:11:09,549 ===> Epoch 3/400, Train Loss 2.2042, Test Overall Acc 0.7585, Test Avg Acc 0.629209, Best Test Overall Acc 0.7585, Its test avg acc 0.6292.\n",
            "2020-07-13 19:16:24,364 ===> Epoch 4/400, Train Loss 2.1176, Test Overall Acc 0.7439, Test Avg Acc 0.624250, Best Test Overall Acc 0.7585, Its test avg acc 0.6292.\n",
            "2020-07-13 19:21:39,351 Got a new best model on Test with Overall ACC 0.7731. Its avg acc is 0.6406\n",
            "2020-07-13 19:21:39,430 save a new best model into log/ModelNet40-res-edge-n14-C64-k9-drop0.5-lr0.001_B32_seed1_20200713-185006_4aae9435-5768-4694-bdf3-2df88dbcef00/checkpoint/ModelNet40-res-edge-n14-C64-k9-drop0.5-lr0.001_B32_seed1-best_model.pth\n",
            "2020-07-13 19:21:39,431 ===> Epoch 5/400, Train Loss 2.0534, Test Overall Acc 0.7731, Test Avg Acc 0.640616, Best Test Overall Acc 0.7731, Its test avg acc 0.6406.\n",
            "2020-07-13 19:26:54,664 Got a new best model on Test with Overall ACC 0.8002. Its avg acc is 0.6943\n",
            "2020-07-13 19:26:54,738 save a new best model into log/ModelNet40-res-edge-n14-C64-k9-drop0.5-lr0.001_B32_seed1_20200713-185006_4aae9435-5768-4694-bdf3-2df88dbcef00/checkpoint/ModelNet40-res-edge-n14-C64-k9-drop0.5-lr0.001_B32_seed1-best_model.pth\n",
            "2020-07-13 19:26:54,739 ===> Epoch 6/400, Train Loss 2.0041, Test Overall Acc 0.8002, Test Avg Acc 0.694349, Best Test Overall Acc 0.8002, Its test avg acc 0.6943.\n",
            "2020-07-13 19:32:09,991 Got a new best model on Test with Overall ACC 0.8039. Its avg acc is 0.6941\n",
            "2020-07-13 19:32:10,070 save a new best model into log/ModelNet40-res-edge-n14-C64-k9-drop0.5-lr0.001_B32_seed1_20200713-185006_4aae9435-5768-4694-bdf3-2df88dbcef00/checkpoint/ModelNet40-res-edge-n14-C64-k9-drop0.5-lr0.001_B32_seed1-best_model.pth\n",
            "2020-07-13 19:32:10,070 ===> Epoch 7/400, Train Loss 1.9560, Test Overall Acc 0.8039, Test Avg Acc 0.694099, Best Test Overall Acc 0.8039, Its test avg acc 0.6941.\n",
            "2020-07-13 19:37:25,636 Got a new best model on Test with Overall ACC 0.8294. Its avg acc is 0.7360\n",
            "2020-07-13 19:37:25,710 save a new best model into log/ModelNet40-res-edge-n14-C64-k9-drop0.5-lr0.001_B32_seed1_20200713-185006_4aae9435-5768-4694-bdf3-2df88dbcef00/checkpoint/ModelNet40-res-edge-n14-C64-k9-drop0.5-lr0.001_B32_seed1-best_model.pth\n",
            "2020-07-13 19:37:25,711 ===> Epoch 8/400, Train Loss 1.9225, Test Overall Acc 0.8294, Test Avg Acc 0.735988, Best Test Overall Acc 0.8294, Its test avg acc 0.7360.\n",
            "2020-07-13 19:42:41,073 Got a new best model on Test with Overall ACC 0.8420. Its avg acc is 0.7429\n",
            "2020-07-13 19:42:41,149 save a new best model into log/ModelNet40-res-edge-n14-C64-k9-drop0.5-lr0.001_B32_seed1_20200713-185006_4aae9435-5768-4694-bdf3-2df88dbcef00/checkpoint/ModelNet40-res-edge-n14-C64-k9-drop0.5-lr0.001_B32_seed1-best_model.pth\n",
            "2020-07-13 19:42:41,149 ===> Epoch 9/400, Train Loss 1.8985, Test Overall Acc 0.8420, Test Avg Acc 0.742860, Best Test Overall Acc 0.8420, Its test avg acc 0.7429.\n",
            "2020-07-13 19:47:56,622 ===> Epoch 10/400, Train Loss 1.8680, Test Overall Acc 0.8371, Test Avg Acc 0.749424, Best Test Overall Acc 0.8420, Its test avg acc 0.7429.\n",
            "2020-07-13 19:53:12,215 Got a new best model on Test with Overall ACC 0.8537. Its avg acc is 0.7786\n",
            "2020-07-13 19:53:12,288 save a new best model into log/ModelNet40-res-edge-n14-C64-k9-drop0.5-lr0.001_B32_seed1_20200713-185006_4aae9435-5768-4694-bdf3-2df88dbcef00/checkpoint/ModelNet40-res-edge-n14-C64-k9-drop0.5-lr0.001_B32_seed1-best_model.pth\n",
            "2020-07-13 19:53:12,289 ===> Epoch 11/400, Train Loss 1.8515, Test Overall Acc 0.8537, Test Avg Acc 0.778640, Best Test Overall Acc 0.8537, Its test avg acc 0.7786.\n",
            "2020-07-13 19:58:28,100 ===> Epoch 12/400, Train Loss 1.8333, Test Overall Acc 0.8375, Test Avg Acc 0.765674, Best Test Overall Acc 0.8537, Its test avg acc 0.7786.\n",
            "2020-07-13 20:03:43,989 ===> Epoch 13/400, Train Loss 1.8148, Test Overall Acc 0.8493, Test Avg Acc 0.774064, Best Test Overall Acc 0.8537, Its test avg acc 0.7786.\n",
            "2020-07-13 20:08:59,823 Got a new best model on Test with Overall ACC 0.8618. Its avg acc is 0.7773\n",
            "2020-07-13 20:08:59,897 save a new best model into log/ModelNet40-res-edge-n14-C64-k9-drop0.5-lr0.001_B32_seed1_20200713-185006_4aae9435-5768-4694-bdf3-2df88dbcef00/checkpoint/ModelNet40-res-edge-n14-C64-k9-drop0.5-lr0.001_B32_seed1-best_model.pth\n",
            "2020-07-13 20:08:59,898 ===> Epoch 14/400, Train Loss 1.7977, Test Overall Acc 0.8618, Test Avg Acc 0.777297, Best Test Overall Acc 0.8618, Its test avg acc 0.7773.\n",
            "2020-07-13 20:14:15,876 Got a new best model on Test with Overall ACC 0.8716. Its avg acc is 0.7801\n",
            "2020-07-13 20:14:15,951 save a new best model into log/ModelNet40-res-edge-n14-C64-k9-drop0.5-lr0.001_B32_seed1_20200713-185006_4aae9435-5768-4694-bdf3-2df88dbcef00/checkpoint/ModelNet40-res-edge-n14-C64-k9-drop0.5-lr0.001_B32_seed1-best_model.pth\n",
            "2020-07-13 20:14:15,952 ===> Epoch 15/400, Train Loss 1.7840, Test Overall Acc 0.8716, Test Avg Acc 0.780140, Best Test Overall Acc 0.8716, Its test avg acc 0.7801.\n",
            "2020-07-13 20:19:31,795 ===> Epoch 16/400, Train Loss 1.7813, Test Overall Acc 0.8643, Test Avg Acc 0.777773, Best Test Overall Acc 0.8716, Its test avg acc 0.7801.\n",
            "2020-07-13 20:24:47,781 ===> Epoch 17/400, Train Loss 1.7646, Test Overall Acc 0.8643, Test Avg Acc 0.759634, Best Test Overall Acc 0.8716, Its test avg acc 0.7801.\n",
            "2020-07-13 20:30:03,796 ===> Epoch 18/400, Train Loss 1.7537, Test Overall Acc 0.8643, Test Avg Acc 0.795605, Best Test Overall Acc 0.8716, Its test avg acc 0.7801.\n",
            "2020-07-13 20:35:19,935 Got a new best model on Test with Overall ACC 0.8788. Its avg acc is 0.7983\n",
            "2020-07-13 20:35:20,008 save a new best model into log/ModelNet40-res-edge-n14-C64-k9-drop0.5-lr0.001_B32_seed1_20200713-185006_4aae9435-5768-4694-bdf3-2df88dbcef00/checkpoint/ModelNet40-res-edge-n14-C64-k9-drop0.5-lr0.001_B32_seed1-best_model.pth\n",
            "2020-07-13 20:35:20,009 ===> Epoch 19/400, Train Loss 1.7446, Test Overall Acc 0.8788, Test Avg Acc 0.798349, Best Test Overall Acc 0.8788, Its test avg acc 0.7983.\n",
            "2020-07-13 20:40:36,050 ===> Epoch 20/400, Train Loss 1.7317, Test Overall Acc 0.8663, Test Avg Acc 0.802837, Best Test Overall Acc 0.8788, Its test avg acc 0.7983.\n",
            "2020-07-13 20:45:52,356 Got a new best model on Test with Overall ACC 0.8938. Its avg acc is 0.8232\n",
            "2020-07-13 20:45:52,427 save a new best model into log/ModelNet40-res-edge-n14-C64-k9-drop0.5-lr0.001_B32_seed1_20200713-185006_4aae9435-5768-4694-bdf3-2df88dbcef00/checkpoint/ModelNet40-res-edge-n14-C64-k9-drop0.5-lr0.001_B32_seed1-best_model.pth\n",
            "2020-07-13 20:45:52,428 ===> Epoch 21/400, Train Loss 1.7246, Test Overall Acc 0.8938, Test Avg Acc 0.823221, Best Test Overall Acc 0.8938, Its test avg acc 0.8232.\n",
            "2020-07-13 20:51:08,750 ===> Epoch 22/400, Train Loss 1.7183, Test Overall Acc 0.8817, Test Avg Acc 0.811279, Best Test Overall Acc 0.8938, Its test avg acc 0.8232.\n",
            "2020-07-13 20:56:25,132 ===> Epoch 23/400, Train Loss 1.7143, Test Overall Acc 0.8675, Test Avg Acc 0.803488, Best Test Overall Acc 0.8938, Its test avg acc 0.8232.\n",
            "2020-07-13 21:01:41,573 ===> Epoch 24/400, Train Loss 1.7106, Test Overall Acc 0.8914, Test Avg Acc 0.827762, Best Test Overall Acc 0.8938, Its test avg acc 0.8232.\n",
            "2020-07-13 21:06:57,915 ===> Epoch 25/400, Train Loss 1.7025, Test Overall Acc 0.8853, Test Avg Acc 0.829977, Best Test Overall Acc 0.8938, Its test avg acc 0.8232.\n",
            "2020-07-13 21:12:14,137 ===> Epoch 26/400, Train Loss 1.6972, Test Overall Acc 0.8853, Test Avg Acc 0.825948, Best Test Overall Acc 0.8938, Its test avg acc 0.8232.\n",
            "2020-07-13 21:17:30,349 ===> Epoch 27/400, Train Loss 1.6912, Test Overall Acc 0.8849, Test Avg Acc 0.815093, Best Test Overall Acc 0.8938, Its test avg acc 0.8232.\n",
            "2020-07-13 21:22:46,459 ===> Epoch 28/400, Train Loss 1.6932, Test Overall Acc 0.8740, Test Avg Acc 0.821971, Best Test Overall Acc 0.8938, Its test avg acc 0.8232.\n",
            "2020-07-13 21:28:02,707 ===> Epoch 29/400, Train Loss 1.6922, Test Overall Acc 0.8801, Test Avg Acc 0.820547, Best Test Overall Acc 0.8938, Its test avg acc 0.8232.\n",
            "2020-07-13 21:33:18,837 ===> Epoch 30/400, Train Loss 1.6750, Test Overall Acc 0.8870, Test Avg Acc 0.823936, Best Test Overall Acc 0.8938, Its test avg acc 0.8232.\n",
            "2020-07-13 21:38:35,060 ===> Epoch 31/400, Train Loss 1.6808, Test Overall Acc 0.8861, Test Avg Acc 0.817087, Best Test Overall Acc 0.8938, Its test avg acc 0.8232.\n",
            "2020-07-13 21:43:51,155 ===> Epoch 32/400, Train Loss 1.6738, Test Overall Acc 0.8805, Test Avg Acc 0.824698, Best Test Overall Acc 0.8938, Its test avg acc 0.8232.\n",
            "2020-07-13 21:49:07,269 ===> Epoch 33/400, Train Loss 1.6715, Test Overall Acc 0.8776, Test Avg Acc 0.807576, Best Test Overall Acc 0.8938, Its test avg acc 0.8232.\n",
            "2020-07-13 21:54:23,331 ===> Epoch 34/400, Train Loss 1.6639, Test Overall Acc 0.8691, Test Avg Acc 0.819134, Best Test Overall Acc 0.8938, Its test avg acc 0.8232.\n",
            "2020-07-13 21:59:39,446 ===> Epoch 35/400, Train Loss 1.6561, Test Overall Acc 0.8878, Test Avg Acc 0.833291, Best Test Overall Acc 0.8938, Its test avg acc 0.8232.\n",
            "2020-07-13 22:04:55,617 ===> Epoch 36/400, Train Loss 1.6626, Test Overall Acc 0.8906, Test Avg Acc 0.836442, Best Test Overall Acc 0.8938, Its test avg acc 0.8232.\n",
            "2020-07-13 22:10:11,704 ===> Epoch 37/400, Train Loss 1.6545, Test Overall Acc 0.8861, Test Avg Acc 0.835674, Best Test Overall Acc 0.8938, Its test avg acc 0.8232.\n",
            "2020-07-13 22:15:27,849 ===> Epoch 38/400, Train Loss 1.6566, Test Overall Acc 0.8797, Test Avg Acc 0.811349, Best Test Overall Acc 0.8938, Its test avg acc 0.8232.\n",
            "2020-07-13 22:20:43,976 ===> Epoch 39/400, Train Loss 1.6485, Test Overall Acc 0.8886, Test Avg Acc 0.838233, Best Test Overall Acc 0.8938, Its test avg acc 0.8232.\n",
            "2020-07-13 22:26:00,213 ===> Epoch 40/400, Train Loss 1.6480, Test Overall Acc 0.8695, Test Avg Acc 0.811070, Best Test Overall Acc 0.8938, Its test avg acc 0.8232.\n",
            "2020-07-13 22:31:16,440 ===> Epoch 41/400, Train Loss 1.6443, Test Overall Acc 0.8898, Test Avg Acc 0.839895, Best Test Overall Acc 0.8938, Its test avg acc 0.8232.\n",
            "2020-07-13 22:36:32,636 ===> Epoch 42/400, Train Loss 1.6428, Test Overall Acc 0.8805, Test Avg Acc 0.832756, Best Test Overall Acc 0.8938, Its test avg acc 0.8232.\n",
            "2020-07-13 22:41:48,706 ===> Epoch 43/400, Train Loss 1.6410, Test Overall Acc 0.8764, Test Avg Acc 0.840756, Best Test Overall Acc 0.8938, Its test avg acc 0.8232.\n",
            "2020-07-13 22:47:04,901 ===> Epoch 44/400, Train Loss 1.6365, Test Overall Acc 0.8805, Test Avg Acc 0.832244, Best Test Overall Acc 0.8938, Its test avg acc 0.8232.\n",
            "2020-07-13 22:52:21,036 Got a new best model on Test with Overall ACC 0.8999. Its avg acc is 0.8546\n",
            "2020-07-13 22:52:21,106 save a new best model into log/ModelNet40-res-edge-n14-C64-k9-drop0.5-lr0.001_B32_seed1_20200713-185006_4aae9435-5768-4694-bdf3-2df88dbcef00/checkpoint/ModelNet40-res-edge-n14-C64-k9-drop0.5-lr0.001_B32_seed1-best_model.pth\n",
            "2020-07-13 22:52:21,106 ===> Epoch 45/400, Train Loss 1.6295, Test Overall Acc 0.8999, Test Avg Acc 0.854581, Best Test Overall Acc 0.8999, Its test avg acc 0.8546.\n",
            "2020-07-13 22:57:37,262 ===> Epoch 46/400, Train Loss 1.6283, Test Overall Acc 0.8865, Test Avg Acc 0.823535, Best Test Overall Acc 0.8999, Its test avg acc 0.8546.\n",
            "2020-07-13 23:02:53,466 ===> Epoch 47/400, Train Loss 1.6310, Test Overall Acc 0.8930, Test Avg Acc 0.838756, Best Test Overall Acc 0.8999, Its test avg acc 0.8546.\n",
            "2020-07-13 23:08:09,708 ===> Epoch 48/400, Train Loss 1.6187, Test Overall Acc 0.8930, Test Avg Acc 0.845924, Best Test Overall Acc 0.8999, Its test avg acc 0.8546.\n",
            "2020-07-13 23:13:25,967 ===> Epoch 49/400, Train Loss 1.6163, Test Overall Acc 0.8793, Test Avg Acc 0.835773, Best Test Overall Acc 0.8999, Its test avg acc 0.8546.\n",
            "2020-07-13 23:18:42,103 Got a new best model on Test with Overall ACC 0.9048. Its avg acc is 0.8489\n",
            "2020-07-13 23:18:42,172 save a new best model into log/ModelNet40-res-edge-n14-C64-k9-drop0.5-lr0.001_B32_seed1_20200713-185006_4aae9435-5768-4694-bdf3-2df88dbcef00/checkpoint/ModelNet40-res-edge-n14-C64-k9-drop0.5-lr0.001_B32_seed1-best_model.pth\n",
            "2020-07-13 23:18:42,172 ===> Epoch 50/400, Train Loss 1.6215, Test Overall Acc 0.9048, Test Avg Acc 0.848913, Best Test Overall Acc 0.9048, Its test avg acc 0.8489.\n",
            "2020-07-13 23:23:58,439 ===> Epoch 51/400, Train Loss 1.6156, Test Overall Acc 0.8845, Test Avg Acc 0.831134, Best Test Overall Acc 0.9048, Its test avg acc 0.8489.\n",
            "2020-07-13 23:29:14,762 ===> Epoch 52/400, Train Loss 1.6210, Test Overall Acc 0.8971, Test Avg Acc 0.850558, Best Test Overall Acc 0.9048, Its test avg acc 0.8489.\n",
            "2020-07-13 23:34:31,007 ===> Epoch 53/400, Train Loss 1.6177, Test Overall Acc 0.8975, Test Avg Acc 0.848541, Best Test Overall Acc 0.9048, Its test avg acc 0.8489.\n",
            "2020-07-13 23:39:47,143 ===> Epoch 54/400, Train Loss 1.6148, Test Overall Acc 0.9044, Test Avg Acc 0.843884, Best Test Overall Acc 0.9048, Its test avg acc 0.8489.\n",
            "2020-07-13 23:45:03,359 ===> Epoch 55/400, Train Loss 1.6122, Test Overall Acc 0.8959, Test Avg Acc 0.847791, Best Test Overall Acc 0.9048, Its test avg acc 0.8489.\n",
            "2020-07-13 23:50:19,687 ===> Epoch 56/400, Train Loss 1.6079, Test Overall Acc 0.8991, Test Avg Acc 0.843419, Best Test Overall Acc 0.9048, Its test avg acc 0.8489.\n",
            "2020-07-13 23:55:36,043 ===> Epoch 57/400, Train Loss 1.6100, Test Overall Acc 0.8861, Test Avg Acc 0.830442, Best Test Overall Acc 0.9048, Its test avg acc 0.8489.\n",
            "2020-07-14 00:00:52,404 ===> Epoch 58/400, Train Loss 1.6014, Test Overall Acc 0.8999, Test Avg Acc 0.853622, Best Test Overall Acc 0.9048, Its test avg acc 0.8489.\n",
            "2020-07-14 00:06:08,658 ===> Epoch 59/400, Train Loss 1.6096, Test Overall Acc 0.8934, Test Avg Acc 0.840750, Best Test Overall Acc 0.9048, Its test avg acc 0.8489.\n",
            "2020-07-14 00:11:24,982 ===> Epoch 60/400, Train Loss 1.6082, Test Overall Acc 0.8870, Test Avg Acc 0.834983, Best Test Overall Acc 0.9048, Its test avg acc 0.8489.\n",
            "2020-07-14 00:16:41,205 ===> Epoch 61/400, Train Loss 1.5992, Test Overall Acc 0.8951, Test Avg Acc 0.844430, Best Test Overall Acc 0.9048, Its test avg acc 0.8489.\n",
            "2020-07-14 00:21:57,566 ===> Epoch 62/400, Train Loss 1.5945, Test Overall Acc 0.8922, Test Avg Acc 0.832959, Best Test Overall Acc 0.9048, Its test avg acc 0.8489.\n",
            "2020-07-14 00:27:13,923 ===> Epoch 63/400, Train Loss 1.5979, Test Overall Acc 0.9003, Test Avg Acc 0.861855, Best Test Overall Acc 0.9048, Its test avg acc 0.8489.\n",
            "2020-07-14 00:32:30,263 ===> Epoch 64/400, Train Loss 1.5933, Test Overall Acc 0.9011, Test Avg Acc 0.855738, Best Test Overall Acc 0.9048, Its test avg acc 0.8489.\n",
            "2020-07-14 00:37:46,552 ===> Epoch 65/400, Train Loss 1.5924, Test Overall Acc 0.8938, Test Avg Acc 0.834605, Best Test Overall Acc 0.9048, Its test avg acc 0.8489.\n",
            "2020-07-14 00:43:02,931 ===> Epoch 66/400, Train Loss 1.5913, Test Overall Acc 0.8886, Test Avg Acc 0.861314, Best Test Overall Acc 0.9048, Its test avg acc 0.8489.\n",
            "2020-07-14 00:48:19,413 ===> Epoch 67/400, Train Loss 1.5979, Test Overall Acc 0.8914, Test Avg Acc 0.843064, Best Test Overall Acc 0.9048, Its test avg acc 0.8489.\n",
            "2020-07-14 00:53:35,925 ===> Epoch 68/400, Train Loss 1.5879, Test Overall Acc 0.9040, Test Avg Acc 0.859756, Best Test Overall Acc 0.9048, Its test avg acc 0.8489.\n",
            "2020-07-14 00:58:52,402 ===> Epoch 69/400, Train Loss 1.5870, Test Overall Acc 0.8817, Test Avg Acc 0.847645, Best Test Overall Acc 0.9048, Its test avg acc 0.8489.\n",
            "2020-07-14 01:04:08,961 ===> Epoch 70/400, Train Loss 1.5931, Test Overall Acc 0.8926, Test Avg Acc 0.834105, Best Test Overall Acc 0.9048, Its test avg acc 0.8489.\n",
            "2020-07-14 01:09:25,500 ===> Epoch 71/400, Train Loss 1.5897, Test Overall Acc 0.8882, Test Avg Acc 0.834564, Best Test Overall Acc 0.9048, Its test avg acc 0.8489.\n",
            "2020-07-14 01:14:42,023 ===> Epoch 72/400, Train Loss 1.5868, Test Overall Acc 0.9032, Test Avg Acc 0.830122, Best Test Overall Acc 0.9048, Its test avg acc 0.8489.\n",
            "2020-07-14 01:19:58,307 ===> Epoch 73/400, Train Loss 1.5848, Test Overall Acc 0.8902, Test Avg Acc 0.858471, Best Test Overall Acc 0.9048, Its test avg acc 0.8489.\n",
            "2020-07-14 01:25:14,863 Got a new best model on Test with Overall ACC 0.9064. Its avg acc is 0.8484\n",
            "2020-07-14 01:25:14,932 save a new best model into log/ModelNet40-res-edge-n14-C64-k9-drop0.5-lr0.001_B32_seed1_20200713-185006_4aae9435-5768-4694-bdf3-2df88dbcef00/checkpoint/ModelNet40-res-edge-n14-C64-k9-drop0.5-lr0.001_B32_seed1-best_model.pth\n",
            "2020-07-14 01:25:14,933 ===> Epoch 74/400, Train Loss 1.5855, Test Overall Acc 0.9064, Test Avg Acc 0.848419, Best Test Overall Acc 0.9064, Its test avg acc 0.8484.\n",
            "2020-07-14 01:30:31,526 ===> Epoch 75/400, Train Loss 1.5832, Test Overall Acc 0.9024, Test Avg Acc 0.863297, Best Test Overall Acc 0.9064, Its test avg acc 0.8484.\n",
            "2020-07-14 01:35:48,075 ===> Epoch 76/400, Train Loss 1.5831, Test Overall Acc 0.8837, Test Avg Acc 0.863762, Best Test Overall Acc 0.9064, Its test avg acc 0.8484.\n",
            "2020-07-14 01:41:04,559 ===> Epoch 77/400, Train Loss 1.5796, Test Overall Acc 0.8938, Test Avg Acc 0.847041, Best Test Overall Acc 0.9064, Its test avg acc 0.8484.\n",
            "2020-07-14 01:46:21,006 ===> Epoch 78/400, Train Loss 1.5808, Test Overall Acc 0.9040, Test Avg Acc 0.854581, Best Test Overall Acc 0.9064, Its test avg acc 0.8484.\n",
            "2020-07-14 01:51:37,426 ===> Epoch 79/400, Train Loss 1.5758, Test Overall Acc 0.8829, Test Avg Acc 0.832250, Best Test Overall Acc 0.9064, Its test avg acc 0.8484.\n",
            "2020-07-14 01:56:54,031 ===> Epoch 80/400, Train Loss 1.5722, Test Overall Acc 0.8886, Test Avg Acc 0.838343, Best Test Overall Acc 0.9064, Its test avg acc 0.8484.\n",
            "2020-07-14 02:02:10,980 ===> Epoch 81/400, Train Loss 1.5751, Test Overall Acc 0.8922, Test Avg Acc 0.854855, Best Test Overall Acc 0.9064, Its test avg acc 0.8484.\n",
            "2020-07-14 02:07:28,182 ===> Epoch 82/400, Train Loss 1.5709, Test Overall Acc 0.8967, Test Avg Acc 0.859860, Best Test Overall Acc 0.9064, Its test avg acc 0.8484.\n",
            "2020-07-14 02:12:45,386 Got a new best model on Test with Overall ACC 0.9068. Its avg acc is 0.8587\n",
            "2020-07-14 02:12:45,465 save a new best model into log/ModelNet40-res-edge-n14-C64-k9-drop0.5-lr0.001_B32_seed1_20200713-185006_4aae9435-5768-4694-bdf3-2df88dbcef00/checkpoint/ModelNet40-res-edge-n14-C64-k9-drop0.5-lr0.001_B32_seed1-best_model.pth\n",
            "2020-07-14 02:12:45,466 ===> Epoch 83/400, Train Loss 1.5729, Test Overall Acc 0.9068, Test Avg Acc 0.858744, Best Test Overall Acc 0.9068, Its test avg acc 0.8587.\n",
            "2020-07-14 02:18:02,715 ===> Epoch 84/400, Train Loss 1.5680, Test Overall Acc 0.8947, Test Avg Acc 0.867593, Best Test Overall Acc 0.9068, Its test avg acc 0.8587.\n",
            "2020-07-14 02:23:20,175 ===> Epoch 85/400, Train Loss 1.5749, Test Overall Acc 0.9040, Test Avg Acc 0.859866, Best Test Overall Acc 0.9068, Its test avg acc 0.8587.\n",
            "2020-07-14 02:28:37,903 Got a new best model on Test with Overall ACC 0.9100. Its avg acc is 0.8557\n",
            "2020-07-14 02:28:37,977 save a new best model into log/ModelNet40-res-edge-n14-C64-k9-drop0.5-lr0.001_B32_seed1_20200713-185006_4aae9435-5768-4694-bdf3-2df88dbcef00/checkpoint/ModelNet40-res-edge-n14-C64-k9-drop0.5-lr0.001_B32_seed1-best_model.pth\n",
            "2020-07-14 02:28:37,978 ===> Epoch 86/400, Train Loss 1.5632, Test Overall Acc 0.9100, Test Avg Acc 0.855669, Best Test Overall Acc 0.9100, Its test avg acc 0.8557.\n",
            "2020-07-14 02:33:55,663 ===> Epoch 87/400, Train Loss 1.5675, Test Overall Acc 0.8967, Test Avg Acc 0.853942, Best Test Overall Acc 0.9100, Its test avg acc 0.8557.\n",
            "2020-07-14 02:39:13,115 ===> Epoch 88/400, Train Loss 1.5683, Test Overall Acc 0.8914, Test Avg Acc 0.840099, Best Test Overall Acc 0.9100, Its test avg acc 0.8557.\n",
            "2020-07-14 02:44:30,471 ===> Epoch 89/400, Train Loss 1.5666, Test Overall Acc 0.9044, Test Avg Acc 0.867384, Best Test Overall Acc 0.9100, Its test avg acc 0.8557.\n",
            "2020-07-14 02:49:47,725 ===> Epoch 90/400, Train Loss 1.5637, Test Overall Acc 0.9068, Test Avg Acc 0.865134, Best Test Overall Acc 0.9100, Its test avg acc 0.8557.\n",
            "2020-07-14 02:55:04,753 ===> Epoch 91/400, Train Loss 1.5725, Test Overall Acc 0.9084, Test Avg Acc 0.875390, Best Test Overall Acc 0.9100, Its test avg acc 0.8557.\n",
            "2020-07-14 03:00:21,558 ===> Epoch 92/400, Train Loss 1.5589, Test Overall Acc 0.9072, Test Avg Acc 0.859547, Best Test Overall Acc 0.9100, Its test avg acc 0.8557.\n",
            "2020-07-14 03:05:38,268 ===> Epoch 93/400, Train Loss 1.5585, Test Overall Acc 0.8975, Test Avg Acc 0.870878, Best Test Overall Acc 0.9100, Its test avg acc 0.8557.\n",
            "2020-07-14 03:10:54,942 ===> Epoch 94/400, Train Loss 1.5577, Test Overall Acc 0.8999, Test Avg Acc 0.863494, Best Test Overall Acc 0.9100, Its test avg acc 0.8557.\n",
            "2020-07-14 03:16:11,557 ===> Epoch 95/400, Train Loss 1.5554, Test Overall Acc 0.8930, Test Avg Acc 0.857308, Best Test Overall Acc 0.9100, Its test avg acc 0.8557.\n",
            "2020-07-14 03:21:28,095 ===> Epoch 96/400, Train Loss 1.5610, Test Overall Acc 0.9100, Test Avg Acc 0.865744, Best Test Overall Acc 0.9100, Its test avg acc 0.8557.\n",
            "2020-07-14 03:26:45,065 ===> Epoch 97/400, Train Loss 1.5563, Test Overall Acc 0.8756, Test Avg Acc 0.835314, Best Test Overall Acc 0.9100, Its test avg acc 0.8557.\n",
            "2020-07-14 03:32:01,891 ===> Epoch 98/400, Train Loss 1.5495, Test Overall Acc 0.9096, Test Avg Acc 0.863558, Best Test Overall Acc 0.9100, Its test avg acc 0.8557.\n",
            "2020-07-14 03:37:18,708 Got a new best model on Test with Overall ACC 0.9113. Its avg acc is 0.8629\n",
            "2020-07-14 03:37:18,773 save a new best model into log/ModelNet40-res-edge-n14-C64-k9-drop0.5-lr0.001_B32_seed1_20200713-185006_4aae9435-5768-4694-bdf3-2df88dbcef00/checkpoint/ModelNet40-res-edge-n14-C64-k9-drop0.5-lr0.001_B32_seed1-best_model.pth\n",
            "2020-07-14 03:37:18,774 ===> Epoch 99/400, Train Loss 1.5522, Test Overall Acc 0.9113, Test Avg Acc 0.862884, Best Test Overall Acc 0.9113, Its test avg acc 0.8629.\n",
            "2020-07-14 03:42:35,471 ===> Epoch 100/400, Train Loss 1.5497, Test Overall Acc 0.9088, Test Avg Acc 0.872465, Best Test Overall Acc 0.9113, Its test avg acc 0.8629.\n",
            "2020-07-14 03:47:52,188 ===> Epoch 101/400, Train Loss 1.5449, Test Overall Acc 0.9015, Test Avg Acc 0.848640, Best Test Overall Acc 0.9113, Its test avg acc 0.8629.\n",
            "2020-07-14 03:53:08,964 ===> Epoch 102/400, Train Loss 1.5481, Test Overall Acc 0.9064, Test Avg Acc 0.858663, Best Test Overall Acc 0.9113, Its test avg acc 0.8629.\n",
            "2020-07-14 03:58:25,861 ===> Epoch 103/400, Train Loss 1.5531, Test Overall Acc 0.8995, Test Avg Acc 0.853483, Best Test Overall Acc 0.9113, Its test avg acc 0.8629.\n",
            "2020-07-14 04:03:42,684 ===> Epoch 104/400, Train Loss 1.5519, Test Overall Acc 0.9096, Test Avg Acc 0.873558, Best Test Overall Acc 0.9113, Its test avg acc 0.8629.\n",
            "2020-07-14 04:08:59,325 ===> Epoch 105/400, Train Loss 1.5460, Test Overall Acc 0.8898, Test Avg Acc 0.862901, Best Test Overall Acc 0.9113, Its test avg acc 0.8629.\n",
            "2020-07-14 04:14:16,039 ===> Epoch 106/400, Train Loss 1.5491, Test Overall Acc 0.9092, Test Avg Acc 0.864890, Best Test Overall Acc 0.9113, Its test avg acc 0.8629.\n",
            "2020-07-14 04:19:32,714 ===> Epoch 107/400, Train Loss 1.5456, Test Overall Acc 0.8983, Test Avg Acc 0.849663, Best Test Overall Acc 0.9113, Its test avg acc 0.8629.\n",
            "2020-07-14 04:24:49,352 ===> Epoch 108/400, Train Loss 1.5477, Test Overall Acc 0.8922, Test Avg Acc 0.861674, Best Test Overall Acc 0.9113, Its test avg acc 0.8629.\n",
            "2020-07-14 04:30:06,019 ===> Epoch 109/400, Train Loss 1.5488, Test Overall Acc 0.9024, Test Avg Acc 0.863669, Best Test Overall Acc 0.9113, Its test avg acc 0.8629.\n",
            "2020-07-14 04:35:22,663 ===> Epoch 110/400, Train Loss 1.5434, Test Overall Acc 0.9109, Test Avg Acc 0.865773, Best Test Overall Acc 0.9113, Its test avg acc 0.8629.\n",
            "2020-07-14 04:40:39,274 ===> Epoch 111/400, Train Loss 1.5378, Test Overall Acc 0.9036, Test Avg Acc 0.881837, Best Test Overall Acc 0.9113, Its test avg acc 0.8629.\n",
            "2020-07-14 04:45:55,851 ===> Epoch 112/400, Train Loss 1.5438, Test Overall Acc 0.9032, Test Avg Acc 0.869797, Best Test Overall Acc 0.9113, Its test avg acc 0.8629.\n",
            "2020-07-14 04:51:12,529 ===> Epoch 113/400, Train Loss 1.5352, Test Overall Acc 0.9032, Test Avg Acc 0.862041, Best Test Overall Acc 0.9113, Its test avg acc 0.8629.\n",
            "2020-07-14 04:56:29,446 ===> Epoch 114/400, Train Loss 1.5402, Test Overall Acc 0.9109, Test Avg Acc 0.876424, Best Test Overall Acc 0.9113, Its test avg acc 0.8629.\n",
            "2020-07-14 05:01:46,294 Got a new best model on Test with Overall ACC 0.9169. Its avg acc is 0.8722\n",
            "2020-07-14 05:01:46,360 save a new best model into log/ModelNet40-res-edge-n14-C64-k9-drop0.5-lr0.001_B32_seed1_20200713-185006_4aae9435-5768-4694-bdf3-2df88dbcef00/checkpoint/ModelNet40-res-edge-n14-C64-k9-drop0.5-lr0.001_B32_seed1-best_model.pth\n",
            "2020-07-14 05:01:46,361 ===> Epoch 115/400, Train Loss 1.5419, Test Overall Acc 0.9169, Test Avg Acc 0.872174, Best Test Overall Acc 0.9169, Its test avg acc 0.8722.\n",
            "2020-07-14 05:07:03,152 ===> Epoch 116/400, Train Loss 1.5365, Test Overall Acc 0.9096, Test Avg Acc 0.867087, Best Test Overall Acc 0.9169, Its test avg acc 0.8722.\n",
            "2020-07-14 05:12:19,817 ===> Epoch 117/400, Train Loss 1.5364, Test Overall Acc 0.8991, Test Avg Acc 0.878622, Best Test Overall Acc 0.9169, Its test avg acc 0.8722.\n",
            "2020-07-14 05:17:36,444 ===> Epoch 118/400, Train Loss 1.5365, Test Overall Acc 0.9068, Test Avg Acc 0.863808, Best Test Overall Acc 0.9169, Its test avg acc 0.8722.\n",
            "2020-07-14 05:22:53,245 ===> Epoch 119/400, Train Loss 1.5401, Test Overall Acc 0.9100, Test Avg Acc 0.869866, Best Test Overall Acc 0.9169, Its test avg acc 0.8722.\n",
            "2020-07-14 05:28:10,176 ===> Epoch 120/400, Train Loss 1.5361, Test Overall Acc 0.8942, Test Avg Acc 0.856093, Best Test Overall Acc 0.9169, Its test avg acc 0.8722.\n",
            "2020-07-14 05:33:27,033 ===> Epoch 121/400, Train Loss 1.5329, Test Overall Acc 0.9084, Test Avg Acc 0.861558, Best Test Overall Acc 0.9169, Its test avg acc 0.8722.\n",
            "2020-07-14 05:38:43,892 ===> Epoch 122/400, Train Loss 1.5372, Test Overall Acc 0.9036, Test Avg Acc 0.856826, Best Test Overall Acc 0.9169, Its test avg acc 0.8722.\n",
            "2020-07-14 05:44:00,746 ===> Epoch 123/400, Train Loss 1.5315, Test Overall Acc 0.9125, Test Avg Acc 0.869669, Best Test Overall Acc 0.9169, Its test avg acc 0.8722.\n",
            "2020-07-14 05:49:17,896 ===> Epoch 124/400, Train Loss 1.5251, Test Overall Acc 0.9015, Test Avg Acc 0.874552, Best Test Overall Acc 0.9169, Its test avg acc 0.8722.\n",
            "2020-07-14 05:54:35,223 ===> Epoch 125/400, Train Loss 1.5323, Test Overall Acc 0.9068, Test Avg Acc 0.870134, Best Test Overall Acc 0.9169, Its test avg acc 0.8722.\n",
            "2020-07-14 05:59:52,443 ===> Epoch 126/400, Train Loss 1.5280, Test Overall Acc 0.9015, Test Avg Acc 0.856285, Best Test Overall Acc 0.9169, Its test avg acc 0.8722.\n",
            "2020-07-14 06:05:09,341 ===> Epoch 127/400, Train Loss 1.5233, Test Overall Acc 0.9129, Test Avg Acc 0.880581, Best Test Overall Acc 0.9169, Its test avg acc 0.8722.\n",
            "2020-07-14 06:10:26,182 ===> Epoch 128/400, Train Loss 1.5264, Test Overall Acc 0.9068, Test Avg Acc 0.875640, Best Test Overall Acc 0.9169, Its test avg acc 0.8722.\n",
            "2020-07-14 06:15:42,961 ===> Epoch 129/400, Train Loss 1.5241, Test Overall Acc 0.8979, Test Avg Acc 0.867541, Best Test Overall Acc 0.9169, Its test avg acc 0.8722.\n",
            "2020-07-14 06:20:59,733 ===> Epoch 130/400, Train Loss 1.5263, Test Overall Acc 0.9105, Test Avg Acc 0.877424, Best Test Overall Acc 0.9169, Its test avg acc 0.8722.\n",
            "2020-07-14 06:26:16,523 ===> Epoch 131/400, Train Loss 1.5293, Test Overall Acc 0.9137, Test Avg Acc 0.873663, Best Test Overall Acc 0.9169, Its test avg acc 0.8722.\n",
            "2020-07-14 06:31:33,241 ===> Epoch 132/400, Train Loss 1.5179, Test Overall Acc 0.8951, Test Avg Acc 0.858029, Best Test Overall Acc 0.9169, Its test avg acc 0.8722.\n",
            "2020-07-14 06:36:50,055 ===> Epoch 133/400, Train Loss 1.5169, Test Overall Acc 0.9109, Test Avg Acc 0.877390, Best Test Overall Acc 0.9169, Its test avg acc 0.8722.\n",
            "2020-07-14 06:42:06,937 ===> Epoch 134/400, Train Loss 1.5227, Test Overall Acc 0.9028, Test Avg Acc 0.866128, Best Test Overall Acc 0.9169, Its test avg acc 0.8722.\n",
            "2020-07-14 06:47:23,791 ===> Epoch 135/400, Train Loss 1.5146, Test Overall Acc 0.9084, Test Avg Acc 0.877349, Best Test Overall Acc 0.9169, Its test avg acc 0.8722.\n",
            "2020-07-14 06:52:40,676 ===> Epoch 136/400, Train Loss 1.5202, Test Overall Acc 0.9109, Test Avg Acc 0.874227, Best Test Overall Acc 0.9169, Its test avg acc 0.8722.\n",
            "2020-07-14 06:57:57,670 ===> Epoch 137/400, Train Loss 1.5230, Test Overall Acc 0.9040, Test Avg Acc 0.867971, Best Test Overall Acc 0.9169, Its test avg acc 0.8722.\n",
            "2020-07-14 07:03:14,613 ===> Epoch 138/400, Train Loss 1.5150, Test Overall Acc 0.9040, Test Avg Acc 0.872198, Best Test Overall Acc 0.9169, Its test avg acc 0.8722.\n",
            "2020-07-14 07:08:31,535 ===> Epoch 139/400, Train Loss 1.5157, Test Overall Acc 0.9109, Test Avg Acc 0.885093, Best Test Overall Acc 0.9169, Its test avg acc 0.8722.\n",
            "2020-07-14 07:13:48,400 ===> Epoch 140/400, Train Loss 1.5083, Test Overall Acc 0.9129, Test Avg Acc 0.886599, Best Test Overall Acc 0.9169, Its test avg acc 0.8722.\n",
            "2020-07-14 07:19:05,263 ===> Epoch 141/400, Train Loss 1.5142, Test Overall Acc 0.9137, Test Avg Acc 0.876256, Best Test Overall Acc 0.9169, Its test avg acc 0.8722.\n",
            "2020-07-14 07:24:22,323 ===> Epoch 142/400, Train Loss 1.5151, Test Overall Acc 0.9125, Test Avg Acc 0.870256, Best Test Overall Acc 0.9169, Its test avg acc 0.8722.\n",
            "2020-07-14 07:29:39,388 ===> Epoch 143/400, Train Loss 1.5066, Test Overall Acc 0.9149, Test Avg Acc 0.874878, Best Test Overall Acc 0.9169, Its test avg acc 0.8722.\n",
            "2020-07-14 07:34:56,276 Got a new best model on Test with Overall ACC 0.9194. Its avg acc is 0.8758\n",
            "2020-07-14 07:34:56,367 save a new best model into log/ModelNet40-res-edge-n14-C64-k9-drop0.5-lr0.001_B32_seed1_20200713-185006_4aae9435-5768-4694-bdf3-2df88dbcef00/checkpoint/ModelNet40-res-edge-n14-C64-k9-drop0.5-lr0.001_B32_seed1-best_model.pth\n",
            "2020-07-14 07:34:56,368 ===> Epoch 144/400, Train Loss 1.5053, Test Overall Acc 0.9194, Test Avg Acc 0.875791, Best Test Overall Acc 0.9194, Its test avg acc 0.8758.\n"
          ],
          "name": "stdout"
        }
      ]
    }
  ]
}