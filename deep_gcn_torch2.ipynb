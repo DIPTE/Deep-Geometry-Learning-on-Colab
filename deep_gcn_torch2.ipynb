{
  "nbformat": 4,
  "nbformat_minor": 0,
  "metadata": {
    "colab": {
      "name": "deep_gcn_torch2.ipynb",
      "provenance": [],
      "collapsed_sections": [],
      "machine_shape": "hm",
      "mount_file_id": "1-OO5idmy_XWsizoI6kiukWqQF2sJv6zC",
      "authorship_tag": "ABX9TyMatygw1zBWRrWGS4wxUjJ+",
      "include_colab_link": true
    },
    "kernelspec": {
      "name": "python3",
      "display_name": "Python 3"
    },
    "accelerator": "GPU"
  },
  "cells": [
    {
      "cell_type": "markdown",
      "metadata": {
        "id": "view-in-github",
        "colab_type": "text"
      },
      "source": [
        "<a href=\"https://colab.research.google.com/github/DIPTE/Deep-Geometry-Learning-on-Colab/blob/master/deep_gcn_torch2.ipynb\" target=\"_parent\"><img src=\"https://colab.research.google.com/assets/colab-badge.svg\" alt=\"Open In Colab\"/></a>"
      ]
    },
    {
      "cell_type": "code",
      "metadata": {
        "id": "Yop9LEdGQ81o",
        "colab_type": "code",
        "colab": {}
      },
      "source": [
        "!git clone https://github.com/lightaime/deep_gcns_torch.git"
      ],
      "execution_count": null,
      "outputs": []
    },
    {
      "cell_type": "code",
      "metadata": {
        "id": "Ddzw04gkSy0u",
        "colab_type": "code",
        "colab": {}
      },
      "source": [
        "!nvcc -V"
      ],
      "execution_count": null,
      "outputs": []
    },
    {
      "cell_type": "code",
      "metadata": {
        "id": "VXK6JlziR5H_",
        "colab_type": "code",
        "colab": {
          "base_uri": "https://localhost:8080/",
          "height": 34
        },
        "outputId": "b8f83619-f71e-4c1f-a283-b398735b9cc9"
      },
      "source": [
        "!ls"
      ],
      "execution_count": 21,
      "outputs": [
        {
          "output_type": "stream",
          "text": [
            "'Colab Notebooks'   deep_gcns_torch\n"
          ],
          "name": "stdout"
        }
      ]
    },
    {
      "cell_type": "code",
      "metadata": {
        "id": "bX7NNa8pTIex",
        "colab_type": "code",
        "colab": {}
      },
      "source": [
        "!pip list"
      ],
      "execution_count": null,
      "outputs": []
    },
    {
      "cell_type": "code",
      "metadata": {
        "id": "2knjUwe3SX_V",
        "colab_type": "code",
        "colab": {}
      },
      "source": [
        "import os\n",
        "os.chdir('/content/drive/My Drive')#切换工作目录"
      ],
      "execution_count": 4,
      "outputs": []
    },
    {
      "cell_type": "code",
      "metadata": {
        "id": "Ra6k5gbGTjfT",
        "colab_type": "code",
        "colab": {}
      },
      "source": [
        "!pip install tensorflow==1.14.0 "
      ],
      "execution_count": null,
      "outputs": []
    },
    {
      "cell_type": "code",
      "metadata": {
        "id": "LqQzTmapTyWP",
        "colab_type": "code",
        "colab": {}
      },
      "source": [
        "!pip install torch===1.4.0+cu100 torchvision===0.5.0+cu100 -f https://download.pytorch.org/whl/torch_stable.html"
      ],
      "execution_count": null,
      "outputs": []
    },
    {
      "cell_type": "code",
      "metadata": {
        "id": "XALqL725T-dW",
        "colab_type": "code",
        "colab": {}
      },
      "source": [
        "!pip install torch-scatter==latest+cu100 -f https://pytorch-geometric.com/whl/torch-1.4.0.html\n",
        "!pip install torch-sparse==latest+cu100 -f https://pytorch-geometric.com/whl/torch-1.4.0.html\n",
        "!pip install torch-spline-conv==latest+cu100 -f https://pytorch-geometric.com/whl/torch-1.4.0.html\n",
        "!pip install torch-cluster==latest+cu100  -f https://pytorch-geometric.com/whl/torch-1.4.0.html\n",
        "!pip install torch-geometric"
      ],
      "execution_count": null,
      "outputs": []
    },
    {
      "cell_type": "code",
      "metadata": {
        "id": "xI8LVy7eUrW4",
        "colab_type": "code",
        "colab": {}
      },
      "source": [
        "#!pip install --upgrade tensorflow-graphics# install useful modules\n",
        "!pip install requests # sometimes pytorch geometric forget to install it, but it is in need\n",
        "!pip install tqdm"
      ],
      "execution_count": null,
      "outputs": []
    },
    {
      "cell_type": "code",
      "metadata": {
        "id": "A8rm3P1lVp3r",
        "colab_type": "code",
        "colab": {
          "base_uri": "https://localhost:8080/",
          "height": 50
        },
        "outputId": "f461b243-dc9c-456c-ce45-275fe3b5b747"
      },
      "source": [
        "!cd deep_gcns_torch/examples/modelnet_cls/ && python architecture.py"
      ],
      "execution_count": 10,
      "outputs": [
        {
          "output_type": "stream",
          "text": [
            "Input size torch.Size([2, 3, 1024, 1])\n",
            "Output size torch.Size([2, 40])\n"
          ],
          "name": "stdout"
        }
      ]
    },
    {
      "cell_type": "code",
      "metadata": {
        "id": "mNtVg5vOVt6_",
        "colab_type": "code",
        "colab": {}
      },
      "source": [
        "!cd deep_gcns_torch/examples/modelnet_cls/ && python data.py"
      ],
      "execution_count": null,
      "outputs": []
    },
    {
      "cell_type": "code",
      "metadata": {
        "id": "kNaxiDHsXA-f",
        "colab_type": "code",
        "colab": {}
      },
      "source": [
        "!cd deep_gcns_torch/examples/modelnet_cls/ && python main.py "
      ],
      "execution_count": null,
      "outputs": []
    },
    {
      "cell_type": "code",
      "metadata": {
        "id": "Q2hgBkDxXEVk",
        "colab_type": "code",
        "colab": {}
      },
      "source": [
        "!cd deep_gcns_torch/examples/modelnet_cls/ && python main.py --phase test --n_blocks 14 --block res  --pretrained_model ./deep_gcns_torch/examples/modelnet_cls/pretrained_model --data_dir /deep_gcns_torch/examples/modelnet_cls/test/modelnet40_ply_hdf5_2048"
      ],
      "execution_count": null,
      "outputs": []
    },
    {
      "cell_type": "code",
      "metadata": {
        "id": "IDFZpoiQXIuL",
        "colab_type": "code",
        "colab": {
          "base_uri": "https://localhost:8080/",
          "height": 1000
        },
        "outputId": "97cd3658-67fd-49bb-be8b-776e397474bd"
      },
      "source": [
        "!cd deep_gcns_torch/examples/modelnet_cls/ && python main.py --phase train --n_blocks 14 --block res --data_dir /deep_gcns_torch/examples/modelnet_cls/test/modelnet40_ply_hdf5_2048"
      ],
      "execution_count": null,
      "outputs": [
        {
          "output_type": "stream",
          "text": [
            "/usr/local/lib/python3.6/dist-packages/tensorflow/python/framework/dtypes.py:516: FutureWarning: Passing (type, 1) or '1type' as a synonym of type is deprecated; in a future version of numpy, it will be understood as (type, (1,)) / '(1,)type'.\n",
            "  _np_qint8 = np.dtype([(\"qint8\", np.int8, 1)])\n",
            "/usr/local/lib/python3.6/dist-packages/tensorflow/python/framework/dtypes.py:517: FutureWarning: Passing (type, 1) or '1type' as a synonym of type is deprecated; in a future version of numpy, it will be understood as (type, (1,)) / '(1,)type'.\n",
            "  _np_quint8 = np.dtype([(\"quint8\", np.uint8, 1)])\n",
            "/usr/local/lib/python3.6/dist-packages/tensorflow/python/framework/dtypes.py:518: FutureWarning: Passing (type, 1) or '1type' as a synonym of type is deprecated; in a future version of numpy, it will be understood as (type, (1,)) / '(1,)type'.\n",
            "  _np_qint16 = np.dtype([(\"qint16\", np.int16, 1)])\n",
            "/usr/local/lib/python3.6/dist-packages/tensorflow/python/framework/dtypes.py:519: FutureWarning: Passing (type, 1) or '1type' as a synonym of type is deprecated; in a future version of numpy, it will be understood as (type, (1,)) / '(1,)type'.\n",
            "  _np_quint16 = np.dtype([(\"quint16\", np.uint16, 1)])\n",
            "/usr/local/lib/python3.6/dist-packages/tensorflow/python/framework/dtypes.py:520: FutureWarning: Passing (type, 1) or '1type' as a synonym of type is deprecated; in a future version of numpy, it will be understood as (type, (1,)) / '(1,)type'.\n",
            "  _np_qint32 = np.dtype([(\"qint32\", np.int32, 1)])\n",
            "/usr/local/lib/python3.6/dist-packages/tensorflow/python/framework/dtypes.py:525: FutureWarning: Passing (type, 1) or '1type' as a synonym of type is deprecated; in a future version of numpy, it will be understood as (type, (1,)) / '(1,)type'.\n",
            "  np_resource = np.dtype([(\"resource\", np.ubyte, 1)])\n",
            "/usr/local/lib/python3.6/dist-packages/tensorboard/compat/tensorflow_stub/dtypes.py:541: FutureWarning: Passing (type, 1) or '1type' as a synonym of type is deprecated; in a future version of numpy, it will be understood as (type, (1,)) / '(1,)type'.\n",
            "  _np_qint8 = np.dtype([(\"qint8\", np.int8, 1)])\n",
            "/usr/local/lib/python3.6/dist-packages/tensorboard/compat/tensorflow_stub/dtypes.py:542: FutureWarning: Passing (type, 1) or '1type' as a synonym of type is deprecated; in a future version of numpy, it will be understood as (type, (1,)) / '(1,)type'.\n",
            "  _np_quint8 = np.dtype([(\"quint8\", np.uint8, 1)])\n",
            "/usr/local/lib/python3.6/dist-packages/tensorboard/compat/tensorflow_stub/dtypes.py:543: FutureWarning: Passing (type, 1) or '1type' as a synonym of type is deprecated; in a future version of numpy, it will be understood as (type, (1,)) / '(1,)type'.\n",
            "  _np_qint16 = np.dtype([(\"qint16\", np.int16, 1)])\n",
            "/usr/local/lib/python3.6/dist-packages/tensorboard/compat/tensorflow_stub/dtypes.py:544: FutureWarning: Passing (type, 1) or '1type' as a synonym of type is deprecated; in a future version of numpy, it will be understood as (type, (1,)) / '(1,)type'.\n",
            "  _np_quint16 = np.dtype([(\"quint16\", np.uint16, 1)])\n",
            "/usr/local/lib/python3.6/dist-packages/tensorboard/compat/tensorflow_stub/dtypes.py:545: FutureWarning: Passing (type, 1) or '1type' as a synonym of type is deprecated; in a future version of numpy, it will be understood as (type, (1,)) / '(1,)type'.\n",
            "  _np_qint32 = np.dtype([(\"qint32\", np.int32, 1)])\n",
            "/usr/local/lib/python3.6/dist-packages/tensorboard/compat/tensorflow_stub/dtypes.py:550: FutureWarning: Passing (type, 1) or '1type' as a synonym of type is deprecated; in a future version of numpy, it will be understood as (type, (1,)) / '(1,)type'.\n",
            "  np_resource = np.dtype([(\"resource\", np.ubyte, 1)])\n",
            "2020-07-13 18:50:06,270 saving log, checkpoint and back up code in folder: log/ModelNet40-res-edge-n14-C64-k9-drop0.5-lr0.001_B32_seed1_20200713-185006_4aae9435-5768-4694-bdf3-2df88dbcef00\n",
            "2020-07-13 18:50:06,271 ==========       args      =============\n",
            "2020-07-13 18:50:06,271 exp_name:DeepGCN\n",
            "2020-07-13 18:50:06,271 root_dir:log\n",
            "2020-07-13 18:50:06,271 data_dir:/deep_gcns_torch/examples/modelnet_cls/test/modelnet40_ply_hdf5_2048\n",
            "2020-07-13 18:50:06,271 num_points:1024\n",
            "2020-07-13 18:50:06,272 augment:True\n",
            "2020-07-13 18:50:06,272 phase:train\n",
            "2020-07-13 18:50:06,272 use_cpu:False\n",
            "2020-07-13 18:50:06,272 batch_size:32\n",
            "2020-07-13 18:50:06,272 epochs:400\n",
            "2020-07-13 18:50:06,272 use_sgd:True\n",
            "2020-07-13 18:50:06,272 weight_decay:0.0001\n",
            "2020-07-13 18:50:06,272 lr:0.001\n",
            "2020-07-13 18:50:06,272 seed:1\n",
            "2020-07-13 18:50:06,273 multi_gpus:False\n",
            "2020-07-13 18:50:06,273 test_batch_size:50\n",
            "2020-07-13 18:50:06,273 pretrained_model:\n",
            "2020-07-13 18:50:06,273 k:9\n",
            "2020-07-13 18:50:06,273 block:res\n",
            "2020-07-13 18:50:06,273 conv:edge\n",
            "2020-07-13 18:50:06,273 act:relu\n",
            "2020-07-13 18:50:06,273 norm:batch\n",
            "2020-07-13 18:50:06,273 bias:True\n",
            "2020-07-13 18:50:06,273 n_blocks:14\n",
            "2020-07-13 18:50:06,273 n_filters:64\n",
            "2020-07-13 18:50:06,274 in_channels:3\n",
            "2020-07-13 18:50:06,274 out_channels:40\n",
            "2020-07-13 18:50:06,274 emb_dims:1024\n",
            "2020-07-13 18:50:06,274 dropout:0.5\n",
            "2020-07-13 18:50:06,274 use_dilation:True\n",
            "2020-07-13 18:50:06,274 epsilon:0.2\n",
            "2020-07-13 18:50:06,274 stochastic:True\n",
            "2020-07-13 18:50:06,274 device:cuda\n",
            "2020-07-13 18:50:06,275 jobname:ModelNet40-res-edge-n14-C64-k9-drop0.5-lr0.001_B32_seed1\n",
            "2020-07-13 18:50:06,275 exp_dir:log/ModelNet40-res-edge-n14-C64-k9-drop0.5-lr0.001_B32_seed1_20200713-185006_4aae9435-5768-4694-bdf3-2df88dbcef00\n",
            "2020-07-13 18:50:06,275 ckpt_dir:log/ModelNet40-res-edge-n14-C64-k9-drop0.5-lr0.001_B32_seed1_20200713-185006_4aae9435-5768-4694-bdf3-2df88dbcef00/checkpoint\n",
            "2020-07-13 18:50:06,275 code_dir:log/ModelNet40-res-edge-n14-C64-k9-drop0.5-lr0.001_B32_seed1_20200713-185006_4aae9435-5768-4694-bdf3-2df88dbcef00/code\n",
            "2020-07-13 18:50:06,275 logger:<utils.tf_logger.TfLogger object at 0x7f573711c160>\n",
            "2020-07-13 18:50:06,275 epoch:-1\n",
            "2020-07-13 18:50:06,275 step:-1\n",
            "2020-07-13 18:50:06,275 loglevel:info\n",
            "2020-07-13 18:50:06,275 ==========     args END    =============\n",
            "2020-07-13 18:50:06,275 \n",
            "\n",
            "2020-07-13 18:50:06,276 ===> Phase is train.\n",
            "2020-07-13 18:50:06,277 ===> Creating dataloader ...\n",
            "2020-07-13 18:50:08,678 ===> Loading ModelNet40 from /deep_gcns_torch/examples/modelnet_cls/test/modelnet40_ply_hdf5_2048. number of classes equal to 40\n",
            "2020-07-13 18:50:08,679 ===> Loading the network ...\n",
            "2020-07-13 18:50:11,748 ===> loading pre-trained ...\n",
            "2020-07-13 18:50:11,748 ===> No pre-trained model\n",
            "2020-07-13 18:50:11,748 ===> Init the optimizer ...\n",
            "2020-07-13 18:50:11,749 ===> Use SGD\n",
            "2020-07-13 18:50:11,749 ===> Init Metric ...\n",
            "2020-07-13 18:50:11,749 ===> start training ...\n",
            "2020-07-13 18:55:26,082 Got a new best model on Test with Overall ACC 0.4583. Its avg acc is 0.3265\n",
            "2020-07-13 18:55:26,155 save a new best model into log/ModelNet40-res-edge-n14-C64-k9-drop0.5-lr0.001_B32_seed1_20200713-185006_4aae9435-5768-4694-bdf3-2df88dbcef00/checkpoint/ModelNet40-res-edge-n14-C64-k9-drop0.5-lr0.001_B32_seed1-best_model.pth\n",
            "2020-07-13 18:55:26,156 ===> Epoch 0/400, Train Loss 3.2970, Test Overall Acc 0.4583, Test Avg Acc 0.326477, Best Test Overall Acc 0.4583, Its test avg acc 0.3265.\n",
            "2020-07-13 19:00:40,387 Got a new best model on Test with Overall ACC 0.6268. Its avg acc is 0.4867\n",
            "2020-07-13 19:00:40,462 save a new best model into log/ModelNet40-res-edge-n14-C64-k9-drop0.5-lr0.001_B32_seed1_20200713-185006_4aae9435-5768-4694-bdf3-2df88dbcef00/checkpoint/ModelNet40-res-edge-n14-C64-k9-drop0.5-lr0.001_B32_seed1-best_model.pth\n",
            "2020-07-13 19:00:40,462 ===> Epoch 1/400, Train Loss 2.4885, Test Overall Acc 0.6268, Test Avg Acc 0.486698, Best Test Overall Acc 0.6268, Its test avg acc 0.4867.\n",
            "2020-07-13 19:05:54,806 Got a new best model on Test with Overall ACC 0.7152. Its avg acc is 0.5824\n",
            "2020-07-13 19:05:54,876 save a new best model into log/ModelNet40-res-edge-n14-C64-k9-drop0.5-lr0.001_B32_seed1_20200713-185006_4aae9435-5768-4694-bdf3-2df88dbcef00/checkpoint/ModelNet40-res-edge-n14-C64-k9-drop0.5-lr0.001_B32_seed1-best_model.pth\n",
            "2020-07-13 19:05:54,877 ===> Epoch 2/400, Train Loss 2.3009, Test Overall Acc 0.7152, Test Avg Acc 0.582401, Best Test Overall Acc 0.7152, Its test avg acc 0.5824.\n",
            "2020-07-13 19:11:09,479 Got a new best model on Test with Overall ACC 0.7585. Its avg acc is 0.6292\n",
            "2020-07-13 19:11:09,548 save a new best model into log/ModelNet40-res-edge-n14-C64-k9-drop0.5-lr0.001_B32_seed1_20200713-185006_4aae9435-5768-4694-bdf3-2df88dbcef00/checkpoint/ModelNet40-res-edge-n14-C64-k9-drop0.5-lr0.001_B32_seed1-best_model.pth\n",
            "2020-07-13 19:11:09,549 ===> Epoch 3/400, Train Loss 2.2042, Test Overall Acc 0.7585, Test Avg Acc 0.629209, Best Test Overall Acc 0.7585, Its test avg acc 0.6292.\n",
            "2020-07-13 19:16:24,364 ===> Epoch 4/400, Train Loss 2.1176, Test Overall Acc 0.7439, Test Avg Acc 0.624250, Best Test Overall Acc 0.7585, Its test avg acc 0.6292.\n",
            "2020-07-13 19:21:39,351 Got a new best model on Test with Overall ACC 0.7731. Its avg acc is 0.6406\n",
            "2020-07-13 19:21:39,430 save a new best model into log/ModelNet40-res-edge-n14-C64-k9-drop0.5-lr0.001_B32_seed1_20200713-185006_4aae9435-5768-4694-bdf3-2df88dbcef00/checkpoint/ModelNet40-res-edge-n14-C64-k9-drop0.5-lr0.001_B32_seed1-best_model.pth\n",
            "2020-07-13 19:21:39,431 ===> Epoch 5/400, Train Loss 2.0534, Test Overall Acc 0.7731, Test Avg Acc 0.640616, Best Test Overall Acc 0.7731, Its test avg acc 0.6406.\n",
            "2020-07-13 19:26:54,664 Got a new best model on Test with Overall ACC 0.8002. Its avg acc is 0.6943\n",
            "2020-07-13 19:26:54,738 save a new best model into log/ModelNet40-res-edge-n14-C64-k9-drop0.5-lr0.001_B32_seed1_20200713-185006_4aae9435-5768-4694-bdf3-2df88dbcef00/checkpoint/ModelNet40-res-edge-n14-C64-k9-drop0.5-lr0.001_B32_seed1-best_model.pth\n",
            "2020-07-13 19:26:54,739 ===> Epoch 6/400, Train Loss 2.0041, Test Overall Acc 0.8002, Test Avg Acc 0.694349, Best Test Overall Acc 0.8002, Its test avg acc 0.6943.\n",
            "2020-07-13 19:32:09,991 Got a new best model on Test with Overall ACC 0.8039. Its avg acc is 0.6941\n",
            "2020-07-13 19:32:10,070 save a new best model into log/ModelNet40-res-edge-n14-C64-k9-drop0.5-lr0.001_B32_seed1_20200713-185006_4aae9435-5768-4694-bdf3-2df88dbcef00/checkpoint/ModelNet40-res-edge-n14-C64-k9-drop0.5-lr0.001_B32_seed1-best_model.pth\n",
            "2020-07-13 19:32:10,070 ===> Epoch 7/400, Train Loss 1.9560, Test Overall Acc 0.8039, Test Avg Acc 0.694099, Best Test Overall Acc 0.8039, Its test avg acc 0.6941.\n"
          ],
          "name": "stdout"
        }
      ]
    }
  ]
}