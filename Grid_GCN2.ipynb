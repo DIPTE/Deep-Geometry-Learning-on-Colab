{
  "nbformat": 4,
  "nbformat_minor": 0,
  "metadata": {
    "colab": {
      "name": "Grid_GCN.ipynb",
      "provenance": [],
      "machine_shape": "hm",
      "authorship_tag": "ABX9TyMEAuUUErcEe3kKPKIL+4Hs",
      "include_colab_link": true
    },
    "kernelspec": {
      "name": "python3",
      "display_name": "Python 3"
    },
    "accelerator": "GPU"
  },
  "cells": [
    {
      "cell_type": "markdown",
      "metadata": {
        "id": "view-in-github",
        "colab_type": "text"
      },
      "source": [
        "<a href=\"https://colab.research.google.com/github/DIPTE/Deep-Geometry-Learning-on-Colab/blob/master/Grid_GCN2.ipynb\" target=\"_parent\"><img src=\"https://colab.research.google.com/assets/colab-badge.svg\" alt=\"Open In Colab\"/></a>"
      ]
    },
    {
      "cell_type": "code",
      "metadata": {
        "id": "m1ckP8itb75O",
        "colab_type": "code",
        "colab": {}
      },
      "source": [
        "!ls"
      ],
      "execution_count": null,
      "outputs": []
    },
    {
      "cell_type": "code",
      "metadata": {
        "id": "VyzjWPlRcXq7",
        "colab_type": "code",
        "colab": {}
      },
      "source": [
        "import os\n",
        "os.chdir('/content/Grid_GCN')#切换工作目录"
      ],
      "execution_count": 4,
      "outputs": []
    },
    {
      "cell_type": "code",
      "metadata": {
        "id": "xwohuPnyb_IT",
        "colab_type": "code",
        "colab": {}
      },
      "source": [
        "!git clone https://github.com/honeyhaoyan/Grid_GCN.git"
      ],
      "execution_count": null,
      "outputs": []
    },
    {
      "cell_type": "code",
      "metadata": {
        "id": "eSdz3Bwdcp2y",
        "colab_type": "code",
        "colab": {}
      },
      "source": [
        "import sys\n",
        "cur = '/content/drive/My Drive/Grid_GCN'\n",
        "sys.path.append(cur)"
      ],
      "execution_count": null,
      "outputs": []
    },
    {
      "cell_type": "code",
      "metadata": {
        "id": "7_941KA_czdj",
        "colab_type": "code",
        "colab": {}
      },
      "source": [
        "!nvcc -V"
      ],
      "execution_count": null,
      "outputs": []
    },
    {
      "cell_type": "code",
      "metadata": {
        "id": "m6PYs1GZc72S",
        "colab_type": "code",
        "colab": {}
      },
      "source": [
        "!pip install dgl-cu101"
      ],
      "execution_count": null,
      "outputs": []
    },
    {
      "cell_type": "code",
      "metadata": {
        "id": "OVCcxtP-dFAs",
        "colab_type": "code",
        "colab": {}
      },
      "source": [
        "!pip install pyinstrument"
      ],
      "execution_count": null,
      "outputs": []
    },
    {
      "cell_type": "code",
      "metadata": {
        "id": "EUFVkQ3bdWBD",
        "colab_type": "code",
        "colab": {}
      },
      "source": [
        "!apt install lshw -y\n",
        "!lshw -C display"
      ],
      "execution_count": null,
      "outputs": []
    },
    {
      "cell_type": "code",
      "metadata": {
        "id": "2OpjpEs4Fcdp",
        "colab_type": "code",
        "colab": {}
      },
      "source": [
        "!wget https://shapenet.cs.stanford.edu/media/modelnet40_normal_resampled.zip --no-check-certificate; unzip modelnet40_normal_resampled.zip"
      ],
      "execution_count": null,
      "outputs": []
    },
    {
      "cell_type": "code",
      "metadata": {
        "id": "oL2-JuHPFhyO",
        "colab_type": "code",
        "colab": {
          "base_uri": "https://localhost:8080/",
          "height": 130
        },
        "outputId": "ea22a23a-87f8-42ff-ead6-d7805b4d5158"
      },
      "source": [
        "!python train_cls.py"
      ],
      "execution_count": null,
      "outputs": [
        {
          "output_type": "stream",
          "text": [
            "Using backend: pytorch\n",
            "The size of train data is 9843\n",
            "The size of test data is 2468\n",
            "100% 307/307 [14:27:04<00:00, 169.46s/it, AvgLoss=2.37474, AvgAcc=0.37001]\n",
            "Epoch #0 Testing\n",
            " 64% 49/77 [2:25:47<1:23:37, 179.19s/it, AvgAcc=0.14222]"
          ],
          "name": "stdout"
        }
      ]
    }
  ]
}